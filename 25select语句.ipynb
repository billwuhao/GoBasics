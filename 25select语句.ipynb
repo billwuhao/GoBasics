{
 "cells": [
  {
   "cell_type": "markdown",
   "id": "cebdfcac-7dea-40ec-b20a-b7b914e5e849",
   "metadata": {},
   "source": [
    "# select 语句\n",
    "\n",
    "select 语句选择可能发生通信的集。它看起来与 switch 语句类似，但其 case 为涉及到通信的操作。\n",
    "\n",
    "    select {\n",
    "    case 发送语句或接收语句:\n",
    "            ...\n",
    "    case ...:\n",
    "            ...\n",
    "            ...\n",
    "    default: \n",
    "            ...\n",
    "    }\n",
    "    \n",
    "default 语句是可选的，可以在 select 语句中任何位置；没有 fallthrough 语句。在任何一个 case 中执行 break 或者 return，select 就结束了。\n",
    "\n",
    "select 做的就是：选择处理列出的多个通信情况中的一个。\n",
    "\n",
    "- 如果都阻塞了，会等待直到其中一个可以处理\n",
    "- 如果多个可以处理，随机选择一个\n",
    "- 如果没有通道操作可以处理并且写了 default 语句，它就会执行：default 永远是可运行的（这就是准备好了，可以执行）。\n",
    "\n",
    "在 select 中使用发送操作并且有 default 可以确保发送不被阻塞！如果没有 default，select 就会一直阻塞。"
   ]
  },
  {
   "cell_type": "code",
   "execution_count": 16,
   "id": "edd00930-b8bf-4cce-9478-f69e87c0b099",
   "metadata": {},
   "outputs": [
    {
     "name": "stdout",
     "output_type": "stream",
     "text": [
      "c2 received:  How are you\n"
     ]
    }
   ],
   "source": [
    "import \"fmt\"\n",
    "\n",
    "c1 := make(chan string, 1)\n",
    "c2 := make(chan string, 1)\n",
    "\n",
    "c1 <- \"hello\"\n",
    "c2 <- \"How are you\"\n",
    "\n",
    "select {\n",
    "case msg1 := <-c1:\n",
    "    fmt.Println(\"c1 received: \", msg1)\n",
    "case msg2 := <-c2:\n",
    "    fmt.Println(\"c2 received: \", msg2)\n",
    "default:\n",
    "    fmt.Println(\"No data received.\")\n",
    "}"
   ]
  },
  {
   "cell_type": "code",
   "execution_count": 3,
   "id": "294f4487-c661-4d50-bb1a-743d66590e9a",
   "metadata": {},
   "outputs": [
    {
     "name": "stdout",
     "output_type": "stream",
     "text": [
      "Received on channel 2: 5\n",
      "Received on channel 1: 0\n",
      "Received on channel 2: 6\n",
      "Received on channel 2: 7\n",
      "Received on channel 2: 8\n",
      "Received on channel 1: 2\n",
      "Received on channel 2: 9\n",
      "Received on channel 2: 10\n",
      "Received on channel 2: 11\n",
      "Received on channel 1: 4\n",
      "Received on channel 2: 12\n",
      "Received on channel 2: 13\n",
      "Received on channel 1: 6\n",
      "Received on channel 2: 14\n",
      "Received on channel 1: 8\n",
      "Received on channel 1: 10\n",
      "Received on channel 1: 12\n",
      "Received on channel 1: 14\n",
      "Received on channel 1: 16\n",
      "Received on channel 1: 18\n"
     ]
    }
   ],
   "source": [
    "import (\n",
    "    \"fmt\"\n",
    "    \"time\"\n",
    ")\n",
    "\n",
    "\n",
    "func pump1(ch chan int) {\n",
    "    for i := 0; i < 10; i++ {\n",
    "        ch <- i * 2\n",
    "    }\n",
    "}\n",
    "\n",
    "func pump2(ch chan int) {\n",
    "    for i := 0; i < 10; i++ {\n",
    "        ch <- i + 5\n",
    "    }\n",
    "}\n",
    "\n",
    "func suck(ch1, ch2 chan int) {\n",
    "    for {\n",
    "        select {\n",
    "        case v := <-ch1:\n",
    "            fmt.Printf(\"Received on channel 1: %d\\n\", v)\n",
    "        case v := <-ch2:\n",
    "            fmt.Printf(\"Received on channel 2: %d\\n\", v)\n",
    "        }\n",
    "    }\n",
    "}\n",
    "\n",
    "ch1 := make(chan int)\n",
    "ch2 := make(chan int)\n",
    "\n",
    "go pump1(ch1)\n",
    "go pump2(ch2)\n",
    "go suck(ch1, ch2)\n",
    "\n",
    "time.Sleep(1e9)"
   ]
  },
  {
   "cell_type": "code",
   "execution_count": null,
   "id": "9040407c-0f51-4b77-a0d9-c7135de442c1",
   "metadata": {},
   "outputs": [
    {
     "name": "stdout",
     "output_type": "stream",
     "text": [
      "write 0\n",
      "res: 0\n",
      "write 1\n",
      "write 2\n",
      "write 3\n",
      "res: 1\n",
      "write 4\n",
      "write 5\n",
      "write 6\n",
      "channel full\n",
      "res: 2\n",
      "write 8\n",
      "channel full\n",
      "res: 3\n",
      "res: 4\n",
      "res: 5\n",
      "res: 6\n",
      "res: 8\n"
     ]
    }
   ],
   "source": [
    "import (\n",
    "    \"fmt\"\n",
    "    \"time\"\n",
    ")\n",
    "\n",
    "func write(ch chan int) {\n",
    "    for i := 0; i < 10; i++ {\n",
    "        select {\n",
    "        case ch <- int(i):\n",
    "            fmt.Println(\"write\", i)\n",
    "        default:\n",
    "            fmt.Println(\"channel full\")\n",
    "        }\n",
    "        time.Sleep(time.Millisecond * 500)\n",
    "    }\n",
    "}\n",
    "\n",
    "output1 := make(chan int, 5)\n",
    "go write(output1)\n",
    "for s := range output1 {\n",
    "    fmt.Println(\"res:\", s)\n",
    "    time.Sleep(2 * time.Second)\n",
    "}"
   ]
  }
 ],
 "metadata": {
  "kernelspec": {
   "display_name": "Go",
   "language": "go",
   "name": "go"
  },
  "language_info": {
   "file_extension": ".go",
   "mimetype": "",
   "name": "go",
   "nbconvert_exporter": "",
   "pygments_lexer": "",
   "version": "go1.16.2"
  }
 },
 "nbformat": 4,
 "nbformat_minor": 2
}
