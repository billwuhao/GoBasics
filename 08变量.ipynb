{
 "cells": [
  {
   "cell_type": "markdown",
   "id": "8cb18d91-a093-498a-a212-5aeec16583e8",
   "metadata": {},
   "source": [
    "# 变量\n",
    "\n",
    "变量声明将标识符声明为变量。语法：`var 标识符 类型 = 表达式`，类型或表达式是可选的。\n",
    "\n",
    "无 `表达式`，则变量初始值为 `类型` 的零值："
   ]
  },
  {
   "cell_type": "code",
   "execution_count": 8,
   "id": "808eba9d-dd5f-489e-b9f0-5a0c97e7ecad",
   "metadata": {},
   "outputs": [
    {
     "data": {
      "text/plain": [
       "0"
      ]
     },
     "execution_count": 8,
     "metadata": {},
     "output_type": "execute_result"
    }
   ],
   "source": [
    "var i float32\n",
    "i"
   ]
  },
  {
   "cell_type": "code",
   "execution_count": 9,
   "id": "bc0847eb-8d55-4954-a478-4ac421ec7abb",
   "metadata": {},
   "outputs": [
    {
     "data": {
      "text/plain": []
     },
     "execution_count": 9,
     "metadata": {},
     "output_type": "execute_result"
    }
   ],
   "source": [
    "var s string\n",
    "s // 空字符串"
   ]
  },
  {
   "cell_type": "markdown",
   "id": "1b4432d1-d9c3-4b78-94ef-bbf08e4f4628",
   "metadata": {},
   "source": [
    "无 `类型` 且其对应 `表达式` 计算结果为无类型化常量， 则该变量的类型由其赋值描述："
   ]
  },
  {
   "cell_type": "code",
   "execution_count": 11,
   "id": "9ace37a5-c54f-4cd4-9757-f2c363de906b",
   "metadata": {},
   "outputs": [
    {
     "ename": "ERROR",
     "evalue": "cannot convert typed constant 1 <float64> to <int>",
     "output_type": "error",
     "traceback": [
      "cannot convert typed constant 1 <float64> to <int>"
     ]
    }
   ],
   "source": [
    "var i = 1 // i 是 int 类型\n",
    "i + float64(1)"
   ]
  },
  {
   "cell_type": "code",
   "execution_count": 12,
   "id": "ac82bc22-6407-4b84-afb9-b9e7d47c5528",
   "metadata": {},
   "outputs": [
    {
     "data": {
      "text/plain": [
       "2"
      ]
     },
     "execution_count": 12,
     "metadata": {},
     "output_type": "execute_result"
    }
   ],
   "source": [
    "var i = 1.0 // i 是 float64 类型\n",
    "i + float64(1)"
   ]
  },
  {
   "cell_type": "markdown",
   "id": "9a767fe3-9e74-4fcf-82cb-6f4652acb4a8",
   "metadata": {},
   "source": [
    "可以同时声明多个变量："
   ]
  },
  {
   "cell_type": "code",
   "execution_count": 13,
   "id": "5487b9d9-6a05-4d63-b28d-dc3e97b056fb",
   "metadata": {},
   "outputs": [],
   "source": [
    "var x, y float32 = -1, -2\n",
    "var (\n",
    "        i       int\n",
    "        u, v, s = 2.0, 3.0, \"bar\"\n",
    ")"
   ]
  },
  {
   "cell_type": "markdown",
   "id": "90446df0-2a65-420a-82dc-3f85ad119712",
   "metadata": {},
   "source": [
    "## 短变量声明\n",
    "\n",
    "短变量声明语法：`标识符 := 表达式`，是常规变量声明 `var 标识符 = 表达式` 的缩写："
   ]
  },
  {
   "cell_type": "code",
   "execution_count": 18,
   "id": "a888fdf3-73f2-488f-a1eb-a1b9d61875ef",
   "metadata": {},
   "outputs": [
    {
     "data": {
      "text/plain": [
       "1"
      ]
     },
     "execution_count": 18,
     "metadata": {},
     "output_type": "execute_result"
    }
   ],
   "source": [
    "i := 1\n",
    "i"
   ]
  },
  {
   "cell_type": "code",
   "execution_count": 22,
   "id": "cce6a2bd-b2e2-4b10-9133-8d3bf78a8dad",
   "metadata": {},
   "outputs": [
    {
     "data": {
      "text/plain": [
       "2"
      ]
     },
     "execution_count": 22,
     "metadata": {},
     "output_type": "execute_result"
    }
   ],
   "source": [
    "x, y := 1, 1.0\n",
    "x + int(1)"
   ]
  },
  {
   "cell_type": "code",
   "execution_count": 24,
   "id": "e94a3be8-d889-43eb-8c97-898dd3aabe77",
   "metadata": {},
   "outputs": [
    {
     "data": {
      "text/plain": [
       "2"
      ]
     },
     "execution_count": 24,
     "metadata": {},
     "output_type": "execute_result"
    }
   ],
   "source": [
    "y + float64(1)"
   ]
  },
  {
   "cell_type": "markdown",
   "id": "b38c2f62-b112-47fa-9d69-e07ed165cdf9",
   "metadata": {},
   "source": [
    "短变量声明只能出现在函数内部。在某些情况下，例如初始化 if、 for、或 switch 语句时，它们可用来声明局部临时变量。\n",
    "\n",
    "变量的命名规则遵循骆驼命名法，即首个单词小写，每个新单词的首字母大写，例如：numShips 和 startDate。\n",
    "\n",
    "但如果你的全局变量希望能够被外部包所使用，则需要将首个单词的首字母也大写。"
   ]
  },
  {
   "cell_type": "markdown",
   "id": "efa0e3a6-c8b1-4f02-8fe9-74c77e0a75d3",
   "metadata": {},
   "source": [
    "## 变量赋值\n",
    "\n",
    "已声明的变量，可以用同类型（或无类型化）的常量或变量给它赋值："
   ]
  },
  {
   "cell_type": "code",
   "execution_count": 26,
   "id": "d9a8b24f-41cc-4ccd-9926-ded3b4750956",
   "metadata": {},
   "outputs": [
    {
     "data": {
      "text/plain": [
       "2"
      ]
     },
     "execution_count": 26,
     "metadata": {},
     "output_type": "execute_result"
    }
   ],
   "source": [
    "var i int // 声明变量 i\n",
    "j := 2    // 声明变量 j (int 类型）\n",
    "i = 1     // 1 赋值给 i\n",
    "i = j     // j 赋值给 i\n",
    "i"
   ]
  },
  {
   "cell_type": "code",
   "execution_count": 27,
   "id": "c43587a9-ab42-407a-995a-064aacc26f73",
   "metadata": {},
   "outputs": [
    {
     "ename": "ERROR",
     "evalue": "repl.go:1:1: error compiling assignment: i = \"abc\"\n\tcannot convert untyped constant {string \"abc\"} to <int>",
     "output_type": "error",
     "traceback": [
      "repl.go:1:1: error compiling assignment: i = \"abc\"\n\tcannot convert untyped constant {string \"abc\"} to <int>"
     ]
    }
   ],
   "source": [
    "i = \"abc\" // 不同类型不可以赋值"
   ]
  },
  {
   "cell_type": "code",
   "execution_count": 29,
   "id": "b10eb063-8780-402c-8ba8-856b51e45811",
   "metadata": {},
   "outputs": [
    {
     "ename": "ERROR",
     "evalue": "repl.go:1:1: error compiling assignment: i = int32(1)\n\tcannot convert typed constant 1 <int32> to <int>",
     "output_type": "error",
     "traceback": [
      "repl.go:1:1: error compiling assignment: i = int32(1)\n\tcannot convert typed constant 1 <int32> to <int>"
     ]
    }
   ],
   "source": [
    "i = int32(1)"
   ]
  },
  {
   "cell_type": "code",
   "execution_count": 28,
   "id": "d1608835-b267-43fd-97c1-504325520db2",
   "metadata": {},
   "outputs": [
    {
     "ename": "ERROR",
     "evalue": "cannot assign to a const: m <untyped.Lit>",
     "output_type": "error",
     "traceback": [
      "cannot assign to a const: m <untyped.Lit>"
     ]
    }
   ],
   "source": [
    "// 提示：常量也不可赋值\n",
    "const m = 1\n",
    "m = 2"
   ]
  }
 ],
 "metadata": {
  "kernelspec": {
   "display_name": "Go",
   "language": "go",
   "name": "go"
  },
  "language_info": {
   "file_extension": ".go",
   "mimetype": "",
   "name": "go",
   "nbconvert_exporter": "",
   "pygments_lexer": "",
   "version": "go1.16.2"
  }
 },
 "nbformat": 4,
 "nbformat_minor": 2
}
