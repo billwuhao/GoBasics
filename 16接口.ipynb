{
 "cells": [
  {
   "cell_type": "markdown",
   "id": "85354559-a280-45fa-8b37-ae57bfe8dd1d",
   "metadata": {},
   "source": [
    "# 接口\n",
    "\n",
    "接口定义了一组方法（方法集），但是这些方法不包含（实现）代码。顾名思义，它就是个 “接口”。\n",
    "\n",
    "通过如下格式定义接口类型：\n",
    "\n",
    "```\n",
    "type 接口名 interface {\n",
    "    方法1(参数列表) 返回值类型\n",
    "    方法2(参数列表) 返回值类型\n",
    "    ...\n",
    "}\n",
    "```\n",
    "\n",
    "类型（比如结构体）可以实现某个接口，这个实现可以描述为，该类型的变量上的每一个具体方法所组成的集合，包含了该接口的方法集：\n",
    "\n",
    "`类型的接口的方法集 ⊂ 类型的方法集`\n",
    "\n",
    "只要类型实现了接口中的方法，它就实现了此接口。下面是接口的例子："
   ]
  },
  {
   "cell_type": "code",
   "execution_count": 5,
   "id": "b0e5b8e7-bf6e-491a-9058-38dd9d4f0a74",
   "metadata": {},
   "outputs": [],
   "source": [
    "// 定义一个结构类型 Square\n",
    "type Square struct {\n",
    "    side float32\n",
    "}"
   ]
  },
  {
   "cell_type": "code",
   "execution_count": 6,
   "id": "e18d62ee-47f7-49a3-a12c-39150306ed8c",
   "metadata": {},
   "outputs": [],
   "source": [
    "// Square 实现了方法 Area\n",
    "func (sq *Square) Area() float32 {\n",
    "    return sq.side * sq.side\n",
    "}"
   ]
  },
  {
   "cell_type": "code",
   "execution_count": 7,
   "id": "2785363d-b7df-442e-8f29-f229e3caf080",
   "metadata": {},
   "outputs": [],
   "source": [
    "// 定义一个接口\n",
    "type Shaper interface {\n",
    "    Area() float32\n",
    "}"
   ]
  },
  {
   "cell_type": "markdown",
   "id": "f3090a3d-99f0-474f-b2cd-cd7b2b8e29ca",
   "metadata": {},
   "source": [
    "类型 Square 实现了接口 Shaper 中的方法，所以它实现了接口 Shaper："
   ]
  },
  {
   "cell_type": "code",
   "execution_count": 16,
   "id": "adc95812-146f-427f-80d1-92014f5e33c4",
   "metadata": {},
   "outputs": [
    {
     "data": {
      "text/plain": [
       "25"
      ]
     },
     "execution_count": 16,
     "metadata": {},
     "output_type": "execute_result"
    }
   ],
   "source": [
    "sq := new(Square) // 创建一个类型的实例 sq\n",
    "sq.side = 5\n",
    "\n",
    "// 实例赋给接口，等价于 sp1 := Shaper(sq)\n",
    "// sp1 := Shaper(sq)\n",
    "var sp1 Shaper\n",
    "sp1 = sq\n",
    "\n",
    "sp1.Area() // 调用接口方法"
   ]
  },
  {
   "cell_type": "markdown",
   "id": "012179c0-6a7c-473a-b59c-6432b061eda5",
   "metadata": {},
   "source": [
    "一个类型可以实现多个接口。\n",
    "\n",
    "多个类型可以实现同一个接口："
   ]
  },
  {
   "cell_type": "code",
   "execution_count": 17,
   "id": "ea1a0348-5fff-4fa5-9e7b-1f2a60676f6c",
   "metadata": {},
   "outputs": [
    {
     "data": {
      "text/plain": [
       "25"
      ]
     },
     "execution_count": 17,
     "metadata": {},
     "output_type": "execute_result"
    }
   ],
   "source": [
    "type myfloat float32\n",
    "\n",
    "func (m myfloat) Area() float32 {\n",
    "    return float32(m * m)\n",
    "}\n",
    "\n",
    "x := myfloat(5)\n",
    "sp2 := Shaper(x)\n",
    "sp2.Area() // 调用接口方法"
   ]
  },
  {
   "cell_type": "markdown",
   "id": "d111f3cf-ca7b-4303-9757-5137216df610",
   "metadata": {},
   "source": [
    "所有类型都实现了空接口 `interface{}` 类型："
   ]
  },
  {
   "cell_type": "code",
   "execution_count": 9,
   "id": "6baf7502-0c32-4953-8643-139ff8cc52b2",
   "metadata": {},
   "outputs": [
    {
     "data": {
      "text/plain": [
       "1"
      ]
     },
     "execution_count": 9,
     "metadata": {},
     "output_type": "execute_result"
    }
   ],
   "source": [
    "type Emptyer interface{}\n",
    "Emptyer(1)"
   ]
  },
  {
   "cell_type": "code",
   "execution_count": 10,
   "id": "668a629a-6862-48b2-90b6-957370918a97",
   "metadata": {},
   "outputs": [
    {
     "data": {
      "text/plain": [
       "true"
      ]
     },
     "execution_count": 10,
     "metadata": {},
     "output_type": "execute_result"
    }
   ],
   "source": [
    "Emptyer(true)"
   ]
  },
  {
   "cell_type": "markdown",
   "id": "55fabd01-f47c-407d-b472-326c1feb072f",
   "metadata": {},
   "source": [
    "接口类型可以显式指定方法，也可以通过接口类型名称嵌入其他接口的方法。此时接口的方法集包含嵌入接口的方法："
   ]
  },
  {
   "cell_type": "markdown",
   "id": "df032cdc-097c-4165-9deb-3f7a3f0c97cc",
   "metadata": {},
   "source": [
    "    type Reader interface {\n",
    "            Read(p []byte) (n int, err error)\n",
    "            Close() error\n",
    "    }\n",
    "\n",
    "    type Writer interface {\n",
    "            Write(p []byte) (n int, err error)\n",
    "            Close() error\n",
    "    }\n",
    "\n",
    "    // ReadWriter's methods are Read, Write, and Close.\n",
    "    type ReadWriter interface {\n",
    "            Reader  // includes methods of Reader in ReadWriter's method set\n",
    "            Writer  // includes methods of Writer in ReadWriter's method set\n",
    "    }"
   ]
  },
  {
   "cell_type": "markdown",
   "id": "1352dd3d-a3a0-4d3a-a551-af0278544f17",
   "metadata": {},
   "source": [
    "接口中每个显式指定的方法的名称必须是非空白（`_`）且唯一的。"
   ]
  },
  {
   "cell_type": "markdown",
   "id": "0cdf3000-3ac0-4349-8633-4cbb005b9740",
   "metadata": {},
   "source": [
    "**类型断言**：\n",
    "\n",
    "一个接口类型的变量 `x` 中可以包含任何类型的值，必须有一种方式来检测它的 *动态* 类型，即运行时在变量中存储的值的实际类型。在执行过程中动态类型可能会有所不同，但是它总是可以分配给接口变量本身的类型。通常我们可以使用 类型断言 来测试在某个时刻 `x` 是否包含类型 `T` 的值。\n",
    "\n",
    "类型断言表达式：\n",
    "\n",
    "    x.(T)\n",
    "    \n",
    "断言的结果为 `(类型T的值, bool)` 的值对。若类型断言成立，表达式的值即为 `x` 转换到类型 `T` 的值和 `true`，否则表达式的值是类型 `T` 的零值和 `false`："
   ]
  },
  {
   "cell_type": "code",
   "execution_count": 8,
   "id": "7339823d-c7d7-47a2-8827-ad80be5f1128",
   "metadata": {},
   "outputs": [],
   "source": [
    "import \"math\"\n",
    "\n",
    "type Square struct {\n",
    "    side float32\n",
    "}\n",
    "\n",
    "type Circle struct {\n",
    "    radius float32\n",
    "}\n",
    "\n",
    "type Shaper interface {\n",
    "    Area() float32\n",
    "}\n",
    "\n",
    "func (sq *Square) Area() float32 {\n",
    "    return sq.side * sq.side\n",
    "}\n",
    "\n",
    "func (ci *Circle) Area() float32 {\n",
    "    return ci.radius * ci.radius * math.Pi\n",
    "}\n",
    "\n",
    "sq1 := new(Square)\n",
    "sq1.side = 5\n",
    "\n",
    "x := Shaper(sq1)"
   ]
  },
  {
   "cell_type": "code",
   "execution_count": 9,
   "id": "c060c3c9-a7cb-4426-b21b-11356ce09ac7",
   "metadata": {},
   "outputs": [
    {
     "data": {
      "text/plain": [
       "&{5} true"
      ]
     },
     "execution_count": 9,
     "metadata": {},
     "output_type": "execute_result"
    }
   ],
   "source": [
    "x.(*Square) // 成功"
   ]
  },
  {
   "cell_type": "code",
   "execution_count": 10,
   "id": "0cfaf18c-3380-40e2-bcd5-dd4cb26541d4",
   "metadata": {},
   "outputs": [
    {
     "data": {
      "text/plain": [
       "<nil> false"
      ]
     },
     "execution_count": 10,
     "metadata": {},
     "output_type": "execute_result"
    }
   ],
   "source": [
    "x.(*Circle) // 失败"
   ]
  },
  {
   "cell_type": "markdown",
   "id": "a4f5c8ff-9ec2-4557-bc56-d5536f8c6d36",
   "metadata": {},
   "source": [
    "类型断言可能是无效的，虽然编译器会尽力检查转换是否有效，但是它不可能预见所有的可能性。如果转换在程序运行时失败会导致错误发生。更安全的方式是使用类似以下形式来进行类型断言：\n",
    "\n",
    "    if v, ok := varI.(T); ok {\n",
    "        Process(v)\n",
    "        return\n",
    "    }"
   ]
  }
 ],
 "metadata": {
  "kernelspec": {
   "display_name": "Go",
   "language": "go",
   "name": "gophernotes"
  },
  "language_info": {
   "codemirror_mode": "",
   "file_extension": ".go",
   "mimetype": "",
   "name": "go",
   "nbconvert_exporter": "",
   "pygments_lexer": "",
   "version": "go1.17.3"
  }
 },
 "nbformat": 4,
 "nbformat_minor": 5
}
