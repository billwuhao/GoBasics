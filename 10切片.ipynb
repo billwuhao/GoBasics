{
 "cells": [
  {
   "cell_type": "markdown",
   "id": "cf9f8bcc-cfdd-4255-abed-91c91d7691ac",
   "metadata": {},
   "source": [
    "# 切片\n",
    "\n",
    "切片（slice）是对数组从 `起始` 到 `终止`（不包括`终止`）索引的一个连续片段的引用。该数组我们称之为 `相关数组`，这个片段可以是整个数组，或者是其子集。\n",
    "\n",
    "`起始` 是 0 时可省略，`终止` 是最后一个元素时也可省略："
   ]
  },
  {
   "cell_type": "code",
   "execution_count": 22,
   "id": "f0b01088-dc34-45d3-91e1-ae7c1f7c3624",
   "metadata": {},
   "outputs": [
    {
     "data": {
      "text/plain": [
       "[0 0]"
      ]
     },
     "execution_count": 22,
     "metadata": {},
     "output_type": "execute_result"
    }
   ],
   "source": [
    "var arr [5]int\n",
    "\n",
    "arr[1:3]"
   ]
  },
  {
   "cell_type": "code",
   "execution_count": 23,
   "id": "7de8b71b-72e9-4507-bdd9-6627f800fdef",
   "metadata": {},
   "outputs": [
    {
     "data": {
      "text/plain": [
       "[0 0 0]"
      ]
     },
     "execution_count": 23,
     "metadata": {},
     "output_type": "execute_result"
    }
   ],
   "source": [
    "arr[:3]"
   ]
  },
  {
   "cell_type": "code",
   "execution_count": 24,
   "id": "edcb535e-ed24-436b-a85e-9c5dd388e7d8",
   "metadata": {},
   "outputs": [
    {
     "data": {
      "text/plain": [
       "[0 0 0 0 0]"
      ]
     },
     "execution_count": 24,
     "metadata": {},
     "output_type": "execute_result"
    }
   ],
   "source": [
    "arr[:]"
   ]
  },
  {
   "cell_type": "markdown",
   "id": "c7f1797a-4909-497c-a34b-4c686e556a99",
   "metadata": {},
   "source": [
    "声明一个没有初始化的空切片和数组声明类似，语法 `var 标识符 []类型`，没有 `长度`："
   ]
  },
  {
   "cell_type": "code",
   "execution_count": 51,
   "id": "dc3103f5-8d63-4fa7-83c2-77b0a754b892",
   "metadata": {},
   "outputs": [
    {
     "data": {
      "text/plain": [
       "[]"
      ]
     },
     "execution_count": 51,
     "metadata": {},
     "output_type": "execute_result"
    }
   ],
   "source": [
    "var s []int // 声明一个没有初始化的空切片\n",
    "s"
   ]
  },
  {
   "cell_type": "code",
   "execution_count": 54,
   "id": "8af9adc5-09e8-4406-8b87-48905eef349a",
   "metadata": {},
   "outputs": [
    {
     "data": {
      "text/plain": [
       "[]int"
      ]
     },
     "execution_count": 54,
     "metadata": {},
     "output_type": "execute_result"
    }
   ],
   "source": [
    "import \"fmt\"\n",
    "fmt.Sprintf(\"%T\",s) // 切片 s 的类型"
   ]
  },
  {
   "cell_type": "code",
   "execution_count": 55,
   "id": "aaef505c-1760-4457-bde2-14c815390877",
   "metadata": {},
   "outputs": [
    {
     "data": {
      "text/plain": [
       "[1 2 3]"
      ]
     },
     "execution_count": 55,
     "metadata": {},
     "output_type": "execute_result"
    }
   ],
   "source": [
    "var s1 = []int{1,2,3} // 声明一个包含元素 1，2，3 的切片\n",
    "s1"
   ]
  },
  {
   "cell_type": "code",
   "execution_count": 56,
   "id": "65ff3d53-917b-4569-a93d-61337b29ab4a",
   "metadata": {},
   "outputs": [
    {
     "data": {
      "text/plain": [
       "[]int"
      ]
     },
     "execution_count": 56,
     "metadata": {},
     "output_type": "execute_result"
    }
   ],
   "source": [
    "import \"fmt\"\n",
    "fmt.Sprintf(\"%T\",s1) // 切片 s1 的类型"
   ]
  },
  {
   "cell_type": "code",
   "execution_count": 1,
   "id": "1c89820b-7777-412d-9ffd-741ddb1aa57b",
   "metadata": {},
   "outputs": [
    {
     "data": {
      "text/plain": [
       "[2 3]"
      ]
     },
     "execution_count": 1,
     "metadata": {},
     "output_type": "execute_result"
    }
   ],
   "source": [
    "[5]int{1,2,3,4,5}[1:3]"
   ]
  },
  {
   "cell_type": "code",
   "execution_count": 52,
   "id": "003fbbab-f1a5-4acd-a21d-894a2064b505",
   "metadata": {},
   "outputs": [
    {
     "data": {
      "text/plain": [
       "[97 98 99]"
      ]
     },
     "execution_count": 52,
     "metadata": {},
     "output_type": "execute_result"
    }
   ],
   "source": [
    "arr := [3]int{'a','b','c'}\n",
    "arr[:] // 数组 arr 的切片\n",
    "s = arr[:] // 赋值给切片 s\n",
    "s"
   ]
  },
  {
   "cell_type": "markdown",
   "id": "9bd8647d-ab15-4d41-9a30-5ebd03497d8a",
   "metadata": {},
   "source": [
    "## 切片的长度和容量\n",
    "\n",
    "切片是一个长度可变的数组，切片的长度可以在运行时修改，最小为 0，最大可为相关数组的长度。len() 函数查看切片长度，等于切片中元素个数，cap() 函数查看切片容量，等于切片的长度 + 切片后面数组的长度："
   ]
  },
  {
   "cell_type": "code",
   "execution_count": 43,
   "id": "643fd57e-ac5a-40bf-84a5-a7c746ad401e",
   "metadata": {},
   "outputs": [
    {
     "data": {
      "text/plain": [
       "0"
      ]
     },
     "execution_count": 43,
     "metadata": {},
     "output_type": "execute_result"
    }
   ],
   "source": [
    "var s []int\n",
    "len(s)"
   ]
  },
  {
   "cell_type": "code",
   "execution_count": 44,
   "id": "e0198317-756c-440f-97cc-be090fd8ee45",
   "metadata": {},
   "outputs": [
    {
     "data": {
      "text/plain": [
       "0"
      ]
     },
     "execution_count": 44,
     "metadata": {},
     "output_type": "execute_result"
    }
   ],
   "source": [
    "cap(s)"
   ]
  },
  {
   "cell_type": "code",
   "execution_count": 69,
   "id": "8525b9a3-f25c-4be4-a82c-ccae27e9c4d4",
   "metadata": {},
   "outputs": [
    {
     "data": {
      "text/plain": [
       "2"
      ]
     },
     "execution_count": 69,
     "metadata": {},
     "output_type": "execute_result"
    }
   ],
   "source": [
    "arr := [6]int{1,2,3,4,5,6}\n",
    "s = arr[1:3] // s 是 arr 的切片\n",
    "len(s)"
   ]
  },
  {
   "cell_type": "code",
   "execution_count": 70,
   "id": "08d976b5-9b00-4d24-9f2e-70484d69a212",
   "metadata": {},
   "outputs": [
    {
     "data": {
      "text/plain": [
       "5"
      ]
     },
     "execution_count": 70,
     "metadata": {},
     "output_type": "execute_result"
    }
   ],
   "source": [
    "cap(s) // 切片长度 2，后面还有 [4,5,6]，所以容量是 5"
   ]
  },
  {
   "cell_type": "code",
   "execution_count": 71,
   "id": "f3c0c994-30e4-4074-9317-632bbb07f8e0",
   "metadata": {},
   "outputs": [
    {
     "data": {
      "text/plain": [
       "6"
      ]
     },
     "execution_count": 71,
     "metadata": {},
     "output_type": "execute_result"
    }
   ],
   "source": [
    "len(arr)"
   ]
  },
  {
   "cell_type": "code",
   "execution_count": 72,
   "id": "0a1d2b32-1a51-43f6-9aa2-97725ccea662",
   "metadata": {},
   "outputs": [
    {
     "data": {
      "text/plain": [
       "[2 3 4 5 6]"
      ]
     },
     "execution_count": 72,
     "metadata": {},
     "output_type": "execute_result"
    }
   ],
   "source": [
    "s = s[0:5] // 扩展切片，不能超过最大容量\n",
    "s"
   ]
  },
  {
   "cell_type": "markdown",
   "id": "d3a62d91-e603-4470-adad-5b77b5dbd67b",
   "metadata": {},
   "source": [
    "## 切片重组\n",
    "\n",
    "改变切片长度的过程称之为切片重组 reslicing，做法如下：`slice1 = slice1[0:end]`，其中 `end` 是新的末尾索引（即长度）。"
   ]
  },
  {
   "cell_type": "code",
   "execution_count": 79,
   "id": "ef54ac8f-e511-4618-9cd2-c8ebc5e4dee9",
   "metadata": {},
   "outputs": [
    {
     "data": {
      "text/plain": [
       "[1]"
      ]
     },
     "execution_count": 79,
     "metadata": {},
     "output_type": "execute_result"
    }
   ],
   "source": [
    "s := [5]int{1,2,3,4,5}[:1]\n",
    "s"
   ]
  },
  {
   "cell_type": "code",
   "execution_count": 80,
   "id": "cbccdd7d-f2ac-4834-82c5-47d23d248357",
   "metadata": {},
   "outputs": [
    {
     "data": {
      "text/plain": [
       "[1 2]"
      ]
     },
     "execution_count": 80,
     "metadata": {},
     "output_type": "execute_result"
    }
   ],
   "source": [
    "s = s[0:2]\n",
    "s"
   ]
  },
  {
   "cell_type": "code",
   "execution_count": 81,
   "id": "8a8a187a-d22a-4e08-bcee-ba671aeb2043",
   "metadata": {},
   "outputs": [
    {
     "data": {
      "text/plain": [
       "[1 2 3 4]"
      ]
     },
     "execution_count": 81,
     "metadata": {},
     "output_type": "execute_result"
    }
   ],
   "source": [
    "s = s[0:4]\n",
    "s"
   ]
  },
  {
   "cell_type": "markdown",
   "id": "0d4fc2d5-c88b-464e-8ae3-ab0bd499d8ba",
   "metadata": {},
   "source": [
    "多个切片如果表示同一个数组的片段，它们可以共享数据；因此一个切片和相关数组的其他切片是共享存储的，相反，不同的数组总是代表不同的存储。\n",
    "\n",
    "因为切片是引用，所以它们不需要使用额外的内存并且比使用数组更有效率，所以在 Go 代码中切片比数组更常用。"
   ]
  },
  {
   "cell_type": "markdown",
   "id": "3e659636-2ce1-4b7b-b431-f79de7cd9903",
   "metadata": {},
   "source": [
    "## 字符串切片\n",
    "\n",
    "字符串本质上是字节数组，可以通过切片将字符串转换为字节数组。占一个字节的字符（例如 ASCII 码的字符）用类型 byte（或 unit8）转换；占多个字节的字符用 rune（或 int32）转化："
   ]
  },
  {
   "cell_type": "code",
   "execution_count": 1,
   "id": "949a84b0-071d-472d-974c-f8f000b36cd0",
   "metadata": {},
   "outputs": [
    {
     "data": {
      "text/plain": [
       "[97 98 99 100 101]"
      ]
     },
     "execution_count": 1,
     "metadata": {},
     "output_type": "execute_result"
    }
   ],
   "source": [
    "[]byte(\"abcde\")"
   ]
  },
  {
   "cell_type": "code",
   "execution_count": 2,
   "id": "aa4de370-0257-4baa-a6e2-2a8401ee6aae",
   "metadata": {},
   "outputs": [
    {
     "data": {
      "text/plain": [
       "[22909 22909 23398 20064]"
      ]
     },
     "execution_count": 2,
     "metadata": {},
     "output_type": "execute_result"
    }
   ],
   "source": [
    "[]int32(\"好好学习\")"
   ]
  },
  {
   "cell_type": "code",
   "execution_count": 3,
   "id": "331e2234-ab92-4b55-88d0-f51d3966b213",
   "metadata": {},
   "outputs": [
    {
     "data": {
      "text/plain": [
       "[229 165 189 229 165 189 229 173 166 228 185 160]"
      ]
     },
     "execution_count": 3,
     "metadata": {},
     "output_type": "execute_result"
    }
   ],
   "source": [
    "[]byte(\"好好学习\") // 占多个字节的字符按单个字节转换了"
   ]
  },
  {
   "cell_type": "markdown",
   "id": "b02f9288-0e4a-4cd6-910e-7e35674a3e20",
   "metadata": {},
   "source": [
    "占一个字节字符构成的字符串，可以直接用“切片”获取某个片段："
   ]
  },
  {
   "cell_type": "code",
   "execution_count": 4,
   "id": "6a6326db-73b0-4280-a772-1e34fd544b8d",
   "metadata": {},
   "outputs": [
    {
     "data": {
      "text/plain": [
       "abcd"
      ]
     },
     "execution_count": 4,
     "metadata": {},
     "output_type": "execute_result"
    }
   ],
   "source": [
    "\"abcdef\"[:4]"
   ]
  },
  {
   "cell_type": "code",
   "execution_count": 5,
   "id": "7f73476c-328c-4fb6-bd2a-d24dfd7b4c0d",
   "metadata": {},
   "outputs": [
    {
     "data": {
      "text/plain": [
       "好�"
      ]
     },
     "execution_count": 5,
     "metadata": {},
     "output_type": "execute_result"
    }
   ],
   "source": [
    "\"好好学习\"[:4] // 占多个字节的按单个字节获取了"
   ]
  },
  {
   "cell_type": "markdown",
   "id": "d5c413c5-9f3f-4384-b76d-9844ba03db8b",
   "metadata": {},
   "source": [
    "占多个字节的字符构成的字符串，可以转为字节数组，切片，然后转回字符串："
   ]
  },
  {
   "cell_type": "code",
   "execution_count": 6,
   "id": "fdadce56-dc11-43ac-9ba5-3e01e14890ab",
   "metadata": {},
   "outputs": [
    {
     "data": {
      "text/plain": [
       "好好"
      ]
     },
     "execution_count": 6,
     "metadata": {},
     "output_type": "execute_result"
    }
   ],
   "source": [
    "string([]rune(\"好好学习\")[:2])"
   ]
  },
  {
   "cell_type": "markdown",
   "id": "d60c2e37-3000-4fec-aab9-cf010c31a912",
   "metadata": {},
   "source": [
    "字符串是不可变的，不能通过索引修改字符串，但可以转换为字节数组后修改，再转回字符串，实现修改："
   ]
  },
  {
   "cell_type": "code",
   "execution_count": 7,
   "id": "20bbb267-f725-4bd2-88e5-4f850c7bf295",
   "metadata": {},
   "outputs": [
    {
     "data": {
      "text/plain": [
       "好好练习"
      ]
     },
     "execution_count": 7,
     "metadata": {},
     "output_type": "execute_result"
    }
   ],
   "source": [
    "s := []rune(\"好好学习\")\n",
    "s[2] = 32451\n",
    "string(s)"
   ]
  }
 ],
 "metadata": {
  "kernelspec": {
   "display_name": "Go",
   "language": "go",
   "name": "go"
  },
  "language_info": {
   "file_extension": ".go",
   "mimetype": "",
   "name": "go",
   "nbconvert_exporter": "",
   "pygments_lexer": "",
   "version": "go1.16.2"
  }
 },
 "nbformat": 4,
 "nbformat_minor": 2
}
