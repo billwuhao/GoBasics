{
 "cells": [
  {
   "cell_type": "markdown",
   "id": "f48797b1-3372-486d-927e-7aaffa187d01",
   "metadata": {},
   "source": [
    "# 注释，标识符和关键字\n",
    "\n",
    "## 注释\n",
    "\n",
    "- 行注释 以 `//` 开始，至行尾结束。一条行注释视为一个换行符。\n",
    "- 块注释 以 `/*` 开始，至 `*/` 结束。 块注释在包含多行时视为一个换行符，否则视为一个空格。\n",
    "- 注释不可嵌套。"
   ]
  },
  {
   "cell_type": "code",
   "execution_count": 1,
   "id": "64c4c6b2-3951-4e8b-8d01-50e18068c841",
   "metadata": {},
   "outputs": [
    {
     "data": {
      "text/plain": [
       "ab"
      ]
     },
     "execution_count": 1,
     "metadata": {},
     "output_type": "execute_result"
    }
   ],
   "source": [
    "// 这是行注释\n",
    "\"a\" + /* 这是块注释 */ \"b\""
   ]
  },
  {
   "cell_type": "code",
   "execution_count": 2,
   "id": "e6c734c7-7038-43d7-9a92-45eb2857533e",
   "metadata": {},
   "outputs": [],
   "source": [
    "/* 这是块注释\n",
    "这是块注释\n",
    "这是块注释 */"
   ]
  },
  {
   "cell_type": "markdown",
   "id": "9611e552-0970-4ea7-b828-e2a37929c208",
   "metadata": {},
   "source": [
    "## 标识符\n",
    "\n",
    "标识符被用来命名程序实体，例如变量和类型。一个标识符由一个或多个 Unicode 字母和数字组成。 标识符的第一个字符必须是字母。\n",
    "\n",
    "下划线字符 `_`（U+005F）被视为一个字母。在 [Unicode 标准](https://unicode.org/reports/tr44/#GC_Values_Table)中类别 Lu，Ll，Lt，Lm 及 Lo 被视为 Unicode 字母，类别 Nd 被视为 Unicode 数字。\n",
    "\n",
    "合法的标识符举例："
   ]
  },
  {
   "cell_type": "code",
   "execution_count": 4,
   "id": "bb26d974-0451-4e90-952b-521a2a81845a",
   "metadata": {},
   "outputs": [],
   "source": [
    "_name := \"go\"\n",
    "数字 := 123\n",
    "X56 := 56"
   ]
  },
  {
   "cell_type": "code",
   "execution_count": 5,
   "id": "c8a376b9-d68a-4b13-9895-59516af455ac",
   "metadata": {},
   "outputs": [
    {
     "ename": "ERROR",
     "evalue": "repl.go:1:2: expected ';', found 'IDENT' name",
     "output_type": "error",
     "traceback": [
      "repl.go:1:2: expected ';', found 'IDENT' name"
     ]
    }
   ],
   "source": [
    "1name := \"wang\" // 不合法的标识符"
   ]
  },
  {
   "cell_type": "markdown",
   "id": "c23fd5e1-3955-414d-9be9-f2f50cda4d1e",
   "metadata": {},
   "source": [
    "`_` 是一个特殊的标识符，被称为空白标识符。它可以像其他标识符那样用于变量的声明或赋值（任何类型都可以赋值给它），但任何赋给这个标识符的值都将被抛弃，因此这些值不能在后续的代码中使用，也不可以使用这个标识符作为变量对其它变量进行赋值或运算。\n",
    "\n",
    "go 中有以下标识符是预先声明的：\n",
    "\n",
    "- 类型：\n",
    "\n",
    "        bool byte complex64 complex128 error float32 float64\n",
    "        int int8 int16 int32 int64 rune string\n",
    "        uint uint8 uint16 uint32 uint64 uintptr\n",
    "\n",
    "- 常量：\n",
    "\n",
    "        true false iota\n",
    "\n",
    "- 零值：\n",
    "\n",
    "        nil\n",
    "\n",
    "- 内建函数：\n",
    "\n",
    "        append cap close complex copy delete imag len\n",
    "        make new panic print println real recover"
   ]
  },
  {
   "cell_type": "markdown",
   "id": "f771e51e-b7af-4dc5-9156-935db6d23973",
   "metadata": {},
   "source": [
    "## 关键字\n",
    "\n",
    "以下为 go 保留关键字，不能用作标识符：\n",
    "\n",
    "    break        default      func         interface    select\n",
    "    case         defer        go           map          struct\n",
    "    chan         else         goto         package      switch\n",
    "    const        fallthrough  if           range        type\n",
    "    continue     for          import       return       var"
   ]
  }
 ],
 "metadata": {
  "kernelspec": {
   "display_name": "Go",
   "language": "go",
   "name": "gophernotes"
  },
  "language_info": {
   "codemirror_mode": "",
   "file_extension": ".go",
   "mimetype": "",
   "name": "go",
   "nbconvert_exporter": "",
   "pygments_lexer": "",
   "version": "go1.17.3"
  }
 },
 "nbformat": 4,
 "nbformat_minor": 5
}
