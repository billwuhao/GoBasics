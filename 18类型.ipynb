{
 "cells": [
  {
   "cell_type": "markdown",
   "id": "3ab714c4-d90c-4d98-80db-88c82e628c8c",
   "metadata": {},
   "source": [
    "# 类型\n",
    "\n",
    "类型确定一组值以及特定于这些值的操作和方法。例如数字类型的值有加、减、乘、除操作，字符串类型的值有拼接操作。\n",
    "\n",
    "类型可以用类型名称表示（如果有），或者从现有类型组成一个类型。\n",
    "\n",
    "预先声明的类型：\n",
    "\n",
    "    bool byte complex64 complex128 error float32 float64\n",
    "    int int8 int16 int32 int64 rune string\n",
    "    uint uint8 uint16 uint32 uint64 uintptr\n",
    "    \n",
    "组成的类型例如：\n",
    "\n",
    "数组 `[23]int`, 结构 `struct { x int }`, 映射 `map[string]int`, 函数 `func(int, int) int` 等。\n",
    "\n",
    "每个类型都有一个基础类型。上述预先声明的类型和组成的类型，其基础类型是它自身。\n",
    "\n",
    "通过类型声明引入的类型，它的基础类型是在其类型声明中引用的类型的基础类型。\n",
    "\n",
    "## 类型声明\n",
    "\n",
    "类型声明将标识符（类型名称）绑定到类型。类型声明有两种形式：别名声明和类型定义。\n",
    "\n",
    "别名声明："
   ]
  },
  {
   "cell_type": "code",
   "execution_count": 2,
   "id": "2de15904-4319-4ffb-90eb-5adfe7128622",
   "metadata": {},
   "outputs": [],
   "source": [
    "type newint = int // newint 是 int 的别名，是同一个类型\n",
    "\n",
    "type (\n",
    "    aint = newint \n",
    "    bint = aint\n",
    ") \n",
    "// aint，bint 和 newint 都是 int 的别名，基础类型都是 int"
   ]
  },
  {
   "cell_type": "code",
   "execution_count": 3,
   "id": "ab1b925c-45fa-4a76-af21-c0446b3d9b35",
   "metadata": {},
   "outputs": [
    {
     "data": {
      "text/plain": [
       "1"
      ]
     },
     "execution_count": 3,
     "metadata": {},
     "output_type": "execute_result"
    }
   ],
   "source": [
    "bint(1)"
   ]
  },
  {
   "cell_type": "markdown",
   "id": "f347e02d-a70a-44c3-9ab4-b3c7be6b7e12",
   "metadata": {},
   "source": [
    "类型定义：\n",
    "\n",
    "类型定义创建一个新的、不同的类型，称为 *定义类型（defined type）*，其基础类型和操作与给定类型相同，并将标识符绑定到该类型："
   ]
  },
  {
   "cell_type": "code",
   "execution_count": 4,
   "id": "3ea2bf39-aef0-4150-bf89-0b1cd48d9b9d",
   "metadata": {},
   "outputs": [],
   "source": [
    "type myint int // myint 是一个新类型\n",
    "type youint myint // youint 也是一个新类型\n",
    "// myint, youint 和 int 基础类型都是 int"
   ]
  },
  {
   "cell_type": "code",
   "execution_count": 5,
   "id": "49ecdda2-0ed3-4d3a-bced-c11d94d010b3",
   "metadata": {},
   "outputs": [
    {
     "data": {
      "text/plain": [
       "2"
      ]
     },
     "execution_count": 5,
     "metadata": {},
     "output_type": "execute_result"
    }
   ],
   "source": [
    "myint(1) + youint(1)"
   ]
  },
  {
   "cell_type": "markdown",
   "id": "b3811680-d756-4e73-9f89-430ec8160ae4",
   "metadata": {},
   "source": [
    "定义类型不会继承绑定到给定类型的任何方法，但接口类型或复合类型的元素的方法集保持不变："
   ]
  },
  {
   "cell_type": "code",
   "execution_count": 7,
   "id": "03656f10-b3ec-4f96-b1b0-ac9819612e06",
   "metadata": {},
   "outputs": [
    {
     "data": {
      "text/plain": [
       "2"
      ]
     },
     "execution_count": 7,
     "metadata": {},
     "output_type": "execute_result"
    }
   ],
   "source": [
    "type myint int\n",
    "\n",
    "// 给 myint 创建一个新方法\n",
    "func (m myint) Add() myint {\n",
    "    return m + 1\n",
    "}\n",
    "\n",
    "myint(1).Add()"
   ]
  },
  {
   "cell_type": "code",
   "execution_count": 8,
   "id": "4b5a3108-412d-4ad1-97f7-712c5cd2addd",
   "metadata": {},
   "outputs": [
    {
     "ename": "ERROR",
     "evalue": "repl.go:3:1: invalid qualified type, expecting packagename.identifier, found: youint(1).Add <*ast.SelectorExpr>",
     "output_type": "error",
     "traceback": [
      "repl.go:3:1: invalid qualified type, expecting packagename.identifier, found: youint(1).Add <*ast.SelectorExpr>"
     ]
    }
   ],
   "source": [
    "type youint myint\n",
    "\n",
    "youint(1).Add() // 不会继承"
   ]
  },
  {
   "cell_type": "code",
   "execution_count": 9,
   "id": "6ab0df97-c470-42a2-bc42-acdea3d934ac",
   "metadata": {},
   "outputs": [
    {
     "data": {
      "text/plain": [
       "2"
      ]
     },
     "execution_count": 9,
     "metadata": {},
     "output_type": "execute_result"
    }
   ],
   "source": [
    "type newstruct struct { myint } // myint 是复合类型 struct { myint } 的元素\n",
    "\n",
    "a := newstruct{1}\n",
    "a.myint.Add() // 元素的方法集保持不变"
   ]
  },
  {
   "cell_type": "markdown",
   "id": "f87070cb-ea4a-48f8-8042-695f6a0225ee",
   "metadata": {},
   "source": [
    "## 类型和值的属性\n",
    "\n",
    "定义类型始终与任何其他类型不同。\n",
    "\n",
    "如果两个类型的基础类型在结构上是等效的，则两个类型是相同的：\n",
    "\n",
    "- 如果两个数组类型具有相同的元素类型和相同的数组长度，则它们是相同的。\n",
    "- 如果两个切片类型具有相同的元素类型，则它们是相同的。\n",
    "- 如果两个结构类型具有相同的字段序列，并且相应的字段具有相同的名称、相同的类型和相同的标记，则它们是相同的。来自不同包的非导出字段名称始终不同。\n",
    "- 如果两个指针类型具有相同的基类型，则它们是相同的。\n",
    "- 如果两个函数类型具有相同的参数和结果值数，则它们是相同的，相应的参数和结果类型是相同的，并且两个函数要么是可变参数的，要么两个函数都不是可变参数。参数和结果名称不需要匹配。\n",
    "- 如果两个接口类型具有相同的方法集，并且具有相同的名称和相同的函数类型，则它们是相同的。来自不同包的未导出方法名称始终不同。方法的顺序无关紧要。\n",
    "- 如果两个映射类型具有相同的键和元素类型，则它们是相同的。\n",
    "- 如果两个通道类型具有相同的元素类型和相同的方向，则它们是相同的。"
   ]
  },
  {
   "cell_type": "code",
   "execution_count": 10,
   "id": "933a52ef-db7d-4729-8f7a-d98e5756c144",
   "metadata": {},
   "outputs": [],
   "source": [
    "type (\n",
    "        A0 = []string\n",
    "        A1 = A0\n",
    "        A2 = struct{ a, b int }\n",
    "        A3 = int\n",
    "        A4 = func(A3, float64) *A0\n",
    "        A5 = func(x int, _ float64) *[]string\n",
    ")\n",
    "\n",
    "type (\n",
    "        B0 A0\n",
    "        B1 []string\n",
    "        B2 struct{ a, b int }\n",
    "        B3 struct{ a, c int }\n",
    "        B4 func(int, float64) *B0\n",
    "        B5 func(x int, y float64) *A1\n",
    ")\n",
    "\n",
    "type    C0 = B0"
   ]
  },
  {
   "cell_type": "markdown",
   "id": "d71f6a51-365b-4d89-92c4-08bd2af4a12d",
   "metadata": {},
   "source": [
    "这些类型是相同的：\n",
    "\n",
    "    A0, A1, and []string\n",
    "    A2 and struct{ a, b int }\n",
    "    A3 and int\n",
    "    A4, func(int, float64) *[]string, and A5\n",
    "\n",
    "    B0 and C0\n",
    "    []int and []int\n",
    "    struct{ a, b *T5 } and struct{ a, b *T5 }\n",
    "    func(x int, y float64) *[]string, func(int, float64) (result *[]string), and A5"
   ]
  },
  {
   "cell_type": "markdown",
   "id": "1e2685ae-299e-4f93-9f6b-15a6ba81a892",
   "metadata": {},
   "source": [
    "如果满足以下条件之一，则值 x 可赋给类型为 T 的变量：\n",
    "\n",
    "- 当 x 的类型和 T 相同时。\n",
    "- 当 x 的类型 V 和 T 有相同的 基本类型 且在 V 或 T 中至少有一个不是 定义类型 时。\n",
    "- 当 T 为接口类型且 x 实现了 T 时。\n",
    "- 当 x 为双向信道值、T 为信道类型、 x 的类型 V 和 T 的元素类型相同且在 V 或 T 中至少有一个不是 定义类型 时。\n",
    "- 当 x 为预声明标识符 nil 且 T 为指针、函数、切片、映射、信道或接口类型时。\n",
    "- 当 x 为无类型化的，可通过类型 T 的值来表示的常量时。"
   ]
  },
  {
   "cell_type": "markdown",
   "id": "517fc5d0-9e69-4eb9-8064-094fe28a82a6",
   "metadata": {},
   "source": [
    "## 类型转换\n",
    "\n",
    "常量值 x 在这些情况下可转换为类型 T：\n",
    "\n",
    "- x 可表示为类型为 T 的值。\n",
    "- x 为整数常量且 T 为 字符串类型。 \n",
    "\n",
    "转换一个常量将产生一个类型化的常量作为结果：\n",
    "\n",
    "    uint(iota)               // 类型为 uint 的 iota 值\n",
    "    float32(2.718281828)     // 类型为 float32 的 2.718281828\n",
    "    complex128(1)            // 类型为 complex128 的 1.0 + 0.0i\n",
    "    string('x')              // 类型为 string 的 \"x\"\n",
    "    string(0x266c)           // 类型为 string 的 \"♬\"\n",
    "    MyString(\"foo\" + \"bar\")  // 类型为 MyString 的 \"foobar\"\n",
    "    string([]byte{'a'})      // 非常量：[]byte{'a'} 不为常量\n",
    "    (*int)(nil)              // 非常量：nil 不为常量，*int 不为布尔、 数值或字符串类型\n",
    "    int(1.2)                 // 非法：1.2 不能表示为 int\n",
    "    string(65.0)             // 非法：65.0 不为整数常量\n",
    "    \n",
    "非常量值 x 在这些情况下可转换为类型 T：\n",
    "\n",
    "- 当 x 可赋予 T 时。\n",
    "- 当 x 的类型与 T 拥有相同的基础类型时。\n",
    "- 当 x 的类型与指针类型 T 不是 定义类型，且它们的指针基类型拥有相同的基础类型时。\n",
    "- 当 x 的类型与 T 同为整数或浮点数类型时。\n",
    "- 当 x 的类型与 T 同为复数类型时。\n",
    "- 当 x 为整数、字节切片或符文切片且 T 为字符串类型时。\n",
    "- 当 x 为字符串且 T 为字节切片或符文切片时。\n",
    "- 当 x 是一个切片，T 是指向数组的指针，并且切片和数组类型具有相同的元素类型。\n",
    "\n",
    "对于非常量数值类型的类型转换，以下规则适用：\n",
    "\n",
    "- 当在整数类型间转换时，若该值为无符号整数，其符号将扩展为隐式无限精度，反之为零扩展。 然后截断以符合该返回类型的大小。例如，若 v := uint16(0x10F0)，则 uint32(int8(v)) == 0xFFFFFFF0。类型转换总产生有效值，且无溢出指示。\n",
    "- 当转换浮点数为整数时，小数部分将被丢弃（向零截断）。\n",
    "- 当转换整数或浮点数为浮点类型，或转换复数类型为另一个复数类型时，其返回值将舍入至目标类型指定的精度。 例如，类型为 float32 的变量 x 的值可能使用超出 IEEE-754 标准32位数的额外精度来存储，但 float32(x) 表示将 x 的值舍入为32位精度的结果。 同样，x + 0.1 会使用超过32位的精度，但 float32(x + 0.1) 却不会。\n",
    "\n",
    "字符串类型的转换：\n",
    "\n",
    "- 将有符号或无符号整数值转换为字符串类型将产生一个包含 UTF-8 表示的该整数的字符串。有效 Unicode 码点范围之外的值将转换为 \"\\uFFFD\"。"
   ]
  },
  {
   "cell_type": "code",
   "execution_count": 2,
   "id": "10129f2b-b7cd-4beb-9b5c-84f2e2bbe888",
   "metadata": {},
   "outputs": [
    {
     "data": {
      "text/plain": [
       "日"
      ]
     },
     "execution_count": 2,
     "metadata": {},
     "output_type": "execute_result"
    }
   ],
   "source": [
    "string('a')       // \"a\"\n",
    "string(-1)        // \"\\ufffd\" == \"\\xef\\xbf\\xbd \"\n",
    "string(0xf8)      // \"\\u00f8\" == \"ø\" == \"\\xc3\\xb8\"\n",
    "type MyString string\n",
    "MyString(0x65e5)  // \"\\u65e5\" == \"日\" == \"\\xe6\\x97\\xa5\""
   ]
  },
  {
   "cell_type": "markdown",
   "id": "c1c05cf5-77ab-4f0c-a668-970e0204baf4",
   "metadata": {},
   "source": [
    "- 将字节切片转换为字符串类型将产生一个连续字节为该切片元素的字符串。若该切片值为 nil，则其结果为空字符串。"
   ]
  },
  {
   "cell_type": "code",
   "execution_count": 3,
   "id": "9426e9a6-b2f6-4c75-8d40-403fe63be399",
   "metadata": {},
   "outputs": [
    {
     "data": {
      "text/plain": [
       "hellø"
      ]
     },
     "execution_count": 3,
     "metadata": {},
     "output_type": "execute_result"
    }
   ],
   "source": [
    "string([]byte{'h', 'e', 'l', 'l', '\\xc3', '\\xb8'})  // \"hellø\"\n",
    "\n",
    "type MyBytes []byte\n",
    "string(MyBytes{'h', 'e', 'l', 'l', '\\xc3', '\\xb8'})  // \"hellø\""
   ]
  },
  {
   "cell_type": "markdown",
   "id": "687bc43c-56d4-4ec6-81d7-13cb8f37fafd",
   "metadata": {},
   "source": [
    "- 将符文切片转换为字符串类型将产生一个已转换为字符串的单个符文值的串联字符串。若该切片值为 nil，则其结果为空字符串。"
   ]
  },
  {
   "cell_type": "code",
   "execution_count": 4,
   "id": "0e93261a-0684-4941-8a68-e941a7d97249",
   "metadata": {},
   "outputs": [
    {
     "data": {
      "text/plain": [
       "白鵬翔"
      ]
     },
     "execution_count": 4,
     "metadata": {},
     "output_type": "execute_result"
    }
   ],
   "source": [
    "string([]rune{0x767d, 0x9d6c, 0x7fd4})  // \"\\u767d\\u9d6c\\u7fd4\" == \"白鵬翔\"\n",
    "\n",
    "type MyRunes []rune\n",
    "string(MyRunes{0x767d, 0x9d6c, 0x7fd4})  // \"\\u767d\\u9d6c\\u7fd4\" == \"白鵬翔\""
   ]
  },
  {
   "cell_type": "markdown",
   "id": "55ffff71-06f9-418a-a282-3fb8e91f5b14",
   "metadata": {},
   "source": [
    "- 将字符串类型值转换为字节类型切片将产生一个连续元素为该字符串字节的切片。若该字符串为空，其结果为 `[]byte(nil)`。"
   ]
  },
  {
   "cell_type": "code",
   "execution_count": 8,
   "id": "fabdc3dd-695b-487a-902c-e5e9c59e8ffa",
   "metadata": {},
   "outputs": [
    {
     "data": {
      "text/plain": [
       "[104 101 108 108 195 184]"
      ]
     },
     "execution_count": 8,
     "metadata": {},
     "output_type": "execute_result"
    }
   ],
   "source": [
    "[]byte(\"hellø\")   // []byte{'h', 'e', 'l', 'l', '\\xc3', '\\xb8'}\n",
    "MyBytes(\"hellø\")  // []byte{'h', 'e', 'l', 'l', '\\xc3', '\\xb8'}"
   ]
  },
  {
   "cell_type": "markdown",
   "id": "312bc5c6-a12b-43b6-98bc-5d5d8193e724",
   "metadata": {},
   "source": [
    "- 将字符串类型的值转换为符文类型切片将产生一个包含该字符串单个 Unicode 码点的切片。若该字符串为空，其结果为 `[]rune(nil)`。"
   ]
  },
  {
   "cell_type": "code",
   "execution_count": 9,
   "id": "8877b41c-d2ff-425a-8c5e-f6cbcba83ccd",
   "metadata": {},
   "outputs": [
    {
     "data": {
      "text/plain": [
       "[30333 40300 32724]"
      ]
     },
     "execution_count": 9,
     "metadata": {},
     "output_type": "execute_result"
    }
   ],
   "source": [
    "[]rune(MyString(\"白鵬翔\"))  // []rune{0x767d, 0x9d6c, 0x7fd4}\n",
    "MyRunes(\"白鵬翔\")           // []rune{0x767d, 0x9d6c, 0x7fd4}"
   ]
  }
 ],
 "metadata": {
  "kernelspec": {
   "display_name": "Go",
   "language": "go",
   "name": "go"
  },
  "language_info": {
   "file_extension": ".go",
   "mimetype": "",
   "name": "go",
   "nbconvert_exporter": "",
   "pygments_lexer": "",
   "version": "go1.16.2"
  }
 },
 "nbformat": 4,
 "nbformat_minor": 2
}
