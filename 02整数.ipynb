{
 "cells": [
  {
   "cell_type": "markdown",
   "id": "e60f32ef-dcea-4afe-8f57-54c5383bcfad",
   "metadata": {
    "tags": []
   },
   "source": [
    "# 整数\n",
    "\n",
    "整数有八进制，十进制，十六进制三种。\n",
    "\n",
    "十进制整数："
   ]
  },
  {
   "cell_type": "code",
   "execution_count": 5,
   "id": "84ea0d28-f4f1-4ac0-a6bc-e225489bbf5a",
   "metadata": {},
   "outputs": [
    {
     "data": {
      "text/plain": [
       "2021"
      ]
     },
     "execution_count": 5,
     "metadata": {},
     "output_type": "execute_result"
    }
   ],
   "source": [
    "2021"
   ]
  },
  {
   "cell_type": "markdown",
   "id": "2f6b6aac-1b73-4098-acc5-fc81d1e68246",
   "metadata": {},
   "source": [
    "八进制整数 0 开头，后面跟八进制数字："
   ]
  },
  {
   "cell_type": "code",
   "execution_count": 6,
   "id": "5dfb6ca1-f6f3-43b4-835b-66d5277903a3",
   "metadata": {},
   "outputs": [
    {
     "data": {
      "text/plain": [
       "1041"
      ]
     },
     "execution_count": 6,
     "metadata": {},
     "output_type": "execute_result"
    }
   ],
   "source": [
    "02021"
   ]
  },
  {
   "cell_type": "markdown",
   "id": "dd5248bc-c885-4d61-ab69-2c22b0a465e4",
   "metadata": {},
   "source": [
    "十六进制整数 0x 或 0X 开头，后面跟十六进制数字："
   ]
  },
  {
   "cell_type": "code",
   "execution_count": 7,
   "id": "17480179-33c9-4135-be85-ad62d43cf40f",
   "metadata": {},
   "outputs": [
    {
     "data": {
      "text/plain": [
       "131615"
      ]
     },
     "execution_count": 7,
     "metadata": {},
     "output_type": "execute_result"
    }
   ],
   "source": [
    "0x2021f"
   ]
  },
  {
   "cell_type": "markdown",
   "id": "8a7b8baa-a94f-4c6e-b35c-277254a62b68",
   "metadata": {},
   "source": [
    "## 整数的类型\n",
    "\n",
    "整数的类型有：\n",
    "\n",
    "- `uint8`       所有无符号 8位整数集（0 到 255）\n",
    "- `uint16`      所有无符号16位整数集（0 到 65535）\n",
    "- `uint32`      所有无符号32位整数集（0 到 4294967295）\n",
    "- `uint64`      所有无符号64位整数集（0 到 18446744073709551615）\n",
    "\n",
    "- `int8`        所有带符号 8位整数集（-128 到 127）\n",
    "- `int16`       所有带符号16位整数集（-32768 到 32767）\n",
    "- `int32`       所有带符号32位整数集（-2147483648 到 2147483647）\n",
    "- `int64`       所有带符号64位整数集（-9223372036854775808 到 9223372036854775807）\n",
    "\n",
    "- `uint`     长度根据运行程序所在的操作系统类型决定。在 32 位操作系统上，使用 32 位（4 个字节），在 64 位操作系统上，使用 64 位（8 个字节）\n",
    "- `int`      与 uint 相同\n",
    "- `uintptr`  大到足以存储指针值无解释位的无符号整数\n",
    "\n",
    "- `byte`        uint8 的别名\n",
    "- `rune`       int32 的别名\n",
    "\n",
    "除 byte 为 uint8 的别名以及 rune 为 int32 的别名外，所有数值类型都是不同的。 当不同的数值类型混合在一个表达式或赋值操作中时，必须进行类型转换："
   ]
  },
  {
   "cell_type": "code",
   "execution_count": 12,
   "id": "0a40be66-f74d-4b39-8ed8-e15691220f6b",
   "metadata": {},
   "outputs": [
    {
     "data": {
      "text/plain": [
       "1"
      ]
     },
     "execution_count": 12,
     "metadata": {},
     "output_type": "execute_result"
    }
   ],
   "source": [
    "uint8(1)"
   ]
  },
  {
   "cell_type": "code",
   "execution_count": 13,
   "id": "0611a5a6-e502-4106-9d1c-5a4cccb20376",
   "metadata": {},
   "outputs": [
    {
     "data": {
      "text/plain": [
       "1"
      ]
     },
     "execution_count": 13,
     "metadata": {},
     "output_type": "execute_result"
    }
   ],
   "source": [
    "int(1)"
   ]
  },
  {
   "cell_type": "code",
   "execution_count": 16,
   "id": "5cd61dd8-3b38-4e41-be87-e81d885eb249",
   "metadata": {},
   "outputs": [
    {
     "data": {
      "text/plain": [
       "2"
      ]
     },
     "execution_count": 16,
     "metadata": {},
     "output_type": "execute_result"
    }
   ],
   "source": [
    "byte(1) + uint8(1) // 同类型"
   ]
  },
  {
   "cell_type": "code",
   "execution_count": 24,
   "id": "66e53716-5085-43c7-b1ee-e038a7faf46b",
   "metadata": {},
   "outputs": [
    {
     "ename": "ERROR",
     "evalue": "repl.go:1:15: mismatched types in binary operation + between Expr{Type: uint, Value: 1} <uint> and Expr{Type: int, Value: 1} <int>: uint(1) + int(1)",
     "output_type": "error",
     "traceback": [
      "repl.go:1:15: mismatched types in binary operation + between Expr{Type: uint, Value: 1} <uint> and Expr{Type: int, Value: 1} <int>: uint(1) + int(1)"
     ]
    }
   ],
   "source": [
    "uint(1) + int(1) // 不同类型"
   ]
  },
  {
   "cell_type": "code",
   "execution_count": 27,
   "id": "00eeef46-acd7-4735-84f0-92e09aa61cdb",
   "metadata": {},
   "outputs": [
    {
     "ename": "ERROR",
     "evalue": "repl.go:1:18: mismatched types in binary operation == between Expr{Type: int32, Value: 1} <int32> and Expr{Type: int8, Value: 1} <int8>: int32(1) == int8(1)",
     "output_type": "error",
     "traceback": [
      "repl.go:1:18: mismatched types in binary operation == between Expr{Type: int32, Value: 1} <int32> and Expr{Type: int8, Value: 1} <int8>: int32(1) == int8(1)"
     ]
    }
   ],
   "source": [
    "int32(1) == int8(1) // 不同类型"
   ]
  },
  {
   "cell_type": "markdown",
   "id": "03576db4-26c9-4621-b351-c399ac9fc30f",
   "metadata": {},
   "source": [
    "无类型化的数值，可以和其他类型数值混合在一个表达式或赋值操作中："
   ]
  },
  {
   "cell_type": "code",
   "execution_count": 25,
   "id": "8b57d6f3-0758-4392-9749-52a528b90a8e",
   "metadata": {},
   "outputs": [
    {
     "data": {
      "text/plain": [
       "2"
      ]
     },
     "execution_count": 25,
     "metadata": {},
     "output_type": "execute_result"
    }
   ],
   "source": [
    "1 + int(1) // 前面的 1 无类型化"
   ]
  },
  {
   "cell_type": "code",
   "execution_count": 28,
   "id": "380cb7be-e7ad-4166-a184-1d8035a15ac0",
   "metadata": {},
   "outputs": [
    {
     "data": {
      "text/plain": [
       "true"
      ]
     },
     "execution_count": 28,
     "metadata": {},
     "output_type": "execute_result"
    }
   ],
   "source": [
    "3 > int(2) // 前面的 3 无类型化"
   ]
  },
  {
   "cell_type": "markdown",
   "id": "2bdc65c7-9865-4533-86d3-b18933ff5f69",
   "metadata": {},
   "source": [
    "## 整数运算\n",
    "\n",
    "二元算数操作符以及适用的数值类型（`+` 也适用于字符串 strings）：\n",
    "\n",
    "- `+`    和              integers, floats, complex values, strings\n",
    "- `-`    差              integers, floats, complex values\n",
    "- `*`    积              integers, floats, complex values\n",
    "- `/`    商              integers, floats, complex values\n",
    "- `%`    余              integers\n",
    "\n",
    "- `&`    按位与          integers\n",
    "- `|`    按位或          integers\n",
    "- `^`    按位异或        integers\n",
    "- `&^`   位清除（与非）  integers\n",
    "\n",
    "- `<<`   向左移位        integer << unsigned integer\n",
    "- `>>`   向右移位        integer >> unsigned integer\n",
    "\n",
    "优先级（从上往下优先级降低）：\n",
    "\n",
    "            *  /  %  <<  >>  &  &^\n",
    "            +  -  |  ^"
   ]
  },
  {
   "cell_type": "code",
   "execution_count": 29,
   "id": "4ddc8196-b473-4bc7-b085-99f2ab9fb90b",
   "metadata": {},
   "outputs": [
    {
     "data": {
      "text/plain": [
       "2"
      ]
     },
     "execution_count": 29,
     "metadata": {},
     "output_type": "execute_result"
    }
   ],
   "source": [
    "3 + (2 - 5) * 4 / 8"
   ]
  },
  {
   "cell_type": "code",
   "execution_count": 30,
   "id": "0ed210f7-90c3-4083-a20c-3e6f00373fe8",
   "metadata": {},
   "outputs": [
    {
     "data": {
      "text/plain": [
       "1"
      ]
     },
     "execution_count": 30,
     "metadata": {},
     "output_type": "execute_result"
    }
   ],
   "source": [
    "1 &^ 2"
   ]
  },
  {
   "cell_type": "code",
   "execution_count": 35,
   "id": "dec3339c-6b99-4997-b63e-e16331f0fd8c",
   "metadata": {},
   "outputs": [
    {
     "data": {
      "text/plain": [
       "32"
      ]
     },
     "execution_count": 35,
     "metadata": {},
     "output_type": "execute_result"
    }
   ],
   "source": [
    "1 << 5"
   ]
  },
  {
   "cell_type": "code",
   "execution_count": 37,
   "id": "e92ac2a2-4594-4b33-9eab-5506dd7c0cdf",
   "metadata": {},
   "outputs": [
    {
     "data": {
      "text/plain": [
       "1"
      ]
     },
     "execution_count": 37,
     "metadata": {},
     "output_type": "execute_result"
    }
   ],
   "source": [
    "2 ^ 3"
   ]
  },
  {
   "cell_type": "markdown",
   "id": "3e6ca266-72f7-44e0-a1c2-841300ee409f",
   "metadata": {},
   "source": [
    "将 x / y 向零截断（[除法截断](https://en.wikipedia.org/wiki/Modulo_operation)）:\n",
    "\n",
    "     x     y     x / y     x % y\n",
    "     5     3       1         2\n",
    "    -5     3      -1        -2\n",
    "     5    -3      -1         2\n",
    "    -5    -3       1        -2"
   ]
  },
  {
   "cell_type": "markdown",
   "id": "ad5d1387-3d33-428e-8b74-94e3aef10614",
   "metadata": {},
   "source": [
    "该规则的例外，若被除数 x 为 x 的 int 类型的最小负值，则 x / -1 等于 x："
   ]
  },
  {
   "cell_type": "code",
   "execution_count": 36,
   "id": "9ba09ef8-73af-4839-aa26-1f43e12981a9",
   "metadata": {},
   "outputs": [
    {
     "data": {
      "text/plain": [
       "-128"
      ]
     },
     "execution_count": 36,
     "metadata": {},
     "output_type": "execute_result"
    }
   ],
   "source": [
    "int8(-128) / -1"
   ]
  },
  {
   "cell_type": "markdown",
   "id": "682ea589-a2f4-48f1-8f94-72e5f68064db",
   "metadata": {},
   "source": [
    "整数除以 0 可能导致程序崩溃，将会导致运行时的恐慌状态（如果除以 0 的行为在编译时就能被捕捉到，则会引发编译错误）。"
   ]
  },
  {
   "cell_type": "markdown",
   "id": "fceece18-c500-4cee-bdcd-7274825c51e5",
   "metadata": {},
   "source": [
    "一元操作符 `+`、`-` 和 `^`（优先级最高）：\n",
    "\n",
    "- `+x`                即为 0 + x\n",
    "- `-x`    相反数       即为 0 - x\n",
    "- `^x`    按位补码（整数）     即为 m ^ x。对于无符号的 x，m = \"所有位置为1\"，对于带符号的 x，m = -1"
   ]
  },
  {
   "cell_type": "code",
   "execution_count": 38,
   "id": "4714cd2c-2308-47d0-b9c6-46690ccf17f3",
   "metadata": {},
   "outputs": [
    {
     "data": {
      "text/plain": [
       "2"
      ]
     },
     "execution_count": 38,
     "metadata": {},
     "output_type": "execute_result"
    }
   ],
   "source": [
    "+2"
   ]
  },
  {
   "cell_type": "code",
   "execution_count": 40,
   "id": "99602897-3c41-43eb-98f4-f08c8fa31e37",
   "metadata": {},
   "outputs": [
    {
     "data": {
      "text/plain": [
       "-1.2"
      ]
     },
     "execution_count": 40,
     "metadata": {},
     "output_type": "execute_result"
    }
   ],
   "source": [
    "-1.2"
   ]
  },
  {
   "cell_type": "code",
   "execution_count": 41,
   "id": "f9a57815-fc0f-43c2-bd9f-161b48b4d46e",
   "metadata": {},
   "outputs": [
    {
     "data": {
      "text/plain": [
       "-7"
      ]
     },
     "execution_count": 41,
     "metadata": {},
     "output_type": "execute_result"
    }
   ],
   "source": [
    "^6"
   ]
  }
 ],
 "metadata": {
  "kernelspec": {
   "display_name": "Go",
   "language": "go",
   "name": "go"
  },
  "language_info": {
   "file_extension": ".go",
   "mimetype": "",
   "name": "go",
   "nbconvert_exporter": "",
   "pygments_lexer": "",
   "version": "go1.16.2"
  }
 },
 "nbformat": 4,
 "nbformat_minor": 2
}
