{
 "cells": [
  {
   "cell_type": "markdown",
   "id": "66895b8d-3e87-4c17-b8a4-5e81e821dd68",
   "metadata": {},
   "source": [
    "# 映射 map\n",
    "\n",
    "map 是由一种类型的数据作为键，另一种类型的数据作为值的 `键值对` 组成的无续集。\n",
    "\n",
    "键可以是任意可用 `==` 或者 `!=` 操作符比较的类型（比如字符串、数字），函数、切片和映射不能作为键。\n",
    "\n",
    "值可以是任意类型。\n",
    "\n",
    "声明一个未初始化的 map，`var 标识符 map[键类型]值类型`："
   ]
  },
  {
   "cell_type": "code",
   "execution_count": 9,
   "id": "02db487e-4b15-47b8-bf4f-a2cd01a855e5",
   "metadata": {},
   "outputs": [
    {
     "data": {
      "text/plain": [
       "map[]"
      ]
     },
     "execution_count": 9,
     "metadata": {},
     "output_type": "execute_result"
    }
   ],
   "source": [
    "var m map[string]int\n",
    "m"
   ]
  },
  {
   "cell_type": "markdown",
   "id": "4feb5062-0bf2-4ea3-905d-01f2d55349a8",
   "metadata": {},
   "source": [
    "创建 map："
   ]
  },
  {
   "cell_type": "code",
   "execution_count": 8,
   "id": "555b1e60-27e8-4053-b248-c63e1dd3e755",
   "metadata": {},
   "outputs": [
    {
     "data": {
      "text/plain": [
       "map[a:1]"
      ]
     },
     "execution_count": 8,
     "metadata": {},
     "output_type": "execute_result"
    }
   ],
   "source": [
    "map[string]int{\"a\":1}"
   ]
  },
  {
   "cell_type": "code",
   "execution_count": 4,
   "id": "17caa312-31eb-423b-b215-039d79922b97",
   "metadata": {},
   "outputs": [
    {
     "data": {
      "text/plain": [
       "map[[1]:1]"
      ]
     },
     "execution_count": 4,
     "metadata": {},
     "output_type": "execute_result"
    }
   ],
   "source": [
    "map[[1]int]int{[1]int{1}:1} // 数组可作为键，但不这么操作"
   ]
  },
  {
   "cell_type": "markdown",
   "id": "84b68ab3-6784-4525-ae9f-6730d9d9b0d0",
   "metadata": {},
   "source": [
    "map 可以通过键获取对应的值、修改值、或添加元素："
   ]
  },
  {
   "cell_type": "code",
   "execution_count": 15,
   "id": "74d939e4-9891-4b22-95c0-3f9e84857e1f",
   "metadata": {},
   "outputs": [
    {
     "data": {
      "text/plain": [
       "1 true"
      ]
     },
     "execution_count": 15,
     "metadata": {},
     "output_type": "execute_result"
    }
   ],
   "source": [
    "m := map[string]int{\"a\":1,\"b\":2,\"c\":3}\n",
    "m[\"a\"] // 获取值"
   ]
  },
  {
   "cell_type": "code",
   "execution_count": 16,
   "id": "5f486a43-9f75-40b1-9e3a-c4c35d8f0ede",
   "metadata": {},
   "outputs": [
    {
     "data": {
      "text/plain": [
       "map[a:1 b:22 c:3]"
      ]
     },
     "execution_count": 16,
     "metadata": {},
     "output_type": "execute_result"
    }
   ],
   "source": [
    "m[\"b\"] = 22 //修改值\n",
    "m"
   ]
  },
  {
   "cell_type": "code",
   "execution_count": 17,
   "id": "7d752feb-6a29-48b7-98d3-07ce790ed621",
   "metadata": {},
   "outputs": [
    {
     "data": {
      "text/plain": [
       "map[a:1 b:22 c:3 d:4]"
      ]
     },
     "execution_count": 17,
     "metadata": {},
     "output_type": "execute_result"
    }
   ],
   "source": [
    "m[\"d\"] = 4 // 添加元素\n",
    "m"
   ]
  },
  {
   "cell_type": "code",
   "execution_count": 18,
   "id": "fe28dba4-ab14-4986-96e3-889ebe3d6968",
   "metadata": {},
   "outputs": [
    {
     "data": {
      "text/plain": [
       "0 false"
      ]
     },
     "execution_count": 18,
     "metadata": {},
     "output_type": "execute_result"
    }
   ],
   "source": [
    "m[\"e\"] // 如果 键 不存在，则获得 值类型 的零值"
   ]
  },
  {
   "cell_type": "markdown",
   "id": "bfbc351c-c307-4f7e-91c7-d856bfb47956",
   "metadata": {},
   "source": [
    "从上面的示例我们可以看出，获取 map 的值，返回两个值，当 键 存在时，返回键对应的 值 和 true，否则返回 值类型的零值和 false（由此可判断键是否存在）："
   ]
  },
  {
   "cell_type": "code",
   "execution_count": 20,
   "id": "7d4fe97e-32a2-4d60-bc59-3e3a51136b9c",
   "metadata": {},
   "outputs": [
    {
     "data": {
      "text/plain": [
       "0"
      ]
     },
     "execution_count": 20,
     "metadata": {},
     "output_type": "execute_result"
    }
   ],
   "source": [
    "a, b := m[\"f\"]\n",
    "a"
   ]
  },
  {
   "cell_type": "code",
   "execution_count": 21,
   "id": "73dcbd94-167b-4cc8-afa5-81e5456cd98f",
   "metadata": {},
   "outputs": [
    {
     "data": {
      "text/plain": [
       "false"
      ]
     },
     "execution_count": 21,
     "metadata": {},
     "output_type": "execute_result"
    }
   ],
   "source": [
    "b"
   ]
  },
  {
   "cell_type": "markdown",
   "id": "262ec807-be78-4ab6-9abe-dbbb8b582b6f",
   "metadata": {},
   "source": [
    "函数 len() 可获取 map 的元素数目，这个数目是可以伸缩的，因为元素在运行时可以动态添加和删除："
   ]
  },
  {
   "cell_type": "code",
   "execution_count": 19,
   "id": "1e922d09-f059-4c84-8fe2-e9a651cdd422",
   "metadata": {},
   "outputs": [
    {
     "data": {
      "text/plain": [
       "4"
      ]
     },
     "execution_count": 19,
     "metadata": {},
     "output_type": "execute_result"
    }
   ],
   "source": [
    "len(m)"
   ]
  },
  {
   "cell_type": "markdown",
   "id": "bf638b6a-d0c1-444f-af8b-e45e1a5a6665",
   "metadata": {},
   "source": [
    "可以使用函数 delete() 删除 map 的元素，键 不存在也不会报错："
   ]
  },
  {
   "cell_type": "code",
   "execution_count": 22,
   "id": "167dbe6d-6175-4df8-9a10-c69c9e1dc807",
   "metadata": {},
   "outputs": [
    {
     "data": {
      "text/plain": [
       "map[b:22 c:3 d:4]"
      ]
     },
     "execution_count": 22,
     "metadata": {},
     "output_type": "execute_result"
    }
   ],
   "source": [
    "delete(m, \"a\")\n",
    "m"
   ]
  },
  {
   "cell_type": "code",
   "execution_count": 23,
   "id": "d179c7de-1676-4d60-84cb-4b1cc6177a68",
   "metadata": {},
   "outputs": [],
   "source": [
    "delete(m, \"g\")"
   ]
  },
  {
   "cell_type": "markdown",
   "id": "85441836-cdee-4b47-9026-c8e602e7b995",
   "metadata": {},
   "source": [
    "迭代映射："
   ]
  },
  {
   "cell_type": "code",
   "execution_count": 1,
   "id": "9203ef68-9055-4f7e-8907-decd51595718",
   "metadata": {},
   "outputs": [
    {
     "name": "stdout",
     "output_type": "stream",
     "text": [
      "a 11\n",
      "b 12\n"
     ]
    }
   ],
   "source": [
    "import \"fmt\"\n",
    "\n",
    "for i, j := range map[string]int{\"a\":11, \"b\":12} { // 映射\n",
    "    fmt.Println(i, j)\n",
    "}"
   ]
  }
 ],
 "metadata": {
  "kernelspec": {
   "display_name": "Go",
   "language": "go",
   "name": "go"
  },
  "language_info": {
   "file_extension": ".go",
   "mimetype": "",
   "name": "go",
   "nbconvert_exporter": "",
   "pygments_lexer": "",
   "version": "go1.16.2"
  }
 },
 "nbformat": 4,
 "nbformat_minor": 2
}
