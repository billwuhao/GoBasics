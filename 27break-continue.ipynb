{
 "cells": [
  {
   "cell_type": "markdown",
   "id": "bef9aa74-a4e0-4647-9e2d-67622b201f41",
   "metadata": {},
   "source": [
    "# break 和 continue 语句"
   ]
  },
  {
   "cell_type": "markdown",
   "id": "63986515-481c-44fd-a022-5eb8078396ce",
   "metadata": {},
   "source": [
    "## break 语句\n",
    "\n",
    "break 语句终止最内层的 for（switch 或 select）语句的执行："
   ]
  },
  {
   "cell_type": "code",
   "execution_count": 7,
   "id": "980b5285-06b3-41b2-a3f9-2c55194dcdab",
   "metadata": {},
   "outputs": [
    {
     "name": "stdout",
     "output_type": "stream",
     "text": [
      "0 0\n",
      "0 1\n",
      "1 0\n",
      "1 1\n",
      "2 0\n",
      "2 1\n"
     ]
    }
   ],
   "source": [
    "import \"fmt\"\n",
    "\n",
    "\n",
    "for i := 0; i < 3; i++ {\n",
    "    for j := 0; j < 3; j++ {\n",
    "        if j == 2 {\n",
    "            break\n",
    "        }\n",
    "        fmt.Println(i, j)\n",
    "    }    \n",
    "}"
   ]
  },
  {
   "cell_type": "markdown",
   "id": "ef1f5432-ad83-4ddb-aec1-fd7fdc278894",
   "metadata": {},
   "source": [
    "1. 在 select 中单独使用 break 和不使用 break 没有啥区别。\n",
    "\n",
    "2. 在表达式 switch 并且没有 fallthrough 的语句中，单独使用 break 和不使用 break 没有啥区别。\n",
    "\n",
    "3. 在表达式 switch  并且有 fallthrough 的语句中，单独使用 break 能够终止 fallthough 后面的 case 语句的执行。\n",
    "\n",
    "4. 带标签的 break，可以跳出内层 select/switch 作用域，终止外层指定的 for 循环。"
   ]
  },
  {
   "cell_type": "code",
   "execution_count": 1,
   "id": "25e2aec4-36ce-4d62-bf72-9b31688d8e24",
   "metadata": {},
   "outputs": [
    {
     "name": "stdout",
     "output_type": "stream",
     "text": [
      "c2 received:  How are you\n",
      "0\n",
      "c1 received:  hello\n",
      "1\n",
      "No data received.\n",
      "2\n",
      "No data received.\n",
      "3\n",
      "No data received.\n",
      "4\n"
     ]
    }
   ],
   "source": [
    "import \"fmt\"\n",
    "\n",
    "c1 := make(chan string, 1)\n",
    "c2 := make(chan string, 1)\n",
    "\n",
    "c1 <- \"hello\"\n",
    "c2 <- \"How are you\"\n",
    "\n",
    "for i := 0; i < 5; i++ {\n",
    "    // select 中使用 break\n",
    "    select {\n",
    "    case msg1 := <-c1:\n",
    "        fmt.Println(\"c1 received: \", msg1)\n",
    "        break\n",
    "    case msg2 := <-c2:\n",
    "        fmt.Println(\"c2 received: \", msg2)\n",
    "        break\n",
    "    default:\n",
    "        fmt.Println(\"No data received.\")\n",
    "        break\n",
    "    }\n",
    "    fmt.Println(i)\n",
    "}"
   ]
  },
  {
   "cell_type": "code",
   "execution_count": 2,
   "id": "b53ef54b-b3a9-4083-abca-f8224880452a",
   "metadata": {},
   "outputs": [
    {
     "name": "stdout",
     "output_type": "stream",
     "text": [
      "c1 received:  hello\n",
      "0\n",
      "c2 received:  How are you\n"
     ]
    }
   ],
   "source": [
    "import \"fmt\"\n",
    "\n",
    "c1 := make(chan string, 1)\n",
    "c2 := make(chan string, 1)\n",
    "\n",
    "c1 <- \"hello\"\n",
    "c2 <- \"How are you\"\n",
    "\n",
    "OuterLoop: // 标签\n",
    "for i := 0; i < 5; i++ {\n",
    "    select {\n",
    "    case msg1 := <-c1:\n",
    "        fmt.Println(\"c1 received: \", msg1)\n",
    "        break\n",
    "    case msg2 := <-c2:\n",
    "        fmt.Println(\"c2 received: \", msg2)\n",
    "        break OuterLoop // 带标签的 break\n",
    "    default:\n",
    "        fmt.Println(\"No data received.\")\n",
    "        break\n",
    "    }\n",
    "    fmt.Println(i)\n",
    "}"
   ]
  },
  {
   "cell_type": "code",
   "execution_count": 4,
   "id": "0bf55407-cf32-4c44-b39f-03192b588c7c",
   "metadata": {},
   "outputs": [
    {
     "name": "stdout",
     "output_type": "stream",
     "text": [
      "ok\n",
      "0 3\n",
      "1 2\n",
      "1 3\n"
     ]
    }
   ],
   "source": [
    "import \"fmt\"\n",
    "\n",
    "for i := 0; i < 2; i++ {\n",
    "    for j := 0; j < 5; j++ {\n",
    "        // switch 中的 break\n",
    "        switch j {\n",
    "        case 2:\n",
    "            if i == 1 {\n",
    "                fmt.Println(i, j) // i == 1 时执行\n",
    "                // 终止 fallthough 后面的 case 语句的执行\n",
    "                break\n",
    "            }\n",
    "            fallthrough\n",
    "        case 5:\n",
    "            fmt.Println(\"ok\") // i == 1 时不执行\n",
    "        case 3:\n",
    "            fmt.Println(i, j) // j == 3 时执行\n",
    "            break // 无效\n",
    "        }\n",
    "    }\n",
    "}"
   ]
  },
  {
   "cell_type": "code",
   "execution_count": 23,
   "id": "f46306a3-8c7f-4bde-8357-22eac3cdf53a",
   "metadata": {},
   "outputs": [
    {
     "name": "stdout",
     "output_type": "stream",
     "text": [
      "0 0\n",
      "1 0\n"
     ]
    }
   ],
   "source": [
    "import \"fmt\"\n",
    "\n",
    "for i := 0; i < 2; i++ {\n",
    "InLoop:\n",
    "    for j := 0; j < 5; j++ {\n",
    "        switch j {\n",
    "        case 0:\n",
    "            fmt.Println(i, j)\n",
    "            break InLoop // 结束内循环\n",
    "        case 2:\n",
    "            fmt.Println(i, j) \n",
    "            fallthrough\n",
    "        case 5:\n",
    "            fmt.Println(\"ok\")\n",
    "        }\n",
    "    }\n",
    "}"
   ]
  },
  {
   "cell_type": "code",
   "execution_count": 17,
   "id": "2ce2281e-b7d0-47e1-8fe9-6611a526e5d1",
   "metadata": {},
   "outputs": [
    {
     "name": "stdout",
     "output_type": "stream",
     "text": [
      "0 2\n",
      "ok\n",
      "0 3\n"
     ]
    }
   ],
   "source": [
    "import \"fmt\"\n",
    "\n",
    "OuterLoop:\n",
    "for i := 0; i < 2; i++ {\n",
    "    for j := 0; j < 5; j++ {\n",
    "        switch j {\n",
    "        case 2:\n",
    "            fmt.Println(i, j) \n",
    "            fallthrough\n",
    "        case 5:\n",
    "            fmt.Println(\"ok\")\n",
    "        case 3:\n",
    "            fmt.Println(i, j)\n",
    "            break OuterLoop // 结束外循环\n",
    "        }\n",
    "    }\n",
    "}"
   ]
  },
  {
   "cell_type": "markdown",
   "id": "a7571fb2-abd4-4844-8d36-f84322ad9116",
   "metadata": {},
   "source": [
    "## continue 语句\n",
    "\n",
    "continue 在 for 循环内使用，可以结束当前内层循环，开始内层的下一次的循环迭代过程，在 continue 语句后添加标签时，表示开始标签对应的循环："
   ]
  },
  {
   "cell_type": "code",
   "execution_count": 20,
   "id": "87cc6c08-280f-4b27-8fa0-8b4bdca5fd9a",
   "metadata": {},
   "outputs": [
    {
     "name": "stdout",
     "output_type": "stream",
     "text": [
      "0 0\n",
      "0 1\n",
      "0 2\n",
      "0 4\n",
      "1 0\n",
      "1 1\n",
      "1 2\n",
      "1 4\n"
     ]
    }
   ],
   "source": [
    "import \"fmt\"\n",
    "\n",
    "\n",
    "for i := 0; i < 2; i++ {\n",
    "    for j := 0; j < 5; j++ {\n",
    "        if j == 3 {\n",
    "            continue\n",
    "        }\n",
    "        fmt.Println(i, j)\n",
    "    }\n",
    "}"
   ]
  },
  {
   "cell_type": "code",
   "execution_count": 22,
   "id": "dc7f279c-e9f9-4bc2-9f3d-22171f7a6efe",
   "metadata": {},
   "outputs": [
    {
     "name": "stdout",
     "output_type": "stream",
     "text": [
      "0 0\n",
      "0 1\n",
      "0 2\n",
      "1 0\n",
      "1 1\n",
      "1 2\n"
     ]
    }
   ],
   "source": [
    "import \"fmt\"\n",
    "\n",
    "Loop:\n",
    "for i := 0; i < 2; i++ {\n",
    "    for j := 0; j < 5; j++ {\n",
    "        if j == 3 {\n",
    "            continue Loop\n",
    "        }\n",
    "        fmt.Println(i, j)\n",
    "    }\n",
    "}"
   ]
  }
 ],
 "metadata": {
  "kernelspec": {
   "display_name": "Go",
   "language": "go",
   "name": "go"
  },
  "language_info": {
   "file_extension": ".go",
   "mimetype": "",
   "name": "go",
   "nbconvert_exporter": "",
   "pygments_lexer": "",
   "version": "go1.16.2"
  }
 },
 "nbformat": 4,
 "nbformat_minor": 2
}
