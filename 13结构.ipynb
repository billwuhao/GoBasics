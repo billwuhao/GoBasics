{
 "cells": [
  {
   "cell_type": "markdown",
   "id": "93e6d17d-fcf1-4045-a4b3-f4e86e9a9b69",
   "metadata": {},
   "source": [
    "# 结构\n",
    "\n",
    "结构是复合类型，当需要定义一个类型，它由一系列属性组成，每个属性都有自己的类型和值的时候，就应该使用结构体，它把数据聚集在一起。\n",
    "\n",
    "结构是已命名的元素序列，元素被称为字段，其中每一个元素都有一个名字和类型。字段名可显式地指定（标识符列表）或隐式地指定（匿名字段）。在结构中，非空白字段名（非下划线 `_`）必须是唯一的。\n",
    "\n",
    "字段名显式指定的结构 `struct {字段名 类型; ...}{字段的值, ...}`："
   ]
  },
  {
   "cell_type": "code",
   "execution_count": 44,
   "id": "060ff3d7-eb7d-4f6e-9cf1-0d60c21d2fa9",
   "metadata": {},
   "outputs": [
    {
     "data": {
      "text/plain": [
       "{0 0 0}"
      ]
     },
     "execution_count": 44,
     "metadata": {},
     "output_type": "execute_result"
    }
   ],
   "source": [
    "struct {x, y int; z float32}{x:0, y:0, z:0.0}"
   ]
  },
  {
   "cell_type": "code",
   "execution_count": 42,
   "id": "94a262e3-e18f-47db-a103-e011c93ae715",
   "metadata": {},
   "outputs": [
    {
     "data": {
      "text/plain": [
       "{0 0 0}"
      ]
     },
     "execution_count": 42,
     "metadata": {},
     "output_type": "execute_result"
    }
   ],
   "source": [
    "struct {x, y int; z float32}{0, 0, 0.0} // 可以省略 x:, y:, z:"
   ]
  },
  {
   "cell_type": "markdown",
   "id": "760ed0c3-efaf-4814-85c9-f8f9e2f2cbf5",
   "metadata": {},
   "source": [
    "省略分号 `;`："
   ]
  },
  {
   "cell_type": "code",
   "execution_count": 23,
   "id": "a42d66be-f27b-494f-9dbc-34f53f90a6a7",
   "metadata": {},
   "outputs": [
    {
     "data": {
      "text/plain": [
       "{1 2 3 4 0xc00000f608}"
      ]
     },
     "execution_count": 23,
     "metadata": {},
     "output_type": "execute_result"
    }
   ],
   "source": [
    "struct {\n",
    "        x, y int // 字段名 x, y，类型 int\n",
    "        u float32\n",
    "        _ float32  // 填充空白字段\n",
    "        A *[]int\n",
    "}{1,2,3,4,&[]int{}}"
   ]
  },
  {
   "cell_type": "markdown",
   "id": "93ac6f6c-d886-4cde-a17a-09201dbacc30",
   "metadata": {},
   "source": [
    "结构的字段可以是任何类型，甚至是结构类型："
   ]
  },
  {
   "cell_type": "code",
   "execution_count": 36,
   "id": "43fcac14-d493-4cb0-8af2-e4cbab9891cb",
   "metadata": {},
   "outputs": [
    {
     "data": {
      "text/plain": [
       "{{1}}"
      ]
     },
     "execution_count": 36,
     "metadata": {},
     "output_type": "execute_result"
    }
   ],
   "source": [
    "st := struct {x int}{1}\n",
    "st1 := struct {y struct {x int}}{{1}}\n",
    "st1"
   ]
  },
  {
   "cell_type": "code",
   "execution_count": 30,
   "id": "41da4df4-ca7a-4062-8c16-0240a20b9795",
   "metadata": {},
   "outputs": [
    {
     "data": {
      "text/plain": [
       "struct { 𒀸x int }"
      ]
     },
     "execution_count": 30,
     "metadata": {},
     "output_type": "execute_result"
    }
   ],
   "source": [
    "import \"fmt\"\n",
    "fmt.Sprintf(\"%T\",st) // 结构 st 的类型"
   ]
  },
  {
   "cell_type": "code",
   "execution_count": 31,
   "id": "19e70503-ec7f-42b6-8530-c0cf4ea9af95",
   "metadata": {},
   "outputs": [
    {
     "data": {
      "text/plain": [
       "struct { 𒀸y struct { 𒀸x int } }"
      ]
     },
     "execution_count": 31,
     "metadata": {},
     "output_type": "execute_result"
    }
   ],
   "source": [
    "import \"fmt\"\n",
    "fmt.Sprintf(\"%T\",st1) // 结构 st1 的类型"
   ]
  },
  {
   "cell_type": "markdown",
   "id": "5ae31009-009d-43b6-bbfb-d5867c0cf616",
   "metadata": {},
   "source": [
    "可以通过点 `.` 操作符获取或修改字段的值："
   ]
  },
  {
   "cell_type": "code",
   "execution_count": 40,
   "id": "9283280a-b10e-423d-b40a-b100902aa742",
   "metadata": {},
   "outputs": [
    {
     "data": {
      "text/plain": [
       "1"
      ]
     },
     "execution_count": 40,
     "metadata": {},
     "output_type": "execute_result"
    }
   ],
   "source": [
    "st := struct {x int}{x:1}\n",
    "st.x //获取"
   ]
  },
  {
   "cell_type": "code",
   "execution_count": 38,
   "id": "2025c313-5cc9-4f62-b6c1-8c16439214be",
   "metadata": {},
   "outputs": [
    {
     "data": {
      "text/plain": [
       "{2}"
      ]
     },
     "execution_count": 38,
     "metadata": {},
     "output_type": "execute_result"
    }
   ],
   "source": [
    "st.x = 2 // 修改\n",
    "st"
   ]
  },
  {
   "cell_type": "markdown",
   "id": "7b782e65-7066-4351-aedf-0102da4aeb70",
   "metadata": {},
   "source": [
    "结构体可以包含匿名（或叫内嵌）字段，即这些字段没有显式的字段名，只有字段的类型是必须的，此时字段名根据情况确定：\n",
    "\n",
    "```\n",
    "struct {\n",
    "        T1        // 类型 T1，字段名为 T1\n",
    "        *T2       // 指针类型 *T1，字段名为 T2\n",
    "        P.T3      // 限定类型名 P.T3，字段名为 T3\n",
    "        *P.T4     // 类推，字段名为 T4\n",
    "        x, y int  // 非匿名字段，字段名为 x 和 y\n",
    "}\n",
    "```\n",
    "\n",
    "以下声明是非法的，因为字段名称在结构类型中必须是唯一的：\n",
    "\n",
    "```\n",
    "struct {\n",
    "        T     // conflicts with embedded field *T and *P.T\n",
    "        *T    // conflicts with embedded field T and *P.T\n",
    "        *P.T  // conflicts with embedded field T and *T\n",
    "}\n",
    "```"
   ]
  },
  {
   "cell_type": "markdown",
   "id": "a8155329-4fd6-43e3-9d9a-185b98afc696",
   "metadata": {},
   "source": [
    "字段声明后跟一个可选的字符串文本标记，它成为相应字段声明中所有字段的属性:"
   ]
  },
  {
   "cell_type": "code",
   "execution_count": 50,
   "id": "dfdee8a5-e5fe-4cd6-b63c-dc2b720102b8",
   "metadata": {},
   "outputs": [
    {
     "name": "stdout",
     "output_type": "stream",
     "text": [
      "any string is permitted as a tag"
     ]
    },
    {
     "data": {
      "text/plain": [
       "32 <nil>"
      ]
     },
     "execution_count": 50,
     "metadata": {},
     "output_type": "execute_result"
    }
   ],
   "source": [
    "import (\n",
    "        \"fmt\"\n",
    "        \"reflect\"\n",
    ")\n",
    "\n",
    "tt := struct {\n",
    "        x, y int \"any string is permitted as a tag\"\n",
    "        z float32 \"\" // an empty tag string is like an absent tag\n",
    "}{x:0, y:0, z:0.0}\n",
    "\n",
    "// 获取文本标记\n",
    "fmt.Printf(\"%v\",reflect.TypeOf(tt).Field(1).Tag)"
   ]
  }
 ],
 "metadata": {
  "kernelspec": {
   "display_name": "Go",
   "language": "go",
   "name": "go"
  },
  "language_info": {
   "file_extension": ".go",
   "mimetype": "",
   "name": "go",
   "nbconvert_exporter": "",
   "pygments_lexer": "",
   "version": "go1.16.2"
  }
 },
 "nbformat": 4,
 "nbformat_minor": 2
}
