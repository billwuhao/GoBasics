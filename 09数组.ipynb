{
 "cells": [
  {
   "cell_type": "markdown",
   "id": "cc1ec88e-b2ba-48bb-a3f8-bdfbff82ff41",
   "metadata": {},
   "source": [
    "# 数组\n",
    "\n",
    "数组是具有同一类型的一组已编号且长度固定的数据项序列。创建数组，`[长度]类型{元素列表}`："
   ]
  },
  {
   "cell_type": "code",
   "execution_count": 2,
   "id": "40ff3b31-1d8f-4fc5-aee9-bdd6ae956f6b",
   "metadata": {},
   "outputs": [
    {
     "data": {
      "text/plain": [
       "[1 2 3]"
      ]
     },
     "execution_count": 2,
     "metadata": {},
     "output_type": "execute_result"
    }
   ],
   "source": [
    "[3]int{1,2,3}"
   ]
  },
  {
   "cell_type": "code",
   "execution_count": 1,
   "id": "e920f375-f6b6-48dd-9e46-43521c9f9e98",
   "metadata": {},
   "outputs": [
    {
     "data": {
      "text/plain": [
       "[1 2 3 0 0]"
      ]
     },
     "execution_count": 1,
     "metadata": {},
     "output_type": "execute_result"
    }
   ],
   "source": [
    "[5]int{1,2,3} // 长度不够自动补充 零值"
   ]
  },
  {
   "cell_type": "code",
   "execution_count": 3,
   "id": "da135e60-fc81-4288-aa3e-fd4fd356e088",
   "metadata": {},
   "outputs": [
    {
     "data": {
      "text/plain": [
       "[1 2 3 4 5]"
      ]
     },
     "execution_count": 3,
     "metadata": {},
     "output_type": "execute_result"
    }
   ],
   "source": [
    "[...]int{1,2,3,4,5} // 长度自动判断"
   ]
  },
  {
   "cell_type": "code",
   "execution_count": 4,
   "id": "1a3efc89-a18d-4d47-a883-4ff70196f17b",
   "metadata": {},
   "outputs": [
    {
     "data": {
      "text/plain": [
       "[5]int"
      ]
     },
     "execution_count": 4,
     "metadata": {},
     "output_type": "execute_result"
    }
   ],
   "source": [
    "import \"fmt\"\n",
    "fmt.Sprintf(\"%T\",[...]int{1,2,3,4,5})"
   ]
  },
  {
   "cell_type": "markdown",
   "id": "998e3b78-cc15-4a2b-9fff-db96a2e84134",
   "metadata": {},
   "source": [
    "元素可以是 键值对，键必须是非负整数，且键值就是元素的索引值："
   ]
  },
  {
   "cell_type": "code",
   "execution_count": 8,
   "id": "fa8be457-f932-46d4-9b6f-f8fbcdb2161b",
   "metadata": {},
   "outputs": [
    {
     "data": {
      "text/plain": [
       "[   Chris Ron]"
      ]
     },
     "execution_count": 8,
     "metadata": {},
     "output_type": "execute_result"
    }
   ],
   "source": [
    "arr := [5]string{3: \"Chris\", 4: \"Ron\"} // 索引 3 和 4 已知\n",
    "arr"
   ]
  },
  {
   "cell_type": "code",
   "execution_count": 9,
   "id": "bb030166-585f-458c-aed1-0bfa81621e32",
   "metadata": {},
   "outputs": [
    {
     "data": {
      "text/plain": []
     },
     "execution_count": 9,
     "metadata": {},
     "output_type": "execute_result"
    }
   ],
   "source": [
    "arr[0] // 空字符串（零值）"
   ]
  },
  {
   "cell_type": "code",
   "execution_count": 10,
   "id": "2954f4cc-b046-4924-a5d1-f8f90ad0ccf9",
   "metadata": {},
   "outputs": [
    {
     "data": {
      "text/plain": [
       "Chris"
      ]
     },
     "execution_count": 10,
     "metadata": {},
     "output_type": "execute_result"
    }
   ],
   "source": [
    "arr[3]"
   ]
  },
  {
   "cell_type": "markdown",
   "id": "5cb243d6-c2e4-47b3-833f-16e696cdfb2a",
   "metadata": {},
   "source": [
    "声明一个没有元素的数组，`var 标识符 [长度]类型`，元素填充 `类型` 的零值至 `长度`："
   ]
  },
  {
   "cell_type": "code",
   "execution_count": 13,
   "id": "27c48870-ec90-4a00-9fac-40ecc2f75831",
   "metadata": {},
   "outputs": [
    {
     "data": {
      "text/plain": [
       "[0 0 0]"
      ]
     },
     "execution_count": 13,
     "metadata": {},
     "output_type": "execute_result"
    }
   ],
   "source": [
    "var arr1 [3]int\n",
    "arr1"
   ]
  },
  {
   "cell_type": "markdown",
   "id": "7e22aca5-aeb4-4b4d-ac89-25271de8e0dd",
   "metadata": {},
   "source": [
    "注意：`类型` 是数组元素的类型，并非数组的类型，长度也是数组类型的一部分，例如 [3]int 和 [5]int 是不同的数组类型："
   ]
  },
  {
   "cell_type": "code",
   "execution_count": 14,
   "id": "f1fc6ca0-7b1e-4877-9de3-709530b4307e",
   "metadata": {},
   "outputs": [
    {
     "data": {
      "text/plain": [
       "[3]int"
      ]
     },
     "execution_count": 14,
     "metadata": {},
     "output_type": "execute_result"
    }
   ],
   "source": [
    "var arr2 [5]int\n",
    "\n",
    "import \"fmt\"\n",
    "fmt.Sprintf(\"%T\",arr1) // arr1 的类型"
   ]
  },
  {
   "cell_type": "code",
   "execution_count": 15,
   "id": "b93d2923-8b97-4179-bb4b-1285b9f999cf",
   "metadata": {},
   "outputs": [
    {
     "data": {
      "text/plain": [
       "[5]int"
      ]
     },
     "execution_count": 15,
     "metadata": {},
     "output_type": "execute_result"
    }
   ],
   "source": [
    "fmt.Sprintf(\"%T\",arr2) // arr2 的类型"
   ]
  },
  {
   "cell_type": "code",
   "execution_count": 16,
   "id": "46895d9c-fb19-4d67-896e-45ff2228c17c",
   "metadata": {},
   "outputs": [
    {
     "ename": "ERROR",
     "evalue": "repl.go:1:1: error compiling assignment: arr2 = arr1\n\trepl.go:1:1: incompatible types in assignment: [5]int = [3]int",
     "output_type": "error",
     "traceback": [
      "repl.go:1:1: error compiling assignment: arr2 = arr1\n\trepl.go:1:1: incompatible types in assignment: [5]int = [3]int"
     ]
    }
   ],
   "source": [
    "arr2 = arr1 // 不同类型不能赋值"
   ]
  },
  {
   "cell_type": "markdown",
   "id": "71e58d6d-c066-4921-b575-adf4b1b86ad6",
   "metadata": {},
   "source": [
    "## 数组索引\n",
    "\n",
    "可以通过索引来获取或修改数组元素。索引从 0 开始，`长度 - 1` 结束，不能超出；函数 len() 查看数组的长度："
   ]
  },
  {
   "cell_type": "code",
   "execution_count": 17,
   "id": "7e9d4aa1-6f83-40f9-bb74-4f663d47bd56",
   "metadata": {},
   "outputs": [
    {
     "data": {
      "text/plain": [
       "0"
      ]
     },
     "execution_count": 17,
     "metadata": {},
     "output_type": "execute_result"
    }
   ],
   "source": [
    "arr2[0] // 获取第一个元素"
   ]
  },
  {
   "cell_type": "code",
   "execution_count": 18,
   "id": "961294c5-f527-4cad-8014-26d83fa7bdb1",
   "metadata": {},
   "outputs": [
    {
     "data": {
      "text/plain": [
       "[0 0 0 0 5]"
      ]
     },
     "execution_count": 18,
     "metadata": {},
     "output_type": "execute_result"
    }
   ],
   "source": [
    "arr2[4] = 5 // 修改最后一个元素\n",
    "arr2"
   ]
  },
  {
   "cell_type": "code",
   "execution_count": 19,
   "id": "ff75f632-479d-4267-9c4b-7da929805d7a",
   "metadata": {},
   "outputs": [
    {
     "ename": "ERROR",
     "evalue": "reflect: array index out of range",
     "output_type": "error",
     "traceback": [
      "reflect: array index out of range"
     ]
    }
   ],
   "source": [
    "arr2[5]"
   ]
  },
  {
   "cell_type": "code",
   "execution_count": 20,
   "id": "c782cb37-38b0-4776-acd3-a7874437523c",
   "metadata": {},
   "outputs": [
    {
     "data": {
      "text/plain": [
       "5"
      ]
     },
     "execution_count": 20,
     "metadata": {},
     "output_type": "execute_result"
    }
   ],
   "source": [
    "len(arr2)"
   ]
  },
  {
   "cell_type": "markdown",
   "id": "9761d662-ae54-4d64-aba6-084aacf43376",
   "metadata": {},
   "source": [
    "## 多维数组\n",
    "\n",
    "多维数组有多个维度的 `长度`，len() 获取的是最前面一个维度的长度："
   ]
  },
  {
   "cell_type": "code",
   "execution_count": 50,
   "id": "26206532-14ec-4643-ae63-5f60f19061b0",
   "metadata": {},
   "outputs": [
    {
     "data": {
      "text/plain": [
       "[[[0 0 0 0] [0 0 0 0] [0 0 0 0]] [[0 0 0 0] [0 0 0 0] [0 0 0 0]]]"
      ]
     },
     "execution_count": 50,
     "metadata": {},
     "output_type": "execute_result"
    }
   ],
   "source": [
    "var arrD [2][3][4]float64 \n",
    "arrD"
   ]
  },
  {
   "cell_type": "code",
   "execution_count": 51,
   "id": "27e04511-7960-45f4-a773-d01234e4e364",
   "metadata": {},
   "outputs": [
    {
     "data": {
      "text/plain": [
       "2"
      ]
     },
     "execution_count": 51,
     "metadata": {},
     "output_type": "execute_result"
    }
   ],
   "source": [
    "len(arrD)"
   ]
  }
 ],
 "metadata": {
  "kernelspec": {
   "display_name": "Go",
   "language": "go",
   "name": "gophernotes"
  },
  "language_info": {
   "codemirror_mode": "",
   "file_extension": ".go",
   "mimetype": "",
   "name": "go",
   "nbconvert_exporter": "",
   "pygments_lexer": "",
   "version": "go1.17.3"
  }
 },
 "nbformat": 4,
 "nbformat_minor": 5
}
