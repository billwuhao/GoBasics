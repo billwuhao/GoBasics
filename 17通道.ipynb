{
 "cells": [
  {
   "cell_type": "markdown",
   "id": "4d001492-fe83-4435-8aee-772968b151f7",
   "metadata": {},
   "source": [
    "# 通道\n",
    "\n",
    "通道提供了一种机制，用于通过 发送 和 接收 指定 元素类型 的值来并发执行函数以进行通信。\n",
    "\n",
    "通道类型语法：`chan<- 元素类型`（仅能发送），`<-chan 元素类型`（仅能接收），`chan 元素类型`（双向）。\n",
    "\n",
    "    chan T          // can be used to send and receive values of type T\n",
    "    chan<- float64  // can only be used to send float64s\n",
    "    <-chan int      // can only be used to receive ints\n",
    "    \n",
    "声明一个仅能发送 int 类型的值的通道类型变量如下："
   ]
  },
  {
   "cell_type": "code",
   "execution_count": 3,
   "id": "1838a949-b56e-4985-9b56-0c550462c8a4",
   "metadata": {},
   "outputs": [
    {
     "data": {
      "text/plain": [
       "<nil>"
      ]
     },
     "execution_count": 3,
     "metadata": {},
     "output_type": "execute_result"
    }
   ],
   "source": [
    "var ch chan<- int\n",
    "ch // 未初始化通道，值为 nil"
   ]
  },
  {
   "cell_type": "code",
   "execution_count": 4,
   "id": "1f52f826-f71c-4302-971a-f22be9e480dc",
   "metadata": {},
   "outputs": [
    {
     "data": {
      "text/plain": [
       "chan<- int"
      ]
     },
     "execution_count": 4,
     "metadata": {},
     "output_type": "execute_result"
    }
   ],
   "source": [
    "import \"fmt\"\n",
    "fmt.Sprintf(\"%T\",ch) // 通道的类型"
   ]
  },
  {
   "cell_type": "markdown",
   "id": "07b01bee-8522-44e4-a240-c59f950360d1",
   "metadata": {},
   "source": [
    "通道的 `元素类型` 也可以是通道：\n",
    "\n",
    "    chan<- chan int    // same as chan<- (chan int)\n",
    "    chan<- <-chan int  // same as chan<- (<-chan int)\n",
    "    <-chan <-chan int  // same as <-chan (<-chan int)"
   ]
  },
  {
   "cell_type": "markdown",
   "id": "dfa45e74-4b55-4d3a-933f-3bb49d2283cb",
   "metadata": {},
   "source": [
    "可以使用内置函数 make 创建一个新的初始化通道，该函数将通道类型和可选 容量 作为参数。例如："
   ]
  },
  {
   "cell_type": "code",
   "execution_count": 6,
   "id": "81a8c2c6-58fb-42db-9eee-201bc8237d22",
   "metadata": {},
   "outputs": [
    {
     "data": {
      "text/plain": [
       "0xc0001c8000"
      ]
     },
     "execution_count": 6,
     "metadata": {},
     "output_type": "execute_result"
    }
   ],
   "source": [
    "make(chan int, 100)"
   ]
  },
  {
   "cell_type": "markdown",
   "id": "8d805f60-ad20-486d-99fe-30a4e34ab33b",
   "metadata": {},
   "source": [
    "容量根据元素的数量设置通道中缓冲区的大小。如果容量为零或不存在，则通道无缓冲，并且仅当发送方和接收方都准备就绪时，通信才会成功。否则，通道将被缓冲，如果缓冲区未满（发送）或不为空（接收），则通信成功而不会阻塞。nil 通道永远不会准备好进行通信。"
   ]
  },
  {
   "cell_type": "markdown",
   "id": "8adf7454-89e3-4a54-bba7-7cd721dbdda3",
   "metadata": {},
   "source": [
    "**发送** 与 **接收**：\n",
    "\n",
    "发送语句在通道上发送值，语法：`通道 <- 表达式`，表示用 `通道` 发送 `表达式` 的值。通道方向必须允许发送操作，并且要发送的值的类型必须可分配给通道的 `元素类型`。\n",
    "\n",
    "接收操作 `<- 通道`，表示接收通道的（下一个）值，当前值会被丢弃："
   ]
  },
  {
   "cell_type": "code",
   "execution_count": 7,
   "id": "68602e35-a6e3-470f-96b8-5aad4b5dc706",
   "metadata": {},
   "outputs": [],
   "source": [
    "import \"fmt\"\n",
    "\n",
    "func sendData(ch chan string) {\n",
    "        ch <- \"OK\"\n",
    "}\n",
    "\n",
    "func getData(ch chan string) {\n",
    "        input := <- ch\n",
    "        fmt.Printf(\"%s\", input)\n",
    "}"
   ]
  },
  {
   "cell_type": "code",
   "execution_count": 10,
   "id": "e3835fd6-9853-4352-8fa6-f4b3c9ce8508",
   "metadata": {},
   "outputs": [
    {
     "name": "stdout",
     "output_type": "stream",
     "text": [
      "OK"
     ]
    }
   ],
   "source": [
    "import \"time\"\n",
    "\n",
    "ch := make(chan string) // 通道 ch\n",
    "\n",
    "go sendData(ch)\n",
    "go getData(ch)\n",
    "time.Sleep(1e9) // 等待了 1 秒让两个协程完成，如果注释掉将不会打印"
   ]
  },
  {
   "cell_type": "markdown",
   "id": "c541f7c0-9b21-442e-a9da-188e1f9b9e83",
   "metadata": {},
   "source": [
    "只接收的通道无法关闭，因为关闭通道是发送者用来表示不再给通道发送值了，所以对只接收通道是没有意义的。通道可通过内建函数 close 关闭；接收操作符的多值赋值形式可测试通道是否关闭："
   ]
  },
  {
   "cell_type": "code",
   "execution_count": 17,
   "id": "d995b5bc-04fe-45de-a801-4adf8e5c45e7",
   "metadata": {},
   "outputs": [],
   "source": [
    "import \"fmt\"\n",
    "\n",
    "func sendData(ch chan string) {\n",
    "    ch <- \"Washington\"\n",
    "    ch <- \"Tripoli\"\n",
    "    ch <- \"London\"\n",
    "    ch <- \"Beijing\"\n",
    "    ch <- \"Tokio\"\n",
    "    close(ch)\n",
    "}\n",
    "\n",
    "func getData(ch chan string) {\n",
    "    for {\n",
    "        input, open := <- ch\n",
    "        if !open {\n",
    "            break\n",
    "        }\n",
    "        fmt.Printf(\"%s\\n\", input)\n",
    "    }\n",
    "}"
   ]
  },
  {
   "cell_type": "code",
   "execution_count": 18,
   "id": "33330bdd-a0ca-4260-9b1c-9bfa73ddb925",
   "metadata": {},
   "outputs": [
    {
     "name": "stdout",
     "output_type": "stream",
     "text": [
      "Washington\n",
      "Tripoli\n",
      "London\n",
      "Beijing\n",
      "Tokio\n"
     ]
    }
   ],
   "source": [
    "ch := make(chan string)\n",
    "go sendData(ch)\n",
    "getData(ch)"
   ]
  },
  {
   "cell_type": "code",
   "execution_count": 2,
   "id": "90043e05-52c4-4bda-89ad-63df7dc14f27",
   "metadata": {},
   "outputs": [
    {
     "name": "stdout",
     "output_type": "stream",
     "text": [
      "one\n",
      "two\n"
     ]
    }
   ],
   "source": [
    "import \"fmt\"\n",
    "\n",
    "queue := make(chan string, 2)\n",
    "queue <- \"one\"\n",
    "queue <- \"two\"\n",
    "close(queue)\n",
    "\n",
    "for elem := range queue {\n",
    "    fmt.Println(elem)\n",
    "}"
   ]
  }
 ],
 "metadata": {
  "kernelspec": {
   "display_name": "Go",
   "language": "go",
   "name": "go"
  },
  "language_info": {
   "file_extension": ".go",
   "mimetype": "",
   "name": "go",
   "nbconvert_exporter": "",
   "pygments_lexer": "",
   "version": "go1.16.2"
  }
 },
 "nbformat": 4,
 "nbformat_minor": 2
}
