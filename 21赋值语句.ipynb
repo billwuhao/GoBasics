{
 "cells": [
  {
   "cell_type": "markdown",
   "id": "65b9dbb0-cc99-4e70-807b-d5af070d59b1",
   "metadata": {},
   "source": [
    "# 赋值语句\n",
    "\n",
    "操作符 `=` 将右边表达式的值，赋给左边的变量，左操作数必须为可寻址的、映射下标表达式或空白标识符："
   ]
  },
  {
   "cell_type": "code",
   "execution_count": 5,
   "id": "00c040e0-3bb4-4ef0-aa6d-a94dd49abae3",
   "metadata": {},
   "outputs": [
    {
     "data": {
      "text/plain": [
       "1"
      ]
     },
     "execution_count": 5,
     "metadata": {},
     "output_type": "execute_result"
    }
   ],
   "source": [
    "var x int\n",
    "x = 1\n",
    "x"
   ]
  },
  {
   "cell_type": "code",
   "execution_count": 7,
   "id": "369968bd-1637-46e0-913b-ba7e74a15da8",
   "metadata": {},
   "outputs": [
    {
     "data": {
      "text/plain": [
       "[1 3]"
      ]
     },
     "execution_count": 7,
     "metadata": {},
     "output_type": "execute_result"
    }
   ],
   "source": [
    "s := []int{1,2}\n",
    "s[1] = 3\n",
    "s"
   ]
  },
  {
   "cell_type": "code",
   "execution_count": 8,
   "id": "93725601-7c4a-4a97-ab08-b701cf532d5c",
   "metadata": {},
   "outputs": [
    {
     "data": {
      "text/plain": [
       "map[a:0 b:2]"
      ]
     },
     "execution_count": 8,
     "metadata": {},
     "output_type": "execute_result"
    }
   ],
   "source": [
    "m := map[string]int{\"a\":1,\"b\":2}\n",
    "m[\"a\"] = 0\n",
    "m"
   ]
  },
  {
   "cell_type": "markdown",
   "id": "29e26b83-b745-47a5-b62b-56e4e20f1a68",
   "metadata": {},
   "source": [
    "任何值赋给空白标识符，值将被丢弃，常用来占位："
   ]
  },
  {
   "cell_type": "code",
   "execution_count": 9,
   "id": "cf66e84e-0503-4d0b-937c-cfa8835b9c95",
   "metadata": {},
   "outputs": [],
   "source": [
    "_ = 11"
   ]
  },
  {
   "cell_type": "code",
   "execution_count": 10,
   "id": "6f2b0cd1-34ab-45dd-9612-22426e115f27",
   "metadata": {},
   "outputs": [
    {
     "ename": "ERROR",
     "evalue": "repl.go:1:1: undefined identifier: _",
     "output_type": "error",
     "traceback": [
      "repl.go:1:1: undefined identifier: _"
     ]
    }
   ],
   "source": [
    "_"
   ]
  },
  {
   "cell_type": "markdown",
   "id": "c0b6f44b-8b9e-4d75-ab91-bd448ac88b22",
   "metadata": {},
   "source": [
    "赋值操作 `x op= y`，其中 `op` 为一个二元算术操作符，它等价于 `x = x op y`："
   ]
  },
  {
   "cell_type": "code",
   "execution_count": 22,
   "id": "568d4d16-4468-4437-ab86-3f5720d8f0c5",
   "metadata": {},
   "outputs": [
    {
     "data": {
      "text/plain": [
       "2"
      ]
     },
     "execution_count": 22,
     "metadata": {},
     "output_type": "execute_result"
    }
   ],
   "source": [
    "x := 0\n",
    "x += 2\n",
    "x *= 3\n",
    "x -= 1\n",
    "x /= 2\n",
    "x"
   ]
  },
  {
   "cell_type": "code",
   "execution_count": 23,
   "id": "8323a918-5258-42e0-b1d2-bf05295cd2d6",
   "metadata": {},
   "outputs": [
    {
     "data": {
      "text/plain": [
       "8"
      ]
     },
     "execution_count": 23,
     "metadata": {},
     "output_type": "execute_result"
    }
   ],
   "source": [
    "x <<= 2\n",
    "x"
   ]
  },
  {
   "cell_type": "code",
   "execution_count": 24,
   "id": "83f9b811-0c48-4908-8a53-e4fc0b4d7908",
   "metadata": {},
   "outputs": [
    {
     "data": {
      "text/plain": [
       "8"
      ]
     },
     "execution_count": 24,
     "metadata": {},
     "output_type": "execute_result"
    }
   ],
   "source": [
    "x &^= 1 << 4\n",
    "x"
   ]
  },
  {
   "cell_type": "markdown",
   "id": "826c3d6c-cf65-44b0-b8f8-de78c1e8c25c",
   "metadata": {},
   "source": [
    "多个值赋给多个变量，左操作数的数量必须与值的数量相匹配："
   ]
  },
  {
   "cell_type": "code",
   "execution_count": 25,
   "id": "1fee9bc0-a0f1-4791-9e1d-a981543f9a53",
   "metadata": {},
   "outputs": [
    {
     "name": "stderr",
     "output_type": "stream",
     "text": [
      "1 2 3\n"
     ]
    }
   ],
   "source": [
    "var x, y, z int\n",
    "x, y, z = 1, 2, 3\n",
    "println(x, y, z)"
   ]
  },
  {
   "cell_type": "markdown",
   "id": "d478dcf9-0771-4b34-a5b0-35b0bc817240",
   "metadata": {},
   "source": [
    "函数返回多个值，只要其中某（几）个，可以使用空白标识符 _ 忽略不要的："
   ]
  },
  {
   "cell_type": "code",
   "execution_count": 30,
   "id": "eeebdab0-019a-401f-9aa1-0220db51ea69",
   "metadata": {},
   "outputs": [
    {
     "data": {
      "text/plain": [
       "2"
      ]
     },
     "execution_count": 30,
     "metadata": {},
     "output_type": "execute_result"
    }
   ],
   "source": [
    "func f() (int, bool) { return 2, true}\n",
    "x, _ := f()\n",
    "x"
   ]
  },
  {
   "cell_type": "markdown",
   "id": "75416226-bf8a-473f-a22d-279f7a0e05c0",
   "metadata": {},
   "source": [
    "赋值分两个阶段进行。首先，左侧的索引表达式或指针间接寻址 和 右侧表达式的操作数先计算，然后按从左到右的顺序执行："
   ]
  },
  {
   "cell_type": "code",
   "execution_count": 35,
   "id": "254e3ddf-f6a8-4661-84cc-f69324d5db88",
   "metadata": {},
   "outputs": [
    {
     "name": "stderr",
     "output_type": "stream",
     "text": [
      "2 1\n"
     ]
    }
   ],
   "source": [
    "a, b := 1, 2\n",
    "a ,b = b, a // a，b 互换\n",
    "println(a,b)"
   ]
  },
  {
   "cell_type": "code",
   "execution_count": 62,
   "id": "54222e1f-560d-4802-970b-9b3a5bb80703",
   "metadata": {},
   "outputs": [
    {
     "name": "stderr",
     "output_type": "stream",
     "text": [
      "1 [2 2 3]\n"
     ]
    }
   ],
   "source": [
    "x := []int{1, 2, 3}\n",
    "i := 0\n",
    "i, x[i] = 1, 2\n",
    "println(i, x)"
   ]
  },
  {
   "cell_type": "code",
   "execution_count": 63,
   "id": "b61df8d6-4595-459e-90fe-c5f8f661f311",
   "metadata": {},
   "outputs": [
    {
     "name": "stderr",
     "output_type": "stream",
     "text": [
      "1 [5 2 3]\n"
     ]
    }
   ],
   "source": [
    "i = 0\n",
    "x[i], i = 5, 1\n",
    "println(i, x)"
   ]
  },
  {
   "cell_type": "code",
   "execution_count": 64,
   "id": "c33ca00c-d082-4e9e-8894-0a549e0bb60c",
   "metadata": {},
   "outputs": [
    {
     "data": {
      "text/plain": [
       "[2 2 3]"
      ]
     },
     "execution_count": 64,
     "metadata": {},
     "output_type": "execute_result"
    }
   ],
   "source": [
    "x[0], x[0] = 1, 2\n",
    "x"
   ]
  },
  {
   "cell_type": "code",
   "execution_count": 65,
   "id": "143eb769-31e8-44f8-b92e-317060847ea0",
   "metadata": {},
   "outputs": [
    {
     "ename": "ERROR",
     "evalue": "reflect: slice index out of range",
     "output_type": "error",
     "traceback": [
      "reflect: slice index out of range"
     ]
    }
   ],
   "source": [
    "x[1], x[3] = 4, 5 "
   ]
  },
  {
   "cell_type": "code",
   "execution_count": 66,
   "id": "d165c1fd-2041-4d73-9fbc-546c4533007f",
   "metadata": {},
   "outputs": [
    {
     "data": {
      "text/plain": [
       "[2 2 3]"
      ]
     },
     "execution_count": 66,
     "metadata": {},
     "output_type": "execute_result"
    }
   ],
   "source": [
    "x"
   ]
  },
  {
   "cell_type": "code",
   "execution_count": 67,
   "id": "4c6d7b69-58af-4f62-b07d-1abfb83be33a",
   "metadata": {},
   "outputs": [
    {
     "data": {
      "text/plain": [
       "[2 2 6]"
      ]
     },
     "execution_count": 67,
     "metadata": {},
     "output_type": "execute_result"
    }
   ],
   "source": [
    "type Point struct { x, y int }\n",
    "var p Point\n",
    "x[2], p.x = 6, 7\n",
    "x"
   ]
  },
  {
   "cell_type": "code",
   "execution_count": 68,
   "id": "61e947e8-c993-41c4-a48b-4adb3d8025a1",
   "metadata": {},
   "outputs": [
    {
     "data": {
      "text/plain": [
       "7"
      ]
     },
     "execution_count": 68,
     "metadata": {},
     "output_type": "execute_result"
    }
   ],
   "source": [
    "p.x"
   ]
  }
 ],
 "metadata": {
  "kernelspec": {
   "display_name": "Go",
   "language": "go",
   "name": "gophernotes"
  },
  "language_info": {
   "codemirror_mode": "",
   "file_extension": ".go",
   "mimetype": "",
   "name": "go",
   "nbconvert_exporter": "",
   "pygments_lexer": "",
   "version": "go1.17.3"
  }
 },
 "nbformat": 4,
 "nbformat_minor": 5
}
