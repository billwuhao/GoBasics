{
 "cells": [
  {
   "cell_type": "markdown",
   "id": "9d651e51-6b30-4910-8705-6eca88c918f1",
   "metadata": {},
   "source": [
    "# 函数\n",
    "\n",
    "函数有三种类型，普通的有名字的函数，匿名函数和方法。\n",
    "\n",
    "除了 main()、init() 函数外，其它所有类型的函数都可以有参数与返回值。函数参数、返回值以及它们的类型被统称为函数签名。\n",
    "\n",
    "## 函数声明\n",
    "\n",
    "函数声明的一般语法：`func 函数名(形参 类型, ...) (结果形参 类型, ...){函数体}`。\n",
    "\n",
    "声明一个什么也不做，没有形参和函数体的简单函数如下："
   ]
  },
  {
   "cell_type": "code",
   "execution_count": 14,
   "id": "97d2a9d1-2d66-4eff-83ac-d7ee8e415a68",
   "metadata": {},
   "outputs": [],
   "source": [
    "func doNothing(){}"
   ]
  },
  {
   "cell_type": "code",
   "execution_count": 15,
   "id": "9d3ee366-b849-45b0-99ed-23e512049902",
   "metadata": {},
   "outputs": [
    {
     "data": {
      "text/plain": [
       "0x12fa080"
      ]
     },
     "execution_count": 15,
     "metadata": {},
     "output_type": "execute_result"
    }
   ],
   "source": [
    "doNothing // 函数值"
   ]
  },
  {
   "cell_type": "code",
   "execution_count": 16,
   "id": "aef14e6d-473f-494e-912e-940d94d5ea2a",
   "metadata": {},
   "outputs": [
    {
     "data": {
      "text/plain": [
       "func()"
      ]
     },
     "execution_count": 16,
     "metadata": {},
     "output_type": "execute_result"
    }
   ],
   "source": [
    "import \"fmt\"\n",
    "fmt.Sprintf(\"%T\",doNothing) // 函数 doNothing 的类型"
   ]
  },
  {
   "cell_type": "markdown",
   "id": "b6b1c8c6-dd17-4101-9367-b1fdb54b8893",
   "metadata": {},
   "source": [
    "## 函数调用\n",
    "\n",
    "函数调用一般语法：`函数名(实参, ...)`，`实参` 是传到函数中代替形参进行计算的实际参数。\n",
    "\n",
    "打印两个整数之和的函数："
   ]
  },
  {
   "cell_type": "code",
   "execution_count": 3,
   "id": "8d38a544-2f56-4168-9ddc-85e376eb3557",
   "metadata": {},
   "outputs": [
    {
     "name": "stdout",
     "output_type": "stream",
     "text": [
      "5\n"
     ]
    }
   ],
   "source": [
    "import \"fmt\"\n",
    "\n",
    "func Add1(x int, y int){ // 注意没有结果形参及其类型\n",
    "    fmt.Println(x + y)\n",
    "}\n",
    "\n",
    "Add1(2, 3) // 调用"
   ]
  },
  {
   "cell_type": "code",
   "execution_count": 4,
   "id": "c090a0c7-1fca-4b93-b8ab-abd43915c0cf",
   "metadata": {},
   "outputs": [
    {
     "data": {
      "text/plain": [
       "func(int, int)"
      ]
     },
     "execution_count": 4,
     "metadata": {},
     "output_type": "execute_result"
    }
   ],
   "source": [
    "import \"fmt\"\n",
    "fmt.Sprintf(\"%T\",Add1) // 函数 Add1 的类型"
   ]
  },
  {
   "cell_type": "markdown",
   "id": "75d6a48b-b631-4f7c-af68-47a70f4c4fa8",
   "metadata": {},
   "source": [
    "## 函数返回值\n",
    "\n",
    "函数调用时，执行到 `return` 语句（如果有）就停止执行，并将 `return` 语句之后的值返回给调用者。\n",
    "\n",
    "返回两个整数之和的函数："
   ]
  },
  {
   "cell_type": "code",
   "execution_count": 5,
   "id": "56908514-7303-455f-8879-a7dbb996af09",
   "metadata": {},
   "outputs": [
    {
     "data": {
      "text/plain": [
       "5"
      ]
     },
     "execution_count": 5,
     "metadata": {},
     "output_type": "execute_result"
    }
   ],
   "source": [
    "func Add2(x int, y int) int { // 注意有结果类型 int\n",
    "    return x + y\n",
    "}\n",
    "\n",
    "Add2(2, 3) // 调用"
   ]
  },
  {
   "cell_type": "code",
   "execution_count": 6,
   "id": "e7251125-1ecc-48d3-9d46-67f1186b193e",
   "metadata": {},
   "outputs": [
    {
     "data": {
      "text/plain": [
       "func(int, int) int"
      ]
     },
     "execution_count": 6,
     "metadata": {},
     "output_type": "execute_result"
    }
   ],
   "source": [
    "import \"fmt\"\n",
    "fmt.Sprintf(\"%T\",Add2) // 函数 Add2 的类型"
   ]
  },
  {
   "cell_type": "code",
   "execution_count": 7,
   "id": "14b40729-cd30-4e91-a304-95f468bc6b90",
   "metadata": {},
   "outputs": [
    {
     "data": {
      "text/plain": [
       "5"
      ]
     },
     "execution_count": 7,
     "metadata": {},
     "output_type": "execute_result"
    }
   ],
   "source": [
    "func Add2(x int, y int) (z int) { // 注意有结果形参 z 及其类型 int\n",
    "    z = x + y\n",
    "    // retrun z\n",
    "    return // return 后面的表达式 z 可以省略\n",
    "}\n",
    "\n",
    "Add2(2, 3) // 调用"
   ]
  },
  {
   "cell_type": "code",
   "execution_count": 8,
   "id": "2fe1f62c-7860-4cdd-84da-1355e4464a7b",
   "metadata": {},
   "outputs": [
    {
     "data": {
      "text/plain": [
       "func(int, int) int"
      ]
     },
     "execution_count": 8,
     "metadata": {},
     "output_type": "execute_result"
    }
   ],
   "source": [
    "import \"fmt\"\n",
    "fmt.Sprintf(\"%T\",Add2) // 函数 Add2 的类型"
   ]
  },
  {
   "cell_type": "markdown",
   "id": "6b70b35f-54e5-40e6-96a3-3610a438cece",
   "metadata": {},
   "source": [
    "函数的返回值可以赋值给变量，如果没有返回值则不能赋值："
   ]
  },
  {
   "cell_type": "code",
   "execution_count": 36,
   "id": "a270c3f8-7b12-499a-835e-34bd6f7c6966",
   "metadata": {},
   "outputs": [
    {
     "data": {
      "text/plain": [
       "5"
      ]
     },
     "execution_count": 36,
     "metadata": {},
     "output_type": "execute_result"
    }
   ],
   "source": [
    "a2 := Add2(2, 3)\n",
    "a2"
   ]
  },
  {
   "cell_type": "code",
   "execution_count": 2,
   "id": "45f63307-fc7f-4749-a4c2-7c06c1b432a7",
   "metadata": {},
   "outputs": [
    {
     "ename": "ERROR",
     "evalue": "repl.go:1:15: expression returns no values, expecting one: Add1(2, 3)",
     "output_type": "error",
     "traceback": [
      "repl.go:1:15: expression returns no values, expecting one: Add1(2, 3)"
     ]
    }
   ],
   "source": [
    "a1 := Add1(2, 3)\n",
    "a1"
   ]
  },
  {
   "cell_type": "code",
   "execution_count": 9,
   "id": "24ed6f80-8943-4ba9-82c3-97b0932dff8c",
   "metadata": {},
   "outputs": [
    {
     "name": "stdout",
     "output_type": "stream",
     "text": [
      "5\n"
     ]
    },
    {
     "data": {
      "text/plain": [
       "0"
      ]
     },
     "execution_count": 9,
     "metadata": {},
     "output_type": "execute_result"
    }
   ],
   "source": [
    "import \"fmt\"\n",
    "\n",
    "func Add3(x int, y int) int { // 注意有结果形参类型 int\n",
    "    fmt.Println(x + y) // 没有 return 语句\n",
    "}\n",
    "\n",
    "a3 := Add3(2, 3) // 调用\n",
    "a3 // 返回 结果形参类型 的零值，5 是打印输出，不是返回值"
   ]
  },
  {
   "cell_type": "markdown",
   "id": "f6b9385f-2eec-48ba-8f79-04300f426472",
   "metadata": {},
   "source": [
    "函数返回多个值："
   ]
  },
  {
   "cell_type": "code",
   "execution_count": 2,
   "id": "48c70d76-0096-4155-8b8d-25cc633d330c",
   "metadata": {},
   "outputs": [
    {
     "data": {
      "text/plain": [
       "1"
      ]
     },
     "execution_count": 2,
     "metadata": {},
     "output_type": "execute_result"
    }
   ],
   "source": [
    "func f() (int, string) { return 1, \"a\" }\n",
    "x, y := f()\n",
    "x"
   ]
  },
  {
   "cell_type": "code",
   "execution_count": 3,
   "id": "572b3d21-edfb-48f6-be08-36cfaa3f4fbf",
   "metadata": {},
   "outputs": [
    {
     "data": {
      "text/plain": [
       "a"
      ]
     },
     "execution_count": 3,
     "metadata": {},
     "output_type": "execute_result"
    }
   ],
   "source": [
    "y"
   ]
  },
  {
   "cell_type": "markdown",
   "id": "996531b5-26d7-420f-815a-7c4a8113ec00",
   "metadata": {},
   "source": [
    "## 可变参数\n",
    "\n",
    "形参类型前面有 ...（例如 `...int`），则该形参是可变形参，只能放在最后，可以传入 0 个或多个实参调用函数：\n",
    "\n",
    "求传入整数之和的函数："
   ]
  },
  {
   "cell_type": "code",
   "execution_count": 12,
   "id": "7c623535-e151-48be-b33c-4639f4b25739",
   "metadata": {},
   "outputs": [
    {
     "data": {
      "text/plain": [
       "10"
      ]
     },
     "execution_count": 12,
     "metadata": {},
     "output_type": "execute_result"
    }
   ],
   "source": [
    "func Add(nums ...int) int {\n",
    "    var sum int\n",
    "    for _, i := range nums {\n",
    "        sum += i\n",
    "    }\n",
    "    return sum\n",
    "}\n",
    "\n",
    "Add(1,2,3,4) // 调用"
   ]
  },
  {
   "cell_type": "markdown",
   "id": "ad453396-958f-4129-a363-fb1e8cf4e8b8",
   "metadata": {},
   "source": [
    "可变形参，可以使用切片后跟三个 `.` 传参调用函数："
   ]
  },
  {
   "cell_type": "code",
   "execution_count": 17,
   "id": "d812a98c-7fa8-4ac7-b046-c56aca753c53",
   "metadata": {},
   "outputs": [
    {
     "data": {
      "text/plain": [
       "15"
      ]
     },
     "execution_count": 17,
     "metadata": {},
     "output_type": "execute_result"
    }
   ],
   "source": [
    "s := []int{1,2,3,4,5}\n",
    "\n",
    "Add(s...) // 调用"
   ]
  },
  {
   "cell_type": "markdown",
   "id": "a837df45-b54d-4065-aba5-ca21e2be72f0",
   "metadata": {},
   "source": [
    "## 匿名函数\n",
    "\n",
    "声明函数时没有函数名，就成了匿名函数："
   ]
  },
  {
   "cell_type": "code",
   "execution_count": 19,
   "id": "c274452e-3c70-4329-a7b0-ecbbfd9d6b72",
   "metadata": {},
   "outputs": [
    {
     "data": {
      "text/plain": [
       "3"
      ]
     },
     "execution_count": 19,
     "metadata": {},
     "output_type": "execute_result"
    }
   ],
   "source": [
    "// 匿名函数赋值给变量 f\n",
    "f := func(x int, y int) int {return x + y}\n",
    "f(1, 2) // 调用"
   ]
  },
  {
   "cell_type": "markdown",
   "id": "f58c2f95-065f-4a87-b733-1bccd6c7a60e",
   "metadata": {},
   "source": [
    "将匿名函数作为函数的返回值："
   ]
  },
  {
   "cell_type": "code",
   "execution_count": 20,
   "id": "76c7bc85-1c91-4dad-a33b-ec8a8eb5b038",
   "metadata": {},
   "outputs": [
    {
     "data": {
      "text/plain": [
       "0x11aa8a0"
      ]
     },
     "execution_count": 20,
     "metadata": {},
     "output_type": "execute_result"
    }
   ],
   "source": [
    "func Adder(a int) func(b int) int {\n",
    "    return func(b int) int {\n",
    "        return a + b\n",
    "    }\n",
    "}\n",
    "\n",
    "a := Adder(1)\n",
    "a // 返回值是一个函数"
   ]
  },
  {
   "cell_type": "code",
   "execution_count": 21,
   "id": "ae8192f2-6bf6-45d7-8584-f5f58f546fb7",
   "metadata": {},
   "outputs": [
    {
     "data": {
      "text/plain": [
       "func(int) int"
      ]
     },
     "execution_count": 21,
     "metadata": {},
     "output_type": "execute_result"
    }
   ],
   "source": [
    "import \"fmt\"\n",
    "fmt.Sprintf(\"%T\",a) // 返回值的类型"
   ]
  },
  {
   "cell_type": "markdown",
   "id": "35f1c96c-0306-434e-8d3f-0e8400024583",
   "metadata": {},
   "source": [
    "## 将函数作为参数\n",
    "\n",
    "函数可以作为其它函数的参数进行传递，然后在其它函数内调用执行，一般称之为回调。下面是一个将函数作为参数的简单例子："
   ]
  },
  {
   "cell_type": "code",
   "execution_count": 2,
   "id": "eb44c251-7ca1-429d-870f-8b6d1389bfc7",
   "metadata": {},
   "outputs": [
    {
     "data": {
      "text/plain": [
       "10"
      ]
     },
     "execution_count": 2,
     "metadata": {},
     "output_type": "execute_result"
    }
   ],
   "source": [
    "func Add(a, b int) int {\n",
    "    return a + b\n",
    "}\n",
    "\n",
    "func CallBack(x int, y int, f func(int, int) int) int {\n",
    "    return f(x, y) * 2\n",
    "}\n",
    "\n",
    "CallBack(2, 3, Add)"
   ]
  }
 ],
 "metadata": {
  "kernelspec": {
   "display_name": "Go",
   "language": "go",
   "name": "gophernotes"
  },
  "language_info": {
   "codemirror_mode": "",
   "file_extension": ".go",
   "mimetype": "",
   "name": "go",
   "nbconvert_exporter": "",
   "pygments_lexer": "",
   "version": "go1.17.3"
  }
 },
 "nbformat": 4,
 "nbformat_minor": 5
}
