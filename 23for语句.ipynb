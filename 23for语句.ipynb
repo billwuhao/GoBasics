{
 "cells": [
  {
   "cell_type": "markdown",
   "id": "6e837815-2b1d-41ef-a33a-9710349ea6f3",
   "metadata": {},
   "source": [
    "# for 语句\n",
    "\n",
    "for 语句指定块的重复执行。迭代通过 `条件`、`for 子句` 或 `range 子句` 控制。\n",
    "\n",
    "    for 条件 或 for子句 或 range子句 块\n",
    "\n",
    "## 单一条件 for 语句\n",
    "\n",
    "最简单的形式，for 语句只要条件的计算结果为 true，块就重复执行。在每次迭代之前对条件求值。如果缺少该条件，则等效于布尔值 true："
   ]
  },
  {
   "cell_type": "code",
   "execution_count": 5,
   "id": "108c8e62-4689-4e7a-80c7-f9117dd76cc4",
   "metadata": {},
   "outputs": [
    {
     "name": "stdout",
     "output_type": "stream",
     "text": [
      "a = 2\n",
      "a = 4\n",
      "a = 8\n",
      "a = 16\n"
     ]
    }
   ],
   "source": [
    "import \"fmt\"\n",
    "\n",
    "a, b := 1, 10\n",
    "for a < b {\n",
    "    a *= 2\n",
    "    fmt.Println(\"a =\", a)\n",
    "}"
   ]
  },
  {
   "cell_type": "code",
   "execution_count": 6,
   "id": "b3483725-2009-41fd-a9f6-bf58f69013bc",
   "metadata": {},
   "outputs": [
    {
     "name": "stdout",
     "output_type": "stream",
     "text": [
      "ok"
     ]
    }
   ],
   "source": [
    "import \"fmt\"\n",
    "\n",
    "for {\n",
    "    fmt.Print(\"ok\")\n",
    "    break\n",
    "}"
   ]
  },
  {
   "cell_type": "markdown",
   "id": "5a4ab6f2-d1a2-4aeb-82f2-0c3de63b73ef",
   "metadata": {},
   "source": [
    "## 带有 for 子句的 for 语句\n",
    "\n",
    "带有 for 子句的 for 语句受子句条件控制，for 子句语法：\n",
    "\n",
    "    InitStmt; ondition; PostStmt\n",
    "    \n",
    "InitStmt 语句可以是一个短变量声明，但 PostStmt 语句不能。InitStmt 语句声明的变量在每次迭代中都会重用:"
   ]
  },
  {
   "cell_type": "code",
   "execution_count": 8,
   "id": "4eab0ab1-ab10-4980-b9ea-21cbede50e5f",
   "metadata": {},
   "outputs": [
    {
     "name": "stdout",
     "output_type": "stream",
     "text": [
      "ok\n",
      "ok\n",
      "ok\n",
      "ok\n",
      "ok\n"
     ]
    }
   ],
   "source": [
    "import \"fmt\"\n",
    "\n",
    "// 打印 5 次 ok\n",
    "for i := 0; i < 5; i++ {\n",
    "    fmt.Println(\"ok\")\n",
    "}"
   ]
  },
  {
   "cell_type": "markdown",
   "id": "e25a1248-fddb-4929-bd0e-45a3146cd5ed",
   "metadata": {},
   "source": [
    "任何 for 子句的元素都可为空，除非只有一个条件，否则分号是必须的："
   ]
  },
  {
   "cell_type": "code",
   "execution_count": 11,
   "id": "3c312113-af53-4e47-8e3a-37917730ff55",
   "metadata": {},
   "outputs": [
    {
     "name": "stdout",
     "output_type": "stream",
     "text": [
      "ok\n",
      "ok\n",
      "ok\n",
      "ok\n",
      "ok\n"
     ]
    }
   ],
   "source": [
    "import \"fmt\"\n",
    "\n",
    "i := 0\n",
    "// 打印 5 次 ok\n",
    "for ; i < 5; i++ {\n",
    "    fmt.Println(\"ok\")\n",
    "}"
   ]
  },
  {
   "cell_type": "markdown",
   "id": "66237200-1b82-4121-832d-9eb565e8f48d",
   "metadata": {},
   "source": [
    "## 带有 range 子句的 for 语句\n",
    "\n",
    "带有 range 子句的 for 语句循环访问数组、切片、字符串或映射的所有条目，或通道上收到的值。对于每个条目，它将迭代值分配给相应的迭代变量（如果存在），然后执行块。\n",
    "\n",
    "range 子句语法：`迭代变量列表 =(或 :=) range 表达式`\n",
    "\n",
    "表达式可以是数组、指向数组的指针、切片、字符串、映射或允许接收操作的通道。迭代变量列表 是可选的，如果 表达式 是通道，则最多允许一个迭代变量，否则最多可能有两个迭代变量。如果最后一个迭代变量是空白标识符，则 range 子句等效于没有该标识符。\n",
    "\n",
    "- 对于数组、数组指针或切片值 a，下标迭代值按照递增顺序产生，从元素下标 0 开始。 作为一种特殊情况，若只存在第一个迭代变量，则 range 循环提供从 0 到 len(a) 的迭代变量而非索引该数组或切片自身。对于 nil 切片，迭代次数为 0。\n",
    "\n",
    "- 对于字符串值， range 子句从字节下标 0 开始，遍历该字符串中的 Unicode 码点。在连续迭代中， 其下标值为该字符串中连续 UTF-8 编码码点第一个字节的下标。而类型为 rune 的第二个值为则其相应码点的值。若该迭代遇到无效的 UTF-8 序列，则第二个值将为 Unicode 占位字符 0xFFD，且下一次迭代将推进至此字符串中的单个字节。\n",
    "\n",
    "- 映射的遍历顺序不确定且从某一次迭代到下一次并不保证相同。若在迭代过程中移除的映射项尚未受到影响， 则相应的迭代值不会产生。若在迭代过程中创建映射项，则该项可能会在迭代中产生或被跳过。 这种选择可能会改变已经创建的每一个项，并从一次迭代进入到下一次迭代中。 若该映射为 nil，则迭代的次数为0。\n",
    "\n",
    "- 对于通道，其迭代值产生为在该通道上发送的连续值，直到该通道被关闭。若该通道为 nil，则 range 表达式将永远阻塞。"
   ]
  },
  {
   "cell_type": "code",
   "execution_count": 18,
   "id": "685d587c-9958-47cd-a3de-42230317b542",
   "metadata": {},
   "outputs": [
    {
     "name": "stdout",
     "output_type": "stream",
     "text": [
      "ok\n",
      "ok\n",
      "ok\n",
      "ok\n",
      "ok\n"
     ]
    }
   ],
   "source": [
    "import \"fmt\"\n",
    "\n",
    "// 打印 5 次 ok\n",
    "for range [5]int{} {\n",
    "    fmt.Println(\"ok\")\n",
    "}"
   ]
  },
  {
   "cell_type": "code",
   "execution_count": 45,
   "id": "be3bc8d0-d135-4a7b-ab94-cad3eafc3d43",
   "metadata": {},
   "outputs": [
    {
     "name": "stdout",
     "output_type": "stream",
     "text": [
      "one\n",
      "two\n"
     ]
    }
   ],
   "source": [
    "import \"fmt\"\n",
    "\n",
    "queue := make(chan string, 2) // 通道\n",
    "queue <- \"one\"\n",
    "queue <- \"two\"\n",
    "close(queue)\n",
    "\n",
    "for elem := range queue {\n",
    "    fmt.Println(elem)\n",
    "}"
   ]
  },
  {
   "cell_type": "code",
   "execution_count": 47,
   "id": "02245b99-f6df-468a-abc2-99269d8bc5b7",
   "metadata": {},
   "outputs": [
    {
     "name": "stdout",
     "output_type": "stream",
     "text": [
      "0\n",
      "1\n",
      "2\n",
      "3\n"
     ]
    }
   ],
   "source": [
    "import \"fmt\"\n",
    "\n",
    "for i := range \"abcd\" { // 等效于 i, _ := range\n",
    "    fmt.Println(i)\n",
    "}"
   ]
  },
  {
   "cell_type": "code",
   "execution_count": 54,
   "id": "5037948a-fbbf-47cb-89eb-800b4a5258f2",
   "metadata": {},
   "outputs": [
    {
     "name": "stdout",
     "output_type": "stream",
     "text": [
      "0 97\n",
      "1 98\n",
      "2 99\n",
      "3 100\n",
      "4 23398\n",
      "7 20064\n"
     ]
    }
   ],
   "source": [
    "for i, j := range \"abcd学习\" {\n",
    "    fmt.Println(i, j)\n",
    "}"
   ]
  },
  {
   "cell_type": "code",
   "execution_count": 51,
   "id": "438fe336-8ab1-4ed4-8a95-a2046e005c22",
   "metadata": {},
   "outputs": [
    {
     "name": "stdout",
     "output_type": "stream",
     "text": [
      "a 11\n",
      "b 12\n"
     ]
    }
   ],
   "source": [
    "import \"fmt\"\n",
    "\n",
    "for i, j := range map[string]int{\"a\":11, \"b\":12} { // 映射\n",
    "    fmt.Println(i, j)\n",
    "}"
   ]
  },
  {
   "cell_type": "code",
   "execution_count": 62,
   "id": "8e7536db-a063-42bb-a83c-de471058a8a6",
   "metadata": {},
   "outputs": [
    {
     "name": "stdout",
     "output_type": "stream",
     "text": [
      "mon 0\n",
      "tue 1\n",
      "wed 2\n",
      "thu 3\n",
      "fri 4\n",
      "sat 5\n",
      "sun 6\n"
     ]
    }
   ],
   "source": [
    "import \"fmt\"\n",
    "\n",
    "var key string\n",
    "var val interface{}\n",
    "m := map[string]int{\"mon\":0, \"tue\":1, \"wed\":2, \"thu\":3, \"fri\":4, \"sat\":5, \"sun\":6}\n",
    "\n",
    "for key, val = range m {\n",
    "    fmt.Println(key, val)\n",
    "}"
   ]
  }
 ],
 "metadata": {
  "kernelspec": {
   "display_name": "Go",
   "language": "go",
   "name": "go"
  },
  "language_info": {
   "file_extension": ".go",
   "mimetype": "",
   "name": "go",
   "nbconvert_exporter": "",
   "pygments_lexer": "",
   "version": "go1.16.2"
  }
 },
 "nbformat": 4,
 "nbformat_minor": 2
}
