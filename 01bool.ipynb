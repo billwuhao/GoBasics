{
 "cells": [
  {
   "cell_type": "markdown",
   "id": "9c83cdbb-7402-4c40-bdbc-3e7b0834132f",
   "metadata": {},
   "source": [
    "# 布尔值\n",
    "\n",
    "布尔值只有 true 和 false："
   ]
  },
  {
   "cell_type": "code",
   "execution_count": 9,
   "id": "3e166870-bccf-4006-aa27-53ef476c856d",
   "metadata": {},
   "outputs": [
    {
     "data": {
      "text/plain": [
       "true"
      ]
     },
     "execution_count": 9,
     "metadata": {},
     "output_type": "execute_result"
    }
   ],
   "source": [
    "true"
   ]
  },
  {
   "cell_type": "code",
   "execution_count": 10,
   "id": "f95f21e2-87bc-4fbd-8015-19008ea6f307",
   "metadata": {},
   "outputs": [
    {
     "data": {
      "text/plain": [
       "false"
      ]
     },
     "execution_count": 10,
     "metadata": {},
     "output_type": "execute_result"
    }
   ],
   "source": [
    "false"
   ]
  },
  {
   "cell_type": "markdown",
   "id": "095f0ad6-bee0-4103-8c7c-0079d90cf0c3",
   "metadata": {},
   "source": [
    "比较操作符 `==`，`!=`，`<`，`<=`，`>`，`>=` 比较两个值会产生一个布尔值："
   ]
  },
  {
   "cell_type": "code",
   "execution_count": 74,
   "id": "ea439569-8656-42df-b3cd-f3bac772e55d",
   "metadata": {},
   "outputs": [
    {
     "data": {
      "text/plain": [
       "true"
      ]
     },
     "execution_count": 74,
     "metadata": {},
     "output_type": "execute_result"
    }
   ],
   "source": [
    "1 == 1.0"
   ]
  },
  {
   "cell_type": "code",
   "execution_count": 76,
   "id": "4e0d07df-76e9-4bc7-baab-49e4cf182761",
   "metadata": {},
   "outputs": [
    {
     "data": {
      "text/plain": [
       "true"
      ]
     },
     "execution_count": 76,
     "metadata": {},
     "output_type": "execute_result"
    }
   ],
   "source": [
    "\"a\" < \"b\""
   ]
  },
  {
   "cell_type": "markdown",
   "id": "b85f801d-7eb1-4023-8bb6-916aee4ee3da",
   "metadata": {},
   "source": [
    "布尔值（或值为布尔值的表达式）之间可使用逻辑操作符 `&&`（与），`||`（或），`!`（非）产生布尔值："
   ]
  },
  {
   "cell_type": "code",
   "execution_count": 77,
   "id": "0184ffa5-1432-4738-952d-065a0f62bbcd",
   "metadata": {},
   "outputs": [
    {
     "data": {
      "text/plain": [
       "false"
      ]
     },
     "execution_count": 77,
     "metadata": {},
     "output_type": "execute_result"
    }
   ],
   "source": [
    "true && false"
   ]
  },
  {
   "cell_type": "code",
   "execution_count": 78,
   "id": "bcee952a-6ec4-4bde-be96-64d43071cf0e",
   "metadata": {},
   "outputs": [
    {
     "data": {
      "text/plain": [
       "true"
      ]
     },
     "execution_count": 78,
     "metadata": {},
     "output_type": "execute_result"
    }
   ],
   "source": [
    "false || 1 < 2"
   ]
  },
  {
   "cell_type": "code",
   "execution_count": 82,
   "id": "a94e29ac-5e3d-4a77-83be-2f50d8277d9c",
   "metadata": {},
   "outputs": [
    {
     "data": {
      "text/plain": [
       "false"
      ]
     },
     "execution_count": 82,
     "metadata": {},
     "output_type": "execute_result"
    }
   ],
   "source": [
    "!(3.0 == 3)"
   ]
  },
  {
   "cell_type": "markdown",
   "id": "23bf1aa6-8677-42c9-8aee-9e232a83a386",
   "metadata": {},
   "source": [
    "操作符 `&&`（与），只有两边值都是 true 时，结果才是 true："
   ]
  },
  {
   "cell_type": "code",
   "execution_count": 83,
   "id": "24153c50-fa1c-4e1d-8991-e5cdff565fe5",
   "metadata": {},
   "outputs": [
    {
     "data": {
      "text/plain": [
       "false"
      ]
     },
     "execution_count": 83,
     "metadata": {},
     "output_type": "execute_result"
    }
   ],
   "source": [
    "true && false"
   ]
  },
  {
   "cell_type": "markdown",
   "id": "487b5ce0-9a73-4afa-b143-f0df98648f8b",
   "metadata": {},
   "source": [
    "操作符 `||`（或），只有两边的值都是 false 时，结果才是 false："
   ]
  },
  {
   "cell_type": "code",
   "execution_count": 86,
   "id": "61a6a8b3-430c-4c81-a0c0-1a1a0db0c184",
   "metadata": {},
   "outputs": [
    {
     "data": {
      "text/plain": [
       "true"
      ]
     },
     "execution_count": 86,
     "metadata": {},
     "output_type": "execute_result"
    }
   ],
   "source": [
    "false || true"
   ]
  },
  {
   "cell_type": "markdown",
   "id": "0d84db6c-be4f-4a77-ad55-8adf1a468829",
   "metadata": {},
   "source": [
    "逻辑操作符优先级 `!` > `&&` > `||`："
   ]
  },
  {
   "cell_type": "code",
   "execution_count": 89,
   "id": "0fa23ec6-fa2d-4698-927d-d36fc8206c51",
   "metadata": {},
   "outputs": [
    {
     "data": {
      "text/plain": [
       "true"
      ]
     },
     "execution_count": 89,
     "metadata": {},
     "output_type": "execute_result"
    }
   ],
   "source": [
    "true || !false && false"
   ]
  },
  {
   "cell_type": "markdown",
   "id": "5e980447-1595-40dd-ae7f-97304b4c7a8b",
   "metadata": {},
   "source": [
    "当运算符左边表达式的值已经能够决定整个表达式的值的时候（`&&` 左边的值为 false，`||` 左边的值为 true），运算符右边的表达式将不会被执行。利用这个性质，如果你有多个条件判断，应当将计算过程较为复杂的表达式放在运算符的右侧以减少不必要的运算。"
   ]
  }
 ],
 "metadata": {
  "kernelspec": {
   "display_name": "Go",
   "language": "go",
   "name": "go"
  },
  "language_info": {
   "file_extension": ".go",
   "mimetype": "",
   "name": "go",
   "nbconvert_exporter": "",
   "pygments_lexer": "",
   "version": "go1.16.2"
  }
 },
 "nbformat": 4,
 "nbformat_minor": 2
}
