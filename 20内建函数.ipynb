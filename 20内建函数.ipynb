{
 "cells": [
  {
   "cell_type": "markdown",
   "id": "6ad292bc-e6ad-4729-948a-6f090069adda",
   "metadata": {},
   "source": [
    "# 内建函数\n",
    "\n",
    "内置函数已预先声明。它们像任何其他函数一样被调用，但其中一些函数接受类型而不是表达式作为第一个参数。\n",
    "\n",
    "内建函数：\n",
    "\n",
    "    append cap close complex copy delete imag len\n",
    "    make new panic print println real recover\n",
    "\n",
    "内置函数没有标准的 Go 类型，因此它们只能调用而不能用作函数值。"
   ]
  },
  {
   "cell_type": "markdown",
   "id": "975e90f7-bcde-4c3d-9e89-60a5b088bc3d",
   "metadata": {},
   "source": [
    "## close\n",
    "\n",
    "对于通道 c，内置函数 close(c) 标明不再在通道上发送值。如果是仅接收通道，则产生一个错误。发送到或关闭已关闭的通道会导致运行时死机。关闭 nil 通道也会导致运行时死机。调用 close 后，以及在收到任何先前发送的值后，接收操作将返回通道类型的零值，而不会阻塞。"
   ]
  },
  {
   "cell_type": "markdown",
   "id": "3ab9716d-d7e1-4c21-a9e1-09ff74bac5fa",
   "metadata": {},
   "source": [
    "## len 和 cap\n",
    "\n",
    "函数 len 用于获得字符串所占字节数；数组、切片、映射 以及 通道缓存中排队 的元素的个数：\n",
    "\n",
    "    string type      string length in bytes\n",
    "    [n]T, *[n]T      array length (== n)\n",
    "    []T              slice length\n",
    "    map[K]T          map length (number of defined keys)\n",
    "    chan T           number of elements queued in channel buffer\n",
    "    \n",
    "函数 cap 用于获得数组的元素个数；切片的容量以及通道缓存的容量：\n",
    "\n",
    "    [n]T, *[n]T      array length (== n)\n",
    "    []T              slice capacity\n",
    "    chan T           channel buffer capacity\n",
    "    \n",
    "nil 切片、映射或通道的长度为 0。nil 切片和通道的容量为 0。\n",
    "\n",
    "以下关系在任何时候都成立：\n",
    "\n",
    "    0 <= len(s) <= cap(s)\n",
    "\n",
    "若 s 为字符串常量，则表达式 len(s) 为常量。 若 s 的类型为数组或数组指针，且表达式 s 不包含 通道接收 或（非常量）函数调用，则表达式 len(s) 与 cap(s) 为常量，否则，不为常量："
   ]
  },
  {
   "cell_type": "code",
   "execution_count": 20,
   "id": "03e67ec1-d291-41c3-ad33-ec951206d36d",
   "metadata": {},
   "outputs": [
    {
     "name": "stderr",
     "output_type": "stream",
     "text": [
      "2 10 10 10\n"
     ]
    }
   ],
   "source": [
    "const (\n",
    "    c1 = imag(2i)                    // imag(2i) = 2.0 is a constant\n",
    "    c2 = len([10]float64{2})         // [10]float64{2} contains no function calls\n",
    "    c3 = len([10]float64{c1})        // [10]float64{c1} contains no function calls\n",
    "    c4 = len([10]float64{imag(2i)})  // imag(2i) is a constant and no function call is issued\n",
    ")\n",
    "println(c1,c2,c3,c4)"
   ]
  },
  {
   "cell_type": "code",
   "execution_count": 19,
   "id": "e00b91a4-1610-499a-9f3b-3ee8085bd37c",
   "metadata": {},
   "outputs": [
    {
     "data": {
      "text/plain": [
       "10"
      ]
     },
     "execution_count": 19,
     "metadata": {},
     "output_type": "execute_result"
    }
   ],
   "source": [
    "var z complex128\n",
    "\n",
    "const (\n",
    "    c5 = len([10]float64{imag(z)})   // invalid: imag(z) is a (non-constant) function call\n",
    ")\n",
    "\n",
    "c5"
   ]
  },
  {
   "cell_type": "markdown",
   "id": "7fc9aa4c-57d6-48b5-b14b-43d7ca3fe5a0",
   "metadata": {},
   "source": [
    "## new\n",
    "\n",
    "内建函数 new 接受类型 `T` 并返回类型为 `*T` 的值。其内存按照 **零值** 来初始化："
   ]
  },
  {
   "cell_type": "code",
   "execution_count": 21,
   "id": "ce9659d7-49ab-4314-8406-8d3bb6894303",
   "metadata": {},
   "outputs": [
    {
     "data": {
      "text/plain": [
       "0xc000422c28"
      ]
     },
     "execution_count": 21,
     "metadata": {},
     "output_type": "execute_result"
    }
   ],
   "source": [
    "new(int)"
   ]
  },
  {
   "cell_type": "code",
   "execution_count": 22,
   "id": "73ef79bb-b08d-4b9e-9831-89a4d1ea3f0a",
   "metadata": {},
   "outputs": [
    {
     "data": {
      "text/plain": [
       "0"
      ]
     },
     "execution_count": 22,
     "metadata": {},
     "output_type": "execute_result"
    }
   ],
   "source": [
    "*new(int)"
   ]
  },
  {
   "cell_type": "code",
   "execution_count": 27,
   "id": "867a51e8-2267-4fc3-9599-621a66fa7030",
   "metadata": {},
   "outputs": [
    {
     "data": {
      "text/plain": [
       "&{0 0}"
      ]
     },
     "execution_count": 27,
     "metadata": {},
     "output_type": "execute_result"
    }
   ],
   "source": [
    "new(struct { a int; b float32})"
   ]
  },
  {
   "cell_type": "markdown",
   "id": "bc2dda49-73db-45a2-9d3d-85a2f135e592",
   "metadata": {},
   "source": [
    "## make\n",
    "\n",
    "切片、映射与通道为引用类型，无需使用 new 来间接额外分配，而是用 make 来初始化。\n",
    "\n",
    "make 接受类型 `T` 返回类型为 `T` 的值，也是按照 零值 来初始化。make 调用规则：\n",
    "\n",
    "    调用             类型 T     结果\n",
    "\n",
    "    make(T, n)       slice      类型为T，长度为n，容量为n的切片\n",
    "    make(T, n, m)    slice      类型为T，长度为n，容量为m的切片\n",
    "\n",
    "    make(T)          map        类型为T的映射\n",
    "    make(T, n)       map        类型为T，初始空间为n个元素的映射\n",
    "\n",
    "    make(T)          channel    类型为T的同步信道\n",
    "    make(T, n)       channel    类型为T，缓存大小为n的异步信道\n",
    "\n",
    "实参 n 和 m 必须为非负，且可表示为 int 类型的整数值，n 必不大于 m："
   ]
  },
  {
   "cell_type": "code",
   "execution_count": 28,
   "id": "7d2a68a8-41fb-437d-a533-5976cc6df25a",
   "metadata": {},
   "outputs": [],
   "source": [
    "s := make([]int, 10, 100)       // len(s) == 10，cap(s) == 100 的切片\n",
    "s := make([]int, 1e3)           // len(s) == cap(s) == 1000 的切片\n",
    "c := make(chan int, 10)         // 缓存大小为10的信道\n",
    "m := make(map[string]int, 100)  // 初始空间为100个元素的映射"
   ]
  },
  {
   "cell_type": "code",
   "execution_count": 29,
   "id": "cebff040-a7bc-4842-a154-ee958584ecc6",
   "metadata": {},
   "outputs": [
    {
     "ename": "ERROR",
     "evalue": "untyped constant {int 9223372036854775808} overflows <int>",
     "output_type": "error",
     "traceback": [
      "untyped constant {int 9223372036854775808} overflows <int>"
     ]
    }
   ],
   "source": [
    "s := make([]int, 1<<63)         // 非法：len(s) 不能表示为 int 类型的值\n",
    "s := make([]int, 10, 0)         // 非法：len(s) > cap(s)"
   ]
  },
  {
   "cell_type": "markdown",
   "id": "01fa74e0-ab92-44f5-8441-18f9ef25e971",
   "metadata": {},
   "source": [
    "## append\n",
    "\n",
    "内建函数 append 用于在切片中追加零个或多个元素，并返回生成的切片。追加的元素类型与切片中元素的类型要一致，作为一种特殊情况，`[]byte` 和 `[]rune` 类型切片，可以传 `字符串...`，自动追加字符串的字节和 Unicode 码值："
   ]
  },
  {
   "cell_type": "code",
   "execution_count": 31,
   "id": "8cdc35cf-9c73-4b71-a239-47b908b8bdd2",
   "metadata": {},
   "outputs": [
    {
     "data": {
      "text/plain": [
       "[0 0 2]"
      ]
     },
     "execution_count": 31,
     "metadata": {},
     "output_type": "execute_result"
    }
   ],
   "source": [
    "s0 := []int{0, 0}\n",
    "s1 := append(s0, 2)\n",
    "s1"
   ]
  },
  {
   "cell_type": "code",
   "execution_count": 32,
   "id": "654fd3a4-1058-48b3-b12d-5fb1d10b1c09",
   "metadata": {},
   "outputs": [
    {
     "data": {
      "text/plain": [
       "[0 0 2 3 5 7]"
      ]
     },
     "execution_count": 32,
     "metadata": {},
     "output_type": "execute_result"
    }
   ],
   "source": [
    "s2 := append(s1, 3, 5, 7) \n",
    "s2"
   ]
  },
  {
   "cell_type": "code",
   "execution_count": 33,
   "id": "7f34c995-8db8-4177-8dce-59637810a77e",
   "metadata": {},
   "outputs": [],
   "source": [
    "s3 := append(s2, s0...)\n",
    "s4 := append(s3[3:6], s3[2:]...)"
   ]
  },
  {
   "cell_type": "code",
   "execution_count": 36,
   "id": "22d27b30-7138-4b56-8f37-5b2839ba6e46",
   "metadata": {},
   "outputs": [
    {
     "data": {
      "text/plain": [
       "[0 0 2 3 5 7 0 0]"
      ]
     },
     "execution_count": 36,
     "metadata": {},
     "output_type": "execute_result"
    }
   ],
   "source": [
    "s3"
   ]
  },
  {
   "cell_type": "code",
   "execution_count": 37,
   "id": "b7b2aa0e-89da-42bf-b3b3-7af06355e798",
   "metadata": {},
   "outputs": [
    {
     "data": {
      "text/plain": [
       "[3 5 7 2 3 5 7 0 0]"
      ]
     },
     "execution_count": 37,
     "metadata": {},
     "output_type": "execute_result"
    }
   ],
   "source": [
    "s4"
   ]
  },
  {
   "cell_type": "code",
   "execution_count": 38,
   "id": "98b1b613-d5fa-4687-a91e-7534e0fdcad5",
   "metadata": {},
   "outputs": [
    {
     "data": {
      "text/plain": [
       "[42 3.1415 foo]"
      ]
     },
     "execution_count": 38,
     "metadata": {},
     "output_type": "execute_result"
    }
   ],
   "source": [
    "var t []interface{}\n",
    "append(t, 42, 3.1415, \"foo\")"
   ]
  },
  {
   "cell_type": "code",
   "execution_count": 44,
   "id": "7df6e233-aaf0-4bdb-8efb-76d780eed189",
   "metadata": {},
   "outputs": [
    {
     "data": {
      "text/plain": [
       "[98 97 114]"
      ]
     },
     "execution_count": 44,
     "metadata": {},
     "output_type": "execute_result"
    }
   ],
   "source": [
    "var b []byte\n",
    "append(b, \"bar\"...)"
   ]
  },
  {
   "cell_type": "code",
   "execution_count": 47,
   "id": "b5515785-3c03-4090-99c3-a279305cba8b",
   "metadata": {},
   "outputs": [
    {
     "data": {
      "text/plain": [
       "[23398 20064]"
      ]
     },
     "execution_count": 47,
     "metadata": {},
     "output_type": "execute_result"
    }
   ],
   "source": [
    "var b []rune\n",
    "append(b, '学','习')"
   ]
  },
  {
   "cell_type": "code",
   "execution_count": 48,
   "id": "cccab331-3b64-46f3-b1ba-1f5a292d84a0",
   "metadata": {},
   "outputs": [
    {
     "data": {
      "text/plain": [
       "[23398 20064]"
      ]
     },
     "execution_count": 48,
     "metadata": {},
     "output_type": "execute_result"
    }
   ],
   "source": [
    "var b []rune\n",
    "append(b, \"学习\"...)"
   ]
  },
  {
   "cell_type": "markdown",
   "id": "5a7c8854-0d5a-407f-9256-94fe4631e2e9",
   "metadata": {},
   "source": [
    "## copy\n",
    "\n",
    "函数 copy 将元素从一个切片（来源 src）复制到另一个切片（目标 dst）。被复制的元素数量为 len(src) 与 len(dst) 中最小的那个。两个切片的类型要相同，作为一个特例，dst 的类型为 `[]byte` ，则 src 的类型可以是字符串："
   ]
  },
  {
   "cell_type": "code",
   "execution_count": 8,
   "id": "4470f3b8-0343-4f6a-95e7-b35cfc7ecad2",
   "metadata": {},
   "outputs": [],
   "source": [
    "var a = [...]int{0, 1, 2, 3, 4, 5, 6, 7}\n",
    "var s = make([]int, 6)\n",
    "copy(s, a[:])"
   ]
  },
  {
   "cell_type": "code",
   "execution_count": 9,
   "id": "19cc5198-b6b8-4f02-9b92-6376fb265949",
   "metadata": {},
   "outputs": [
    {
     "data": {
      "text/plain": [
       "[0 1 2 3 4 5]"
      ]
     },
     "execution_count": 9,
     "metadata": {},
     "output_type": "execute_result"
    }
   ],
   "source": [
    "s"
   ]
  },
  {
   "cell_type": "code",
   "execution_count": 10,
   "id": "5cd4a669-7969-43cd-8da6-dca3dc058e8c",
   "metadata": {},
   "outputs": [
    {
     "data": {
      "text/plain": [
       "[2 3 4 5 4 5]"
      ]
     },
     "execution_count": 10,
     "metadata": {},
     "output_type": "execute_result"
    }
   ],
   "source": [
    "copy(s, s[2:])\n",
    "s"
   ]
  },
  {
   "cell_type": "code",
   "execution_count": 11,
   "id": "d233088a-f3c0-4e97-8a53-dd6a8c385e84",
   "metadata": {},
   "outputs": [
    {
     "data": {
      "text/plain": [
       "5"
      ]
     },
     "execution_count": 11,
     "metadata": {},
     "output_type": "execute_result"
    }
   ],
   "source": [
    "b := make([]byte, 5)\n",
    "copy(b, \"Hello, World!\")"
   ]
  },
  {
   "cell_type": "code",
   "execution_count": 12,
   "id": "0820b791-d0bf-4325-8a7a-aa9030b434e4",
   "metadata": {},
   "outputs": [
    {
     "data": {
      "text/plain": [
       "[72 101 108 108 111]"
      ]
     },
     "execution_count": 12,
     "metadata": {},
     "output_type": "execute_result"
    }
   ],
   "source": [
    "b"
   ]
  },
  {
   "cell_type": "code",
   "execution_count": 13,
   "id": "3f910407-0041-4b80-885c-0cc49a497865",
   "metadata": {},
   "outputs": [
    {
     "data": {
      "text/plain": [
       "Hello"
      ]
     },
     "execution_count": 13,
     "metadata": {},
     "output_type": "execute_result"
    }
   ],
   "source": [
    "string(b)"
   ]
  },
  {
   "cell_type": "code",
   "execution_count": 19,
   "id": "46648e13-c964-4be2-ba5e-67e6d3dbf3e8",
   "metadata": {},
   "outputs": [],
   "source": [
    "r := make([]rune, 2)\n",
    "copy(r, []rune(\"好好学习\"))"
   ]
  },
  {
   "cell_type": "code",
   "execution_count": 20,
   "id": "68d5db27-da7a-4663-874c-2b702a1a8c63",
   "metadata": {},
   "outputs": [
    {
     "data": {
      "text/plain": [
       "[22909 22909]"
      ]
     },
     "execution_count": 20,
     "metadata": {},
     "output_type": "execute_result"
    }
   ],
   "source": [
    "r"
   ]
  },
  {
   "cell_type": "markdown",
   "id": "733fd77a-f9a0-4fdc-905f-adfa90a75040",
   "metadata": {},
   "source": [
    "## delete\n",
    "\n",
    "内建函数 delete 从映射 m 中移除键为 k 的元素 `delete(m, k)`。若映射 m 为 nil 或元素不存在，则 delete 就是一个空操作。"
   ]
  },
  {
   "cell_type": "code",
   "execution_count": 21,
   "id": "f879251f-e8cb-4a58-a72c-b105b83a5d56",
   "metadata": {},
   "outputs": [
    {
     "data": {
      "text/plain": [
       "map[b:2]"
      ]
     },
     "execution_count": 21,
     "metadata": {},
     "output_type": "execute_result"
    }
   ],
   "source": [
    "m := map[string]int{\"a\":1, \"b\":2}\n",
    "delete(m, \"a\")\n",
    "m"
   ]
  },
  {
   "cell_type": "code",
   "execution_count": 22,
   "id": "09a6c4a8-4827-4b00-b348-a16f7cde6444",
   "metadata": {},
   "outputs": [],
   "source": [
    "delete(m, \"c\")"
   ]
  },
  {
   "cell_type": "code",
   "execution_count": 27,
   "id": "a0ac003e-c128-417f-8298-65e82141f8c2",
   "metadata": {},
   "outputs": [],
   "source": [
    "delete(m, 98)"
   ]
  },
  {
   "cell_type": "code",
   "execution_count": 28,
   "id": "bb57fe87-7e42-4237-a484-6a339655fcd0",
   "metadata": {},
   "outputs": [
    {
     "data": {
      "text/plain": [
       "map[]"
      ]
     },
     "execution_count": 28,
     "metadata": {},
     "output_type": "execute_result"
    }
   ],
   "source": [
    "m"
   ]
  },
  {
   "cell_type": "code",
   "execution_count": 29,
   "id": "9e36bfc9-c3a8-4aa8-83b5-c3541e3b961a",
   "metadata": {},
   "outputs": [
    {
     "ename": "ERROR",
     "evalue": "cannot convert untyped constant {float64 157/50} to <string>",
     "output_type": "error",
     "traceback": [
      "cannot convert untyped constant {float64 157/50} to <string>"
     ]
    }
   ],
   "source": [
    "delete(m, 3.14) // 浮点数不能表示字符串"
   ]
  },
  {
   "cell_type": "markdown",
   "id": "54cb3d9e-3547-4967-a9f7-2d6678fa5e4f",
   "metadata": {},
   "source": [
    "## complex，real 和 imag\n",
    "\n",
    "内建函数 complex 从一个浮点数实部和虚部构造一个复数值。 而 real 和 imag 则提取一个复数值的实部和虚部。对于 complex，两实参必须为相同的浮点类型。"
   ]
  },
  {
   "cell_type": "code",
   "execution_count": 30,
   "id": "528ee1f0-54bd-4df3-ae46-368c8b27503e",
   "metadata": {},
   "outputs": [
    {
     "data": {
      "text/plain": [
       "(2-2i)"
      ]
     },
     "execution_count": 30,
     "metadata": {},
     "output_type": "execute_result"
    }
   ],
   "source": [
    "complex(2, -2)"
   ]
  },
  {
   "cell_type": "code",
   "execution_count": 31,
   "id": "b26538a3-51d9-4169-9ef4-c377ac1e3502",
   "metadata": {},
   "outputs": [
    {
     "data": {
      "text/plain": [
       "(1+1i)"
      ]
     },
     "execution_count": 31,
     "metadata": {},
     "output_type": "execute_result"
    }
   ],
   "source": [
    "complex(float32(1), float32(1))"
   ]
  },
  {
   "cell_type": "code",
   "execution_count": 32,
   "id": "31febf7f-9abf-4e55-8108-3c668838910a",
   "metadata": {},
   "outputs": [
    {
     "ename": "ERROR",
     "evalue": "repl.go:1:29: mismatched types float32 and float64 in: complex(float32(1), float64(1))",
     "output_type": "error",
     "traceback": [
      "repl.go:1:29: mismatched types float32 and float64 in: complex(float32(1), float64(1))"
     ]
    }
   ],
   "source": [
    "complex(float32(1), float64(1))"
   ]
  },
  {
   "cell_type": "code",
   "execution_count": 33,
   "id": "58428ce3-c6aa-4484-b484-dcce9b866013",
   "metadata": {},
   "outputs": [
    {
     "data": {
      "text/plain": [
       "0"
      ]
     },
     "execution_count": 33,
     "metadata": {},
     "output_type": "execute_result"
    }
   ],
   "source": [
    "real(1i)"
   ]
  },
  {
   "cell_type": "code",
   "execution_count": 34,
   "id": "30117c19-7f4e-4a06-9634-f9e4db058158",
   "metadata": {},
   "outputs": [
    {
     "data": {
      "text/plain": [
       "1"
      ]
     },
     "execution_count": 34,
     "metadata": {},
     "output_type": "execute_result"
    }
   ],
   "source": [
    "imag(1i)"
   ]
  },
  {
   "cell_type": "markdown",
   "id": "ec9e2525-9fbf-437d-bf2e-860299b4bfa4",
   "metadata": {},
   "source": [
    "## panic 和 recover\n",
    "\n",
    "内建函数 panic 和 recover 用于报告并处理运行时恐慌以及由程序定义的错误情况。\n",
    "\n",
    "函数 F 中执行 panic 调用会终止 F 的执行，且不执行该函数剩余的部分。被 F *推迟* 函数都会在 F 返回给调用者前执行，直到程序被终止，而错误情况会被报告："
   ]
  },
  {
   "cell_type": "code",
   "execution_count": 36,
   "id": "906f8497-5ac9-4337-b83e-009fe61e584a",
   "metadata": {},
   "outputs": [
    {
     "name": "stdout",
     "output_type": "stream",
     "text": [
      "start\n",
      "Hi\n",
      "done\n"
     ]
    }
   ],
   "source": [
    "import \"fmt\"\n",
    "func protect(g func()) {\n",
    "    defer func() {\n",
    "        fmt.Println(\"done\")  // 即使有恐慌Println也会正常执行\n",
    "    }()\n",
    "    // panic(\"unreachable\")\n",
    "    fmt.Println(\"start\")\n",
    "    g()\n",
    "}\n",
    "\n",
    "func f() { fmt.Println(\"Hi\")}\n",
    "\n",
    "protect(f)"
   ]
  },
  {
   "cell_type": "code",
   "execution_count": 37,
   "id": "fa8c239a-2cb9-4c79-b155-afe5f6522b0e",
   "metadata": {},
   "outputs": [
    {
     "name": "stdout",
     "output_type": "stream",
     "text": [
      "done\n"
     ]
    },
    {
     "ename": "ERROR",
     "evalue": "unreachable",
     "output_type": "error",
     "traceback": [
      "unreachable"
     ]
    }
   ],
   "source": [
    "import \"fmt\"\n",
    "func protect(g func()) {\n",
    "    defer func() {\n",
    "        fmt.Println(\"done\")  // 即使有恐慌Println也会正常执行\n",
    "    }()\n",
    "    panic(\"unreachable\")\n",
    "    fmt.Println(\"start\")\n",
    "    g()\n",
    "}\n",
    "\n",
    "func f() { fmt.Println(\"Hi\")}\n",
    "\n",
    "protect(f)"
   ]
  },
  {
   "cell_type": "markdown",
   "id": "6cf2d45f-7609-4179-93d6-5b66b92bf143",
   "metadata": {},
   "source": [
    "recover 函数允许程序管理恐慌过程的行为。在 **推迟函数**中，执行 recover 调用会取回传递至 panic 调用的错误值来停止恐慌过程："
   ]
  },
  {
   "cell_type": "code",
   "execution_count": 38,
   "id": "92e770b0-19f9-4976-a0bd-3edb34084d03",
   "metadata": {},
   "outputs": [
    {
     "name": "stdout",
     "output_type": "stream",
     "text": [
      "start\n",
      "Hi\n",
      "done\n"
     ]
    }
   ],
   "source": [
    "import \"fmt\"\n",
    "func protect(g func()) {\n",
    "    defer func() {\n",
    "        fmt.Println(\"done\")  // 即使有恐慌Println也会正常执行\n",
    "        if x := recover(); x != nil {\n",
    "            fmt.Printf(\"run time panic: %v\", x)\n",
    "        }\n",
    "    }()\n",
    "    // panic(\"unreachable\")\n",
    "    fmt.Println(\"start\")\n",
    "    g()\n",
    "}\n",
    "\n",
    "func f() { fmt.Println(\"Hi\")}\n",
    "\n",
    "protect(f)"
   ]
  },
  {
   "cell_type": "code",
   "execution_count": 39,
   "id": "2babf937-77ce-4d42-ab21-0584b9eeef0d",
   "metadata": {},
   "outputs": [
    {
     "name": "stdout",
     "output_type": "stream",
     "text": [
      "done\n",
      "run time panic: unreachable"
     ]
    }
   ],
   "source": [
    "import \"fmt\"\n",
    "func protect(g func()) {\n",
    "    defer func() {\n",
    "        fmt.Println(\"done\")  // 即使有恐慌Println也会正常执行\n",
    "        if x := recover(); x != nil {\n",
    "            fmt.Printf(\"run time panic: %v\", x)\n",
    "        }\n",
    "    }()\n",
    "    panic(\"unreachable\")\n",
    "    fmt.Println(\"start\")\n",
    "    g()\n",
    "}\n",
    "\n",
    "func f() { fmt.Println(\"Hi\")}\n",
    "\n",
    "protect(f)"
   ]
  },
  {
   "cell_type": "markdown",
   "id": "42cdd517-7928-4fa3-aa60-e98e1a1eb4d5",
   "metadata": {},
   "source": [
    "## print 和 println\n",
    "\n",
    "当前实现提供了几个在引导过程中有用的内建函数。这些函数因完整性而被保留， 但不保证会继续留在该语言中。它们并不返回结果。\n",
    "\n",
    "    函数       行为\n",
    "\n",
    "    print      打印所有实参；实参的格式取决于具体实现\n",
    "    println    类似print，但会在实参之间打印空格并在末尾打印新行"
   ]
  },
  {
   "cell_type": "code",
   "execution_count": 40,
   "id": "ac1dd64a-5afc-4408-bf02-fe7f86195f99",
   "metadata": {},
   "outputs": [
    {
     "name": "stderr",
     "output_type": "stream",
     "text": [
      "a1"
     ]
    }
   ],
   "source": [
    "print(\"a\",1)"
   ]
  },
  {
   "cell_type": "code",
   "execution_count": 41,
   "id": "b827cdf1-dab2-4f19-87e1-5358501b3e92",
   "metadata": {},
   "outputs": [
    {
     "name": "stderr",
     "output_type": "stream",
     "text": [
      "a 1\n"
     ]
    }
   ],
   "source": [
    "println(\"a\",1)"
   ]
  }
 ],
 "metadata": {
  "kernelspec": {
   "display_name": "Go",
   "language": "go",
   "name": "go"
  },
  "language_info": {
   "file_extension": ".go",
   "mimetype": "",
   "name": "go",
   "nbconvert_exporter": "",
   "pygments_lexer": "",
   "version": "go1.16.2"
  }
 },
 "nbformat": 4,
 "nbformat_minor": 2
}
