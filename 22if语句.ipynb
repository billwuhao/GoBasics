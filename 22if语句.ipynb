{
 "cells": [
  {
   "cell_type": "markdown",
   "id": "0ceb78f3-c1a4-4b4d-9c25-d9807967d31e",
   "metadata": {},
   "source": [
    "# if 语句\n",
    "\n",
    "\"if\" 语句根据布尔表达式的值指定执行某个分支。如果表达式的计算结果为 true，则执行 \"if\" 分支，否则不执行 \"if\" 分支，或执行 \"else\" 分支（如果存在）："
   ]
  },
  {
   "cell_type": "code",
   "execution_count": 2,
   "id": "56501d7f-f540-4478-89ba-4f3be51ad48d",
   "metadata": {},
   "outputs": [
    {
     "data": {
      "text/plain": [
       "1"
      ]
     },
     "execution_count": 2,
     "metadata": {},
     "output_type": "execute_result"
    }
   ],
   "source": [
    "x, y := 1, 0\n",
    "if x < y { // x < y 为 false\n",
    "    x += 1 // 不执行\n",
    "}\n",
    "x"
   ]
  },
  {
   "cell_type": "code",
   "execution_count": 3,
   "id": "04f1475a-1f3d-4baa-99a0-2923475d50cc",
   "metadata": {},
   "outputs": [
    {
     "data": {
      "text/plain": [
       "2"
      ]
     },
     "execution_count": 3,
     "metadata": {},
     "output_type": "execute_result"
    }
   ],
   "source": [
    "x, y := 1, 0\n",
    "if x > y { // x > y 为 true\n",
    "    x += 1\n",
    "}\n",
    "x"
   ]
  },
  {
   "cell_type": "markdown",
   "id": "01f482a0-f8c4-4a40-9e7c-bf1c75aaecdc",
   "metadata": {},
   "source": [
    "表达式前面可以有一个简单的语句，该语句在计算表达式之前执行："
   ]
  },
  {
   "cell_type": "code",
   "execution_count": 5,
   "id": "8cf45ac9-ff68-46cc-b9ab-c08832aa79ea",
   "metadata": {},
   "outputs": [
    {
     "name": "stdout",
     "output_type": "stream",
     "text": [
      "x > y\n"
     ]
    }
   ],
   "source": [
    "import \"fmt\"\n",
    "\n",
    "if x, y := 1, 0; x < y {\n",
    "    fmt.Println(\"x < y\")\n",
    "} else if x > y {\n",
    "    fmt.Println(\"x > y\")\n",
    "} else {\n",
    "    fmt.Println(\"x = y\")\n",
    "}"
   ]
  },
  {
   "cell_type": "code",
   "execution_count": 6,
   "id": "3768c7ea-9477-4488-95f6-67412f691e95",
   "metadata": {},
   "outputs": [
    {
     "name": "stdout",
     "output_type": "stream",
     "text": [
      "x = y\n"
     ]
    }
   ],
   "source": [
    "import \"fmt\"\n",
    "\n",
    "if x, y := 1, 0; x < y {\n",
    "    fmt.Println(\"x < y\")\n",
    "} else if y += 1; x > y {\n",
    "    fmt.Println(\"x > y\")\n",
    "} else {\n",
    "    fmt.Println(\"x = y\")\n",
    "}"
   ]
  }
 ],
 "metadata": {
  "kernelspec": {
   "display_name": "Go",
   "language": "go",
   "name": "gophernotes"
  },
  "language_info": {
   "codemirror_mode": "",
   "file_extension": ".go",
   "mimetype": "",
   "name": "go",
   "nbconvert_exporter": "",
   "pygments_lexer": "",
   "version": "go1.17.3"
  }
 },
 "nbformat": 4,
 "nbformat_minor": 5
}
