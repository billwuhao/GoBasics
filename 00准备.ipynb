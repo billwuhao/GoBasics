{
 "cells": [
  {
   "cell_type": "markdown",
   "id": "cda57999-a8dd-4cbb-8808-734f2e644390",
   "metadata": {
    "jp-MarkdownHeadingCollapsed": true,
    "tags": []
   },
   "source": [
    "# Windows 安装 jupyter 的 go 内核\n",
    "\n",
    "1. 安装 `gophernotes`\n",
    "\n",
    "```\n",
    "go get github.com/gopherdata/gophernotes\n",
    "```\n",
    "\n",
    "2. 执行 `jupyter --data-dir` 查看 jupyter 数据目录。进入这个目录创建如下文件夹：\n",
    "\n",
    "```\n",
    "mkdir kernels\\gophernotes\n",
    "```\n",
    "\n",
    "3. `git clone` 克隆 https://github.com/gopherdata/gophernotes 到本地\n",
    "\n",
    "4. 复制 `gophernotes\\kernel` 中的所有文件，放到上述创建的文件夹 `kernels\\gophernotes` 中\n",
    "\n",
    "5. 修改 `kernel.json` 文件中的内容，将 `gophernotes.exe` 的路径加进去，例如：\n",
    "\n",
    "```\n",
    "{\n",
    "    \"argv\": [\n",
    "      \"C:\\\\gopath\\\\bin\\\\gophernotes.exe\",\n",
    "      \"{connection_file}\"\n",
    "      ],\n",
    "    \"display_name\": \"Go\",\n",
    "    \"language\": \"go\",\n",
    "    \"name\": \"go\"\n",
    "}\n",
    "```\n",
    "\n",
    "6. 保存，启动 `jupyter lab`，ok。\n",
    "\n",
    "按官方文档的说法，Windows 系统不支持导入 go 第三方库，查看详情，或遇到问题，以及其他系统的安装，查看 https://github.com/gopherdata/gophernotes"
   ]
  }
 ],
 "metadata": {
  "kernelspec": {
   "display_name": "Go",
   "language": "go",
   "name": "gophernotes"
  },
  "language_info": {
   "codemirror_mode": "",
   "file_extension": ".go",
   "mimetype": "",
   "name": "go",
   "nbconvert_exporter": "",
   "pygments_lexer": "",
   "version": "go1.17.3"
  }
 },
 "nbformat": 4,
 "nbformat_minor": 5
}
