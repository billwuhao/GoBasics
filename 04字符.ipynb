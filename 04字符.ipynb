{
 "cells": [
  {
   "cell_type": "markdown",
   "id": "0bc3ce1d-5886-49dd-b685-c38b94ae566d",
   "metadata": {},
   "source": [
    "# 字符\n",
    "\n",
    "字符只是整数的特殊用例，它的类型为 byte（uint8 的别名）或 rune（int32 的别名）。\n",
    "\n",
    "字符使用一对单引号包围单个字符（或者表示单个字符的多个字符），它的值就是该字符的 Unicode 码点值："
   ]
  },
  {
   "cell_type": "code",
   "execution_count": 1,
   "id": "d9e2aa0e-cf04-477a-be77-16191d54f59e",
   "metadata": {},
   "outputs": [
    {
     "data": {
      "text/plain": [
       "97"
      ]
     },
     "execution_count": 1,
     "metadata": {},
     "output_type": "execute_result"
    }
   ],
   "source": [
    "'a'"
   ]
  },
  {
   "cell_type": "code",
   "execution_count": 2,
   "id": "b2ce1f9a-d680-4ae7-b8e1-340a15b81231",
   "metadata": {},
   "outputs": [
    {
     "data": {
      "text/plain": [
       "29275"
      ]
     },
     "execution_count": 2,
     "metadata": {},
     "output_type": "execute_result"
    }
   ],
   "source": [
    "'牛'"
   ]
  },
  {
   "cell_type": "markdown",
   "id": "2863d7dc-2579-4214-b729-bf45ec3248be",
   "metadata": {},
   "source": [
    "特殊字符：\n",
    "\n",
    "    \\a            警报或铃声\n",
    "    \\b            退格\n",
    "    \\f            换页\n",
    "    \\n            换行\n",
    "    \\r            回车\n",
    "    \\t            横向制表\n",
    "    \\v            纵向制表\n",
    "    \\\\            反斜杠\n",
    "    \\'            单引号(仅在符文字面中有效)\n",
    "    \\\"            双引号(仅在字符串字面中有效)\n",
    "    八进制字节值    \\aaa （x表示八进制数）\n",
    "    十六进制字节值   \\xbb （b表示十六进制数）\n",
    "    小Unicode值    \\ucccc （c表示十六进制数）\n",
    "    大Unicode值    \\Udddddddd （d表示十六进制数）"
   ]
  },
  {
   "cell_type": "code",
   "execution_count": 3,
   "id": "30472c2a-5d04-421e-bb7d-04ab94d22687",
   "metadata": {},
   "outputs": [
    {
     "data": {
      "text/plain": [
       "7"
      ]
     },
     "execution_count": 3,
     "metadata": {},
     "output_type": "execute_result"
    }
   ],
   "source": [
    "'\\a'"
   ]
  },
  {
   "cell_type": "code",
   "execution_count": 4,
   "id": "6b453a4c-5e19-463c-b33e-75a8d6aec3b7",
   "metadata": {},
   "outputs": [
    {
     "data": {
      "text/plain": [
       "92"
      ]
     },
     "execution_count": 4,
     "metadata": {},
     "output_type": "execute_result"
    }
   ],
   "source": [
    "'\\\\'"
   ]
  },
  {
   "cell_type": "code",
   "execution_count": 5,
   "id": "8fe296ed-c138-43b9-a970-1f978d06545d",
   "metadata": {},
   "outputs": [
    {
     "data": {
      "text/plain": [
       "39"
      ]
     },
     "execution_count": 5,
     "metadata": {},
     "output_type": "execute_result"
    }
   ],
   "source": [
    "'\\''"
   ]
  },
  {
   "cell_type": "code",
   "execution_count": 6,
   "id": "302cd969-f4ae-436c-ae06-35c7885e17f5",
   "metadata": {},
   "outputs": [
    {
     "data": {
      "text/plain": [
       "34"
      ]
     },
     "execution_count": 6,
     "metadata": {},
     "output_type": "execute_result"
    }
   ],
   "source": [
    "'\"'"
   ]
  },
  {
   "cell_type": "code",
   "execution_count": 7,
   "id": "5e5e75a0-b6e1-4f54-a24e-da9699dd731c",
   "metadata": {},
   "outputs": [
    {
     "data": {
      "text/plain": [
       "83"
      ]
     },
     "execution_count": 7,
     "metadata": {},
     "output_type": "execute_result"
    }
   ],
   "source": [
    "'\\123'"
   ]
  },
  {
   "cell_type": "code",
   "execution_count": 8,
   "id": "1bbbe21f-cabb-4e95-a3b5-d2c7d8e3ca58",
   "metadata": {},
   "outputs": [
    {
     "data": {
      "text/plain": [
       "31"
      ]
     },
     "execution_count": 8,
     "metadata": {},
     "output_type": "execute_result"
    }
   ],
   "source": [
    "'\\x1f'"
   ]
  },
  {
   "cell_type": "code",
   "execution_count": 9,
   "id": "e432de6f-af72-4bfa-85f7-3682cfa537fa",
   "metadata": {},
   "outputs": [
    {
     "data": {
      "text/plain": [
       "65535"
      ]
     },
     "execution_count": 9,
     "metadata": {},
     "output_type": "execute_result"
    }
   ],
   "source": [
    "'\\uffff'"
   ]
  },
  {
   "cell_type": "code",
   "execution_count": 12,
   "id": "cb15328c-d778-4d0f-b755-5f302ae429fa",
   "metadata": {},
   "outputs": [
    {
     "data": {
      "text/plain": [
       "4666"
      ]
     },
     "execution_count": 12,
     "metadata": {},
     "output_type": "execute_result"
    }
   ],
   "source": [
    "'\\U0000123a'"
   ]
  },
  {
   "cell_type": "markdown",
   "id": "c1fef1f3-b5b2-4d52-885a-d0f6ffaeef2a",
   "metadata": {},
   "source": [
    "字符转为字符串，可以转字符，也可以转整数值，还可以是 Unicode 值："
   ]
  },
  {
   "cell_type": "code",
   "execution_count": 14,
   "id": "7a646a28-9253-4eb5-a276-81890c9698c0",
   "metadata": {},
   "outputs": [
    {
     "data": {
      "text/plain": [
       "4666"
      ]
     },
     "execution_count": 14,
     "metadata": {},
     "output_type": "execute_result"
    }
   ],
   "source": [
    "'ሺ'"
   ]
  },
  {
   "cell_type": "code",
   "execution_count": 16,
   "id": "c5aa0cb3-eebd-4ec2-8032-d78c3ae65f60",
   "metadata": {},
   "outputs": [
    {
     "data": {
      "text/plain": [
       "ሺ"
      ]
     },
     "execution_count": 16,
     "metadata": {},
     "output_type": "execute_result"
    }
   ],
   "source": [
    "string('ሺ')"
   ]
  },
  {
   "cell_type": "code",
   "execution_count": 17,
   "id": "3dc77e9c-1499-442d-a7dd-6bb1c0c212cd",
   "metadata": {},
   "outputs": [
    {
     "data": {
      "text/plain": [
       "ሺ"
      ]
     },
     "execution_count": 17,
     "metadata": {},
     "output_type": "execute_result"
    }
   ],
   "source": [
    "string(4666)"
   ]
  },
  {
   "cell_type": "code",
   "execution_count": 15,
   "id": "7ba7a8e9-00f0-4d38-b3a3-6e0088633863",
   "metadata": {},
   "outputs": [
    {
     "data": {
      "text/plain": [
       "ሺ"
      ]
     },
     "execution_count": 15,
     "metadata": {},
     "output_type": "execute_result"
    }
   ],
   "source": [
    "string('\\U0000123a')"
   ]
  }
 ],
 "metadata": {
  "kernelspec": {
   "display_name": "Go",
   "language": "go",
   "name": "gophernotes"
  },
  "language_info": {
   "codemirror_mode": "",
   "file_extension": ".go",
   "mimetype": "",
   "name": "go",
   "nbconvert_exporter": "",
   "pygments_lexer": "",
   "version": "go1.17.3"
  }
 },
 "nbformat": 4,
 "nbformat_minor": 5
}
