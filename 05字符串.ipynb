{
 "cells": [
  {
   "cell_type": "markdown",
   "id": "da49d9fa-54c2-43aa-a632-060756141e28",
   "metadata": {},
   "source": [
    "# 字符串\n",
    "\n",
    "字符串有原始字符串和解译字符串两种。\n",
    "\n",
    "原始字符串由一对反引号 \\` 包围，它其中的字符就是其本身："
   ]
  },
  {
   "cell_type": "code",
   "execution_count": 3,
   "id": "db7f7321-3358-43ad-9b96-f2cc8bf4ef60",
   "metadata": {},
   "outputs": [
    {
     "data": {
      "text/plain": [
       "abc\\n\\xc3\\xbf"
      ]
     },
     "execution_count": 3,
     "metadata": {},
     "output_type": "execute_result"
    }
   ],
   "source": [
    "`abc\\n\\xc3\\xbf`"
   ]
  },
  {
   "cell_type": "markdown",
   "id": "3d948fa2-7845-4707-b685-f8a3ba03afbf",
   "metadata": {},
   "source": [
    "解译字符串由一对双引号 \" 包围，它其中的字符会被转义："
   ]
  },
  {
   "cell_type": "code",
   "execution_count": 4,
   "id": "16b4d2ea-5ffd-45d5-8f2c-5c60abc2feaa",
   "metadata": {},
   "outputs": [
    {
     "data": {
      "text/plain": [
       "abc\n",
       " ÿ、ÿ、ÿ 和 ÿ"
      ]
     },
     "execution_count": 4,
     "metadata": {},
     "output_type": "execute_result"
    }
   ],
   "source": [
    "\"abc\\n ÿ、\\u00FF、\\U000000FF 和 \\xc3\\xbf\" // \\n 是换行，后面是同一个字符的不同表示"
   ]
  },
  {
   "cell_type": "markdown",
   "id": "0a2a5468-84ee-4a07-81bc-a30c0f94c2e3",
   "metadata": {},
   "source": [
    "字符串的类型为 string，可以通过类型转化，将整数或字符，转换为字符串："
   ]
  },
  {
   "cell_type": "code",
   "execution_count": 8,
   "id": "190d97ab-8770-4aba-9561-71e9cb838400",
   "metadata": {},
   "outputs": [
    {
     "data": {
      "text/plain": [
       "牛"
      ]
     },
     "execution_count": 8,
     "metadata": {},
     "output_type": "execute_result"
    }
   ],
   "source": [
    "string(29275)"
   ]
  },
  {
   "cell_type": "code",
   "execution_count": 9,
   "id": "70316b4a-f989-41c0-9606-4dbd0fccbdc6",
   "metadata": {},
   "outputs": [
    {
     "data": {
      "text/plain": [
       "牛"
      ]
     },
     "execution_count": 9,
     "metadata": {},
     "output_type": "execute_result"
    }
   ],
   "source": [
    "string('牛')"
   ]
  },
  {
   "cell_type": "markdown",
   "id": "00cc0023-e139-4dca-ba58-982f80ca925a",
   "metadata": {},
   "source": [
    "字符串可以使用 + 号来拼接："
   ]
  },
  {
   "cell_type": "code",
   "execution_count": 12,
   "id": "36a05caf-d745-4e6d-b297-c7ab7358343b",
   "metadata": {},
   "outputs": [
    {
     "data": {
      "text/plain": [
       "牛牛啊"
      ]
     },
     "execution_count": 12,
     "metadata": {},
     "output_type": "execute_result"
    }
   ],
   "source": [
    "\"牛\" + `牛啊`"
   ]
  },
  {
   "cell_type": "markdown",
   "id": "4aa20ff8-60b2-4e3c-9a80-608538d13c62",
   "metadata": {},
   "source": [
    "内建函数 len() 可用来获取字符串所占字节长度："
   ]
  },
  {
   "cell_type": "code",
   "execution_count": 13,
   "id": "ff379672-693a-4d2b-ad79-09b744a5a49e",
   "metadata": {},
   "outputs": [
    {
     "data": {
      "text/plain": [
       "3"
      ]
     },
     "execution_count": 13,
     "metadata": {},
     "output_type": "execute_result"
    }
   ],
   "source": [
    "len(\"牛\")"
   ]
  },
  {
   "cell_type": "markdown",
   "id": "09425b8b-cfa2-46c5-9dfb-ac170eb7aa3d",
   "metadata": {},
   "source": [
    "字符串（用 s 表示），通过索引（从 0 开始，至 len(s)-1）获取其字节："
   ]
  },
  {
   "cell_type": "code",
   "execution_count": 2,
   "id": "168d077c-8d6f-41ff-ae84-51c93cf646b6",
   "metadata": {},
   "outputs": [
    {
     "data": {
      "text/plain": [
       "111"
      ]
     },
     "execution_count": 2,
     "metadata": {},
     "output_type": "execute_result"
    }
   ],
   "source": [
    "\"gogogo\"[5] // 纯 ASCII 码的字符串"
   ]
  },
  {
   "cell_type": "code",
   "execution_count": 3,
   "id": "35cdf7f5-19e5-4882-af67-519abda1a2bd",
   "metadata": {},
   "outputs": [
    {
     "data": {
      "text/plain": [
       "111"
      ]
     },
     "execution_count": 3,
     "metadata": {},
     "output_type": "execute_result"
    }
   ],
   "source": [
    "'o' // \"o\" 占用一个字节"
   ]
  },
  {
   "cell_type": "code",
   "execution_count": 1,
   "id": "162ad8af-69b5-47df-a47d-d43259084ac3",
   "metadata": {},
   "outputs": [
    {
     "data": {
      "text/plain": [
       "155"
      ]
     },
     "execution_count": 1,
     "metadata": {},
     "output_type": "execute_result"
    }
   ],
   "source": [
    "\"牛\"[2]  // Unicode 码字符串，\"牛“ 占用 3 个字节"
   ]
  },
  {
   "cell_type": "markdown",
   "id": "ebda3ec1-31dc-44a4-a877-9acc66e1980d",
   "metadata": {},
   "source": [
    "字符串的比较（==、!=、<、<=、>=、>）通过在内存中按字节比较来实现字符串的对比："
   ]
  },
  {
   "cell_type": "code",
   "execution_count": 1,
   "id": "d43888d8-6215-402d-959e-23ad8c5c8e40",
   "metadata": {},
   "outputs": [
    {
     "data": {
      "text/plain": [
       "true"
      ]
     },
     "execution_count": 1,
     "metadata": {},
     "output_type": "execute_result"
    }
   ],
   "source": [
    "'牛' == \"牛\" // 无类型化"
   ]
  },
  {
   "cell_type": "code",
   "execution_count": 2,
   "id": "c6b95424-e379-4399-b765-0f76c8db8c4f",
   "metadata": {},
   "outputs": [
    {
     "data": {
      "text/plain": [
       "true"
      ]
     },
     "execution_count": 2,
     "metadata": {},
     "output_type": "execute_result"
    }
   ],
   "source": [
    "29275 == \"牛\" // 无类型化"
   ]
  },
  {
   "cell_type": "code",
   "execution_count": 23,
   "id": "b5c41dc2-f561-4f6c-b370-351584d25634",
   "metadata": {},
   "outputs": [
    {
     "data": {
      "text/plain": [
       "true"
      ]
     },
     "execution_count": 23,
     "metadata": {},
     "output_type": "execute_result"
    }
   ],
   "source": [
    "\"ab\" < \"ac\""
   ]
  },
  {
   "cell_type": "markdown",
   "id": "5ef8635f-422e-4c60-98dd-5a25fdbd1f75",
   "metadata": {},
   "source": [
    "不同类型不能比较，必须转换类型："
   ]
  },
  {
   "cell_type": "code",
   "execution_count": 24,
   "id": "1d643f30-4343-4f44-ba39-2be1559f6877",
   "metadata": {},
   "outputs": [
    {
     "ename": "ERROR",
     "evalue": "cannot convert untyped constant {string \"好\"} to <int>",
     "output_type": "error",
     "traceback": [
      "cannot convert untyped constant {string \"好\"} to <int>"
     ]
    }
   ],
   "source": [
    "int(22909) == \"好\""
   ]
  },
  {
   "cell_type": "code",
   "execution_count": 25,
   "id": "17ca6e57-1733-46ab-9495-cee1ca5c1d8e",
   "metadata": {},
   "outputs": [
    {
     "data": {
      "text/plain": [
       "true"
      ]
     },
     "execution_count": 25,
     "metadata": {},
     "output_type": "execute_result"
    }
   ],
   "source": [
    "string(int(22909)) == \"好\""
   ]
  }
 ],
 "metadata": {
  "kernelspec": {
   "display_name": "Go",
   "language": "go",
   "name": "go"
  },
  "language_info": {
   "file_extension": ".go",
   "mimetype": "",
   "name": "go",
   "nbconvert_exporter": "",
   "pygments_lexer": "",
   "version": "go1.16.2"
  }
 },
 "nbformat": 4,
 "nbformat_minor": 2
}
