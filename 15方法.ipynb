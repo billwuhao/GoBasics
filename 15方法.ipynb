{
 "cells": [
  {
   "cell_type": "markdown",
   "id": "4818c97a-03ff-469f-bdec-b25d29a2e8b0",
   "metadata": {},
   "source": [
    "# 方法\n",
    "\n",
    "方法是具有 **接收者** 的函数。方法声明将标识符（方法名称）绑定到方法，并将该方法与 接收者 的 基础类型 相关联。\n",
    "\n",
    "方法声明：`func (接收者, 接收者类型) 方法名(形参 类型, ...) (结果形参 类型, ...){函数体}`。\n",
    "\n",
    "接收者 不能是 *可变参数*，接收者 的类型（以 `T` 表示）必须是 *定义类型* 或指向 *定义类型* 的指针（`*T`）。接收者 的类型（`T`）称为接收者的 基础类型，基础类型 不能是指针或接口类型，且必须在与方法相同的包中定义。\n",
    "\n",
    "类型 `T`（或 `*T`）上的所有方法的集合叫做类型 `T`（或 `*T`）的方法集。\n",
    "\n",
    "定义一个切片类型 mylist，并为其创建一个方法 Sum，用来计算切片中所有整数之和："
   ]
  },
  {
   "cell_type": "code",
   "execution_count": 1,
   "id": "d36059f7-9639-4947-8984-13e3e5f9e53d",
   "metadata": {},
   "outputs": [
    {
     "data": {
      "text/plain": [
       "10"
      ]
     },
     "execution_count": 1,
     "metadata": {},
     "output_type": "execute_result"
    }
   ],
   "source": [
    "type mylist []int // 定义类型 mylist\n",
    "\n",
    "func (m mylist) Sum() (s int) {\n",
    "    for _, i := range m {\n",
    "        s += i\n",
    "    }\n",
    "    return\n",
    "}\n",
    "\n",
    "list := mylist{1,2,3,4}\n",
    "list.Sum()"
   ]
  },
  {
   "cell_type": "markdown",
   "id": "772446c8-3f9f-4271-ae38-687a4084afda",
   "metadata": {},
   "source": [
    "非空接收者参数必须是唯一的，如果在方法主体内未引用接收者的值，则可在声明中省略。这同样适用于函数和方法的参数："
   ]
  },
  {
   "cell_type": "code",
   "execution_count": 3,
   "id": "608981c1-36b2-487d-9ec5-56c924d496b0",
   "metadata": {},
   "outputs": [
    {
     "data": {
      "text/plain": [
       "1"
      ]
     },
     "execution_count": 3,
     "metadata": {},
     "output_type": "execute_result"
    }
   ],
   "source": [
    "type myint int \n",
    "\n",
    "func (myint) Add() int { return 1}\n",
    "myint().Add()"
   ]
  },
  {
   "cell_type": "markdown",
   "id": "20070ad9-e1ee-48f0-8c23-3fc19fb6225c",
   "metadata": {},
   "source": [
    "对于 基础类型，绑定到它的方法的非空名称必须是唯一的。如果 基础类型 是结构类型，则非空方法和结构的字段名称必须是不同的。\n",
    "\n",
    "方法的类型是以 接收者 作为第一个参数的函数的类型。但是，以这种方式声明的函数不是方法："
   ]
  },
  {
   "cell_type": "code",
   "execution_count": 4,
   "id": "7e1573a6-c9b0-4e17-a654-dea3b15d0b18",
   "metadata": {},
   "outputs": [
    {
     "data": {
      "text/plain": [
       "func(int) int"
      ]
     },
     "execution_count": 4,
     "metadata": {},
     "output_type": "execute_result"
    }
   ],
   "source": [
    "import \"fmt\"\n",
    "fmt.Sprintf(\"%T\",myint.Add) // Add 是方法"
   ]
  },
  {
   "cell_type": "code",
   "execution_count": 7,
   "id": "03d04007-d99c-443a-9b5e-59c215bc8937",
   "metadata": {},
   "outputs": [
    {
     "data": {
      "text/plain": [
       "func(int) int"
      ]
     },
     "execution_count": 7,
     "metadata": {},
     "output_type": "execute_result"
    }
   ],
   "source": [
    "f := func(int) int{} // 不是方法\n",
    "fmt.Sprintf(\"%T\",f)"
   ]
  },
  {
   "cell_type": "markdown",
   "id": "736c48bd-c55b-4778-bf96-1c30a611b4c4",
   "metadata": {},
   "source": [
    "若方法 f 在类型 T 的方法集中， T.f 即为可调用函数，如同将 接收者 作为第一个参数的常规函数："
   ]
  },
  {
   "cell_type": "code",
   "execution_count": 9,
   "id": "2be1c742-e77e-4200-920f-09d04e4f299e",
   "metadata": {},
   "outputs": [
    {
     "data": {
      "text/plain": [
       "5"
      ]
     },
     "execution_count": 9,
     "metadata": {},
     "output_type": "execute_result"
    }
   ],
   "source": [
    "type myint int\n",
    "\n",
    "func (x myint) Add(y int) int { return int(x) + y }\n",
    "\n",
    "m := myint(2)\n",
    "\n",
    "// 以下调用等价\n",
    "m.Add(3)\n",
    "myint.Add(m, 3)"
   ]
  },
  {
   "cell_type": "markdown",
   "id": "cbb83b8c-b0bb-4fed-b13b-f77cc70219c3",
   "metadata": {},
   "source": [
    "鉴于性能的原因，接收者的类型最常见的是一个指向 基础类型 的指针（因为我们不想要一个实例的拷贝，如果按值调用的话就会是这样），特别是在接收者的类型是结构时，就更是如此了。\n",
    "\n",
    "如果想要方法改变接收者的数据，就在接收者的指针类型上定义该方法。否则，就在普通的值类型上定义方法。\n",
    "\n",
    "Go 为我们做了探测工作，我们自己并没有指出是否在指针上调用方法，Go 会替我们做了这些事情："
   ]
  },
  {
   "cell_type": "code",
   "execution_count": 7,
   "id": "9d4621e9-5a0d-448f-bf3a-78b4e62c8c72",
   "metadata": {},
   "outputs": [
    {
     "name": "stdout",
     "output_type": "stream",
     "text": [
      "{1}\n",
      "{1}\n"
     ]
    },
    {
     "data": {
      "text/plain": [
       "4 <nil>"
      ]
     },
     "execution_count": 7,
     "metadata": {},
     "output_type": "execute_result"
    }
   ],
   "source": [
    "import \"fmt\"\n",
    "\n",
    "type B struct {\n",
    "    thing int\n",
    "}\n",
    "\n",
    "func (b *B) change() { b.thing = 1 } // 接收者的类型是 基础类型 B 的指针\n",
    "\n",
    "func (b B) write() string { return fmt.Sprint(b) } // 接收者的类型是 B\n",
    "\n",
    "var b1 B // b1 是值\n",
    "b1.change()\n",
    "fmt.Println(b1.write())\n",
    "\n",
    "b2 := new(B) // b2 是指针\n",
    "b2.change()\n",
    "fmt.Println(b2.write())"
   ]
  }
 ],
 "metadata": {
  "kernelspec": {
   "display_name": "Go",
   "language": "go",
   "name": "gophernotes"
  },
  "language_info": {
   "codemirror_mode": "",
   "file_extension": ".go",
   "mimetype": "",
   "name": "go",
   "nbconvert_exporter": "",
   "pygments_lexer": "",
   "version": "go1.17.3"
  }
 },
 "nbformat": 4,
 "nbformat_minor": 5
}
