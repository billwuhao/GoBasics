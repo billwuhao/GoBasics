{
 "cells": [
  {
   "cell_type": "markdown",
   "id": "a3541e7d-f107-4400-903f-58d12ef8f5f5",
   "metadata": {},
   "source": [
    "# 包\n",
    "\n",
    "Go 程序被组织成包。包是**同一目录**中一起编译的源文件的集合。在一个源文件中定义的函数、类型、变量和常量对同一包中的所有其他源文件可见。\n",
    "\n",
    "Go 的源文件以 `.go` 为后缀名，这些文件名均由小写字母组成，如 `scanner.go`。如果文件名由多个部分组成，则使用下划线 `_` 对它们进行分隔，如 `scanner_test.go` 。文件名不包含空格或其他特殊字符：\n",
    "\n",
    "    !\"#$%&'()*,:;<=>?[\\]^`{|}\n",
    "\n",
    "包中可以导出标识符允许从另一个包访问它。如果**同时**存在以下两种情况，则标识符可导出：\n",
    "\n",
    "- 标识符名称的第一个字符是 Unicode 大写字母;\n",
    "- 标识符在包块中声明，或者它是字段名称或方法名称。"
   ]
  },
  {
   "cell_type": "markdown",
   "id": "9f99b4e6-0b56-4302-80d8-73e6367742ad",
   "metadata": {},
   "source": [
    "## 块\n",
    "\n",
    "块为匹配的一对大括号括住的声明和语句。\n",
    "\n",
    "除了源代码中的显式块之外，还有隐式块：\n",
    "\n",
    "- 全局块 包含所有 Go 源文本。\n",
    "- 每个包都有一个包块，其中包含该包的所有 Go 源文本。\n",
    "- 每个文件都有一个文件块，其中包含该文件中的所有 Go 源文本。\n",
    "- 每个 if 、  for 和 switch 语句都被视为在其自己的隐式块中。\n",
    "- switch 或 select 语句中的每个子句都充当隐式块。\n",
    "\n",
    "Go 在词法上使用块限定范围：\n",
    "\n",
    "- 预先声明的标识符的作用域是全局块。\n",
    "- 表示在顶层（在任何函数外部）声明的常量、类型、变量或函数（但不是方法）的标识符的作用域是包块。\n",
    "- 导入的包的包名称的作用域是 包含导入声明的文件的 文件块。\n",
    "- 表示方法接收者、函数参数或结果变量的标识符的作用域是函数体。\n",
    "- 在函数内声明的常量或变量标识符的作用域从常量声明或变量声明开始，到包含块的末尾结束。\n",
    "- 在函数内声明的类型标识符的作用域从类型声明中的标识符开始，到包含块的末尾结束。\n",
    "\n",
    "在当前块中声明的标识符可以在内部块中重新声明。虽然内部声明的标识符在当前块作用域内，但它已经是内部声明的实体："
   ]
  },
  {
   "cell_type": "code",
   "execution_count": 8,
   "id": "88b3f5fe-bbc1-4c96-ab4a-618ad6fa1810",
   "metadata": {},
   "outputs": [
    {
     "name": "stdout",
     "output_type": "stream",
     "text": [
      "0\n",
      "1\n",
      "2\n",
      "3\n",
      "4\n"
     ]
    }
   ],
   "source": [
    "import \"fmt\"\n",
    "\n",
    "for i := 0; i < 5; i++ { // for 块的 i\n",
    "    if i := 3; i < 3 { // if 块的 i\n",
    "        fmt.Print(i) // 所以什么也不打印\n",
    "    } // if 块结束\n",
    "    fmt.Println(i) // 打印的是 for 块的 i\n",
    "}// for 块结束"
   ]
  },
  {
   "cell_type": "markdown",
   "id": "2a598fec-1f34-4c2a-9c6f-c7a6193a8420",
   "metadata": {},
   "source": [
    "## 包组织\n",
    "\n",
    "### 源文件组织\n",
    "\n",
    "每个源文件都包含一个包子句，该子句定义它所属的包；后跟一组可能为空的导入声明，声明导入的包；后跟一组可能为空的函数、类型、变量和常量声明：\n",
    "\n",
    "```\n",
    "package 包名\n",
    "\n",
    "import ... \n",
    "\n",
    "函数、类型、变量和常量声明 ...\n",
    "...\n",
    "...\n",
    "```\n",
    "\n",
    "### main 包\n",
    "\n",
    "main 包是一个特殊的包，不能被导入，它将其他导入包链接起来，创建完整的 Go 程序。一个程序可以只有一个 main 包，`包名` 必须为 `main` 且声明一个无参数无返回值的函数 `main`。\n",
    "\n",
    "下面是一个 `hello.go` 源文件，只有 main 包，是一个完整的 Go 程序："
   ]
  },
  {
   "cell_type": "code",
   "execution_count": 9,
   "id": "f7663465-cd44-4bf2-a6c8-98359635f54e",
   "metadata": {},
   "outputs": [],
   "source": [
    "// ~/go/src/hello.go\n",
    "// ~/go 目录是安装 go 时配置的 GOPATH 环境变量\n",
    "package main\n",
    "\n",
    "import \"fmt\" // 导入 fmt 包\n",
    "\n",
    "func main() {\n",
    "    fmt.Println(\"Hello, world.\")\n",
    "}"
   ]
  },
  {
   "cell_type": "markdown",
   "id": "958df1ad-b42d-40f9-8041-76773cce540d",
   "metadata": {},
   "source": [
    "打开终端，输入命令 `go run ~/go/src/hello.go` 执行程序，将打印出 `Hello, world.`\n",
    "\n",
    "### 自定义包及导入\n",
    "\n",
    "在目录 `～/go/src` 下新建文件夹 `mystrings`，在文件夹中新建 go 源文件 `uc.go`，并输入如下内容："
   ]
  },
  {
   "cell_type": "code",
   "execution_count": 11,
   "id": "ce60ce8e-3aef-4dda-a84b-06e94a5668eb",
   "metadata": {},
   "outputs": [],
   "source": [
    "package mystrings\n",
    "\n",
    "import \"strings\"\n",
    "\n",
    "func UpperCase(str string) string {\n",
    "    return strings.ToUpper(str)\n",
    "}"
   ]
  },
  {
   "cell_type": "markdown",
   "id": "12f12074-6c13-46c9-bc73-258a9d2bd2cd",
   "metadata": {},
   "source": [
    "文件夹 `mystrings` 中再新建 `reverse.go` 文件，输入如下内容："
   ]
  },
  {
   "cell_type": "code",
   "execution_count": 12,
   "id": "0194af89-cb7b-48dc-9eb8-c52bca37b5ba",
   "metadata": {},
   "outputs": [],
   "source": [
    "package mystrings\n",
    "\n",
    "func ReverseRunes(s string) string {\n",
    "    r := []rune(s)\n",
    "    for i, j := 0, len(r)-1; i < len(r)/2; i, j = i+1, j-1 {\n",
    "        r[i], r[j] = r[j], r[i]\n",
    "    }\n",
    "    return string(r)\n",
    "}"
   ]
  },
  {
   "cell_type": "markdown",
   "id": "f86a9fbf-d563-43c2-b6be-305fe85feb0c",
   "metadata": {},
   "source": [
    "这样，就自定义了一个包 `mystrings`，包中包含两个源文件 `uc.go` 和 `reverse.go`。\n",
    "\n",
    "修改 `hello.go` 将自定义包导入，创建一个新的程序："
   ]
  },
  {
   "cell_type": "code",
   "execution_count": null,
   "id": "b5d6db55-c2c3-46ce-ab0c-1b724bcb3be6",
   "metadata": {},
   "outputs": [],
   "source": [
    "package main\n",
    "\n",
    "import (\n",
    "    \"fmt\"\n",
    "    \"mystrings\"\n",
    ")\n",
    "\n",
    "var str string\n",
    "\n",
    "func main() {\n",
    "    fmt.Println(\"Please enter: \")\n",
    "    fmt.Scanln(&str)\n",
    "    input := mystrings.UpperCase(mystrings.ReverseRunes(str))\n",
    "    fmt.Println(input)\n",
    "}"
   ]
  },
  {
   "cell_type": "markdown",
   "id": "d93dcc2a-8df8-4774-a77a-dbf70c516f45",
   "metadata": {},
   "source": [
    "打开终端，输入命令 `go run ~/go/src/hello.go` 执行程序，将输出 `Please enter: ` 提示你输入内容。输入 `helloworld` 按回车，所有字母将转为大写并逆序打印出来：`DLROWOLLEH`。\n",
    "\n",
    "## 构建 Go 程序\n",
    "\n",
    "打开终端执行命令 `go build ~/go/src/hello.go`，将在 `hello.go` 的同一个文件夹中生成 `hello` 可执行二进制文件。如此 `hello` 就是一个独立可用的小程序啦。\n",
    "\n",
    "## 包导入方式\n",
    "\n",
    "包的导入方式有以下三种，以 `fmt` 包为例：\n",
    "\n",
    "- `import \"fmt\"` 正常导入"
   ]
  },
  {
   "cell_type": "code",
   "execution_count": 1,
   "id": "8991632a-ca0e-4c13-a99a-b71e403ad5ed",
   "metadata": {},
   "outputs": [
    {
     "name": "stdout",
     "output_type": "stream",
     "text": [
      "ok"
     ]
    },
    {
     "data": {
      "text/plain": [
       "2 <nil>"
      ]
     },
     "execution_count": 1,
     "metadata": {},
     "output_type": "execute_result"
    }
   ],
   "source": [
    "import \"fmt\"\n",
    "fmt.Print(\"ok\")"
   ]
  },
  {
   "cell_type": "markdown",
   "id": "c2835ffd-abe6-4b8b-9e48-a6af1b5b8da3",
   "metadata": {},
   "source": [
    "- `import f \"fmt\"` 重命名导入，将 fmt 重命名为 f"
   ]
  },
  {
   "cell_type": "code",
   "execution_count": 2,
   "id": "b784a9dd-b0d9-46d1-bcd7-cadca77ba49e",
   "metadata": {},
   "outputs": [
    {
     "name": "stdout",
     "output_type": "stream",
     "text": [
      "ok"
     ]
    },
    {
     "data": {
      "text/plain": [
       "2 <nil>"
      ]
     },
     "execution_count": 2,
     "metadata": {},
     "output_type": "execute_result"
    }
   ],
   "source": [
    "import f \"fmt\"\n",
    "f.Print(\"ok\")"
   ]
  },
  {
   "cell_type": "markdown",
   "id": "35deb31f-a651-4c43-971c-0f43da4b6793",
   "metadata": {},
   "source": [
    "- `import . \"fmt\"` 直接导入包内对象（函数、变量等），可直接调用或使用"
   ]
  },
  {
   "cell_type": "code",
   "execution_count": 3,
   "id": "c4131a84-a31a-409d-a572-9046d9b94217",
   "metadata": {},
   "outputs": [
    {
     "name": "stdout",
     "output_type": "stream",
     "text": [
      "ok"
     ]
    },
    {
     "data": {
      "text/plain": [
       "2 <nil>"
      ]
     },
     "execution_count": 3,
     "metadata": {},
     "output_type": "execute_result"
    }
   ],
   "source": [
    "import . \"fmt\"\n",
    "Print(\"ok\")"
   ]
  },
  {
   "cell_type": "markdown",
   "id": "b973a542-627a-487c-94fb-2680e02929b1",
   "metadata": {},
   "source": [
    "使用空白标识符，仅对包进行初始化，而不发生导入行为。例如 `import _ \"math\"` 仅对 math 包进行初始化。\n",
    "\n",
    "导入包可以使用包的路径进行导入，甚至可以从远程库中导入并安装包，例如：\n",
    "\n",
    "    import (\n",
    "        \"example/user/hello/morestrings\" // 本地包\n",
    "        \"github.com/google/go-cmp/cmp\"   // 远程包\n",
    "    )"
   ]
  }
 ],
 "metadata": {
  "kernelspec": {
   "display_name": "Go",
   "language": "go",
   "name": "go"
  },
  "language_info": {
   "file_extension": ".go",
   "mimetype": "",
   "name": "go",
   "nbconvert_exporter": "",
   "pygments_lexer": "",
   "version": "go1.16.2"
  }
 },
 "nbformat": 4,
 "nbformat_minor": 2
}
