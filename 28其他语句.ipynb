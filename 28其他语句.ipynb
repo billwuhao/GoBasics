{
 "cells": [
  {
   "cell_type": "markdown",
   "id": "9db14adc-4882-424f-b055-a208cfd5728b",
   "metadata": {},
   "source": [
    "# 其他语句"
   ]
  },
  {
   "cell_type": "markdown",
   "id": "b21ffc11-8811-4bde-a8d1-3318c6e309cf",
   "metadata": {},
   "source": [
    "## IncDec 语句\n",
    "\n",
    "\"++\" 与 \"--\" 语句是赋值语句，会以无类型化常量 1 来递增或递减它们的操作数。 就赋值来说，操作数必须为可寻址的，或为映射的下标表达式。\n",
    "\n",
    "以下赋值语句在语义上等价：\n",
    "\n",
    "    x++                 x += 1\n",
    "    x--                 x -= 1"
   ]
  },
  {
   "cell_type": "code",
   "execution_count": 1,
   "id": "ecba85ad-8bb2-4610-bfdb-ceba49767ffd",
   "metadata": {},
   "outputs": [
    {
     "data": {
      "text/plain": [
       "2"
      ]
     },
     "execution_count": 1,
     "metadata": {},
     "output_type": "execute_result"
    }
   ],
   "source": [
    "x := 1\n",
    "x++\n",
    "x"
   ]
  },
  {
   "cell_type": "code",
   "execution_count": 2,
   "id": "d495721f-7510-4f71-9e08-38401c8b9526",
   "metadata": {},
   "outputs": [
    {
     "data": {
      "text/plain": [
       "[1 0]"
      ]
     },
     "execution_count": 2,
     "metadata": {},
     "output_type": "execute_result"
    }
   ],
   "source": [
    "x := [2]int{}\n",
    "x[0]++\n",
    "x"
   ]
  },
  {
   "cell_type": "code",
   "execution_count": 3,
   "id": "9c9a127b-dadb-4242-8d20-68932363d0fa",
   "metadata": {},
   "outputs": [
    {
     "data": {
      "text/plain": [
       "map[1:1]"
      ]
     },
     "execution_count": 3,
     "metadata": {},
     "output_type": "execute_result"
    }
   ],
   "source": [
    "x := map[int]int{}\n",
    "x[1]++\n",
    "x"
   ]
  },
  {
   "cell_type": "markdown",
   "id": "158c6731-9cd0-417b-a766-55b726807318",
   "metadata": {},
   "source": [
    "## defer 语句\n",
    "\n",
    "defer 语句调用一个函数，该函数的执行被推迟到外围函数返回之前的那一刻，可能是因为外围的函数执行了 return 语句，或到达了其函数体的末尾，或是因为相应的 goroutine 引发了恐慌。"
   ]
  },
  {
   "cell_type": "code",
   "execution_count": 11,
   "id": "f7d996bd-3f61-4c87-b8f1-1361524fb4f1",
   "metadata": {},
   "outputs": [
    {
     "name": "stdout",
     "output_type": "stream",
     "text": [
      "start\n",
      "gogogo\n"
     ]
    },
    {
     "data": {
      "text/plain": [
       "0"
      ]
     },
     "execution_count": 11,
     "metadata": {},
     "output_type": "execute_result"
    }
   ],
   "source": [
    "import \"fmt\"\n",
    "\n",
    "func g() { fmt.Println(\"gogogo\") }\n",
    "\n",
    "func f(x int) (result int) {\n",
    "    defer g()\n",
    "    fmt.Println(\"start\")\n",
    "}\n",
    "\n",
    "f(2)"
   ]
  },
  {
   "cell_type": "markdown",
   "id": "f5f5bbee-410c-46d0-8b68-4c834b045d6c",
   "metadata": {},
   "source": [
    "如果延迟函数是匿名函数，并且外围的函数具有命名结果参数，则延迟函数可以在返回结果参数之前访问和修改这些参数。\n",
    "\n",
    "如果延迟函数具有任何返回值，则在函数完成时将丢弃这些值。"
   ]
  },
  {
   "cell_type": "code",
   "execution_count": 16,
   "id": "277cbd48-7041-4299-87e8-80dd5157b419",
   "metadata": {},
   "outputs": [
    {
     "data": {
      "text/plain": [
       "2"
      ]
     },
     "execution_count": 16,
     "metadata": {},
     "output_type": "execute_result"
    }
   ],
   "source": [
    "func f() (result int) {\n",
    "    defer func() string { // 访问 result 并修改\n",
    "        result++\n",
    "        return \"丢弃\"\n",
    "    }()\n",
    "    return 1\n",
    "}\n",
    "\n",
    "f()"
   ]
  },
  {
   "cell_type": "markdown",
   "id": "af8b5051-42cf-4399-8f92-a0c998e3df9b",
   "metadata": {},
   "source": [
    "## go 语句\n",
    "\n",
    "go 语句在同一地址空间内，将函数调用的执行 作为 独立的并发控制线程 或 goroutine 启动。\n",
    "\n",
    "语法：`go 函数或方法调用`。内置函数的调用受到限制。\n",
    "\n",
    "函数值和参数在调用 goroutine 中正常计算，但与常规调用不同，当前程序执行不会等待 go 调用的函数完成。相反，go 调用函数开始在新的 goroutine 中独立执行。\n",
    "\n",
    "当函数终止时，其 goroutine 也会终止。\n",
    "\n",
    "如果函数有任何返回值，则在函数完成时将**丢弃**这些值。"
   ]
  },
  {
   "cell_type": "code",
   "execution_count": 9,
   "id": "52f8e0ff-439b-426d-a38e-d6c44a5460a7",
   "metadata": {},
   "outputs": [
    {
     "name": "stdout",
     "output_type": "stream",
     "text": [
      "No\n",
      "Yes\n",
      "No\n",
      "No\n",
      "Yes\n",
      "No\n",
      "No\n",
      "No\n",
      "Yes\n",
      "No\n",
      "Yes\n",
      "No\n",
      "Yes\n",
      "No\n",
      "Yes\n",
      "No\n",
      "Yes\n",
      "Yes\n",
      "Yes\n",
      "Yes\n"
     ]
    }
   ],
   "source": [
    "import (\n",
    "    \"fmt\"\n",
    "    \"time\"\n",
    "    \"runtime\"\n",
    ")\n",
    "\n",
    "func f() {\n",
    "    for i := 0; i < 10; i++ {\n",
    "        fmt.Println(\"Yes\")\n",
    "        runtime.Gosched()\n",
    "    }\n",
    "}\n",
    "\n",
    "func g() {\n",
    "    for i := 0; i < 10; i++ {\n",
    "        fmt.Println(\"No\")\n",
    "        runtime.Gosched()\n",
    "    }\n",
    "}\n",
    "\n",
    "go f()\n",
    "go g()\n",
    "time.Sleep(1e9)"
   ]
  },
  {
   "cell_type": "markdown",
   "id": "de52dafb-e979-4e8f-af0c-334b778f1c8a",
   "metadata": {},
   "source": [
    "## goto 语句\n",
    "\n",
    "注意：goto 语句在任何编程语言中是高度劝阻的，因为它使得难以跟踪程序的控制流程，使程序难以理解，难以修改。任何一个 goto 程序可以改写以便它不需要 goto。\n",
    "\n",
    "goto 语句用于将控制转移到其标签指定的语句："
   ]
  },
  {
   "cell_type": "code",
   "execution_count": 7,
   "id": "393fa617-8293-4312-9e83-a1192a019eed",
   "metadata": {},
   "outputs": [
    {
     "name": "stdout",
     "output_type": "stream",
     "text": [
      "1\n",
      "2\n",
      "3\n",
      "4\n",
      "5\n"
     ]
    }
   ],
   "source": [
    "import \"fmt\"\n",
    "\n",
    "i := 1\n",
    "flag:\n",
    "if i <= 5 {\n",
    "    fmt.Println(i)\n",
    "    i++\n",
    "    goto flag\n",
    "}"
   ]
  },
  {
   "cell_type": "code",
   "execution_count": 8,
   "id": "84f5618c-1933-4347-9924-9dac52790aef",
   "metadata": {},
   "outputs": [
    {
     "name": "stdout",
     "output_type": "stream",
     "text": [
      "1x1=1 \n",
      "1x2=2 2x2=4 \n",
      "1x3=3 2x3=6 3x3=9 \n",
      "1x4=4 2x4=8 3x4=12 4x4=16 \n",
      "1x5=5 2x5=10 3x5=15 4x5=20 5x5=25 \n",
      "1x6=6 2x6=12 3x6=18 4x6=24 5x6=30 6x6=36 \n",
      "1x7=7 2x7=14 3x7=21 4x7=28 5x7=35 6x7=42 7x7=49 \n",
      "1x8=8 2x8=16 3x8=24 4x8=32 5x8=40 6x8=48 7x8=56 8x8=64 \n",
      "1x9=9 2x9=18 3x9=27 4x9=36 5x9=45 6x9=54 7x9=63 8x9=72 9x9=81 \n"
     ]
    }
   ],
   "source": [
    "import \"fmt\"\n",
    "\n",
    "for m := 1; m < 10; m++ {\n",
    "    n := 1\n",
    "LOOP: \n",
    "    if n <= m {\n",
    "        fmt.Printf(\"%dx%d=%d \",n,m,m*n)\n",
    "        n++\n",
    "        goto LOOP\n",
    "    } else {\n",
    "        fmt.Println(\"\")\n",
    "    }\n",
    "    n++\n",
    "}"
   ]
  }
 ],
 "metadata": {
  "kernelspec": {
   "display_name": "Go",
   "language": "go",
   "name": "gophernotes"
  },
  "language_info": {
   "codemirror_mode": "",
   "file_extension": ".go",
   "mimetype": "",
   "name": "go",
   "nbconvert_exporter": "",
   "pygments_lexer": "",
   "version": "go1.17.3"
  }
 },
 "nbformat": 4,
 "nbformat_minor": 5
}
