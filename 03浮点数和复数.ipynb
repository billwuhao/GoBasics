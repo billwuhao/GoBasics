{
 "cells": [
  {
   "cell_type": "markdown",
   "id": "6925399f-2c02-4432-b843-6bb79bd862b6",
   "metadata": {},
   "source": [
    "# 浮点数和复数\n",
    "\n",
    "## 浮点数\n",
    "\n",
    "浮点数由整数部分，小数点，小数部分或指数部分构成。整数部分与小数部分由十进制数字组成； 指数部分由一个 e 或 E 紧跟一个带可选正负号的十进制指数构成。 整数部分或小数部分可以省略；小数点或指数亦可省略："
   ]
  },
  {
   "cell_type": "code",
   "execution_count": 1,
   "id": "240b60a7-56e0-416b-9252-8e95b42920ab",
   "metadata": {},
   "outputs": [
    {
     "data": {
      "text/plain": [
       "12345"
      ]
     },
     "execution_count": 1,
     "metadata": {},
     "output_type": "execute_result"
    }
   ],
   "source": [
    "0.\n",
    "72.40\n",
    "072.40  // == 72.40\n",
    "2.71828\n",
    "1.e+0\n",
    "6.67428e-11\n",
    "1E6\n",
    ".25\n",
    ".12345E+5"
   ]
  },
  {
   "cell_type": "markdown",
   "id": "656c2791-94dc-46b8-bb67-de8548292a3b",
   "metadata": {},
   "source": [
    "浮点数的类型有：\n",
    "\n",
    "- float32     所有IEEE-754 32位浮点数集\n",
    "- float64     所有IEEE-754 64位浮点数集\n",
    "\n",
    "当不同的数值类型混合在一个表达式或赋值操作中时，必须进行类型转换："
   ]
  },
  {
   "cell_type": "code",
   "execution_count": 2,
   "id": "4cb25b1f-2c9e-4a6d-b3d5-36bf201ae373",
   "metadata": {},
   "outputs": [
    {
     "data": {
      "text/plain": [
       "1"
      ]
     },
     "execution_count": 2,
     "metadata": {},
     "output_type": "execute_result"
    }
   ],
   "source": [
    "float32(1)"
   ]
  },
  {
   "cell_type": "code",
   "execution_count": 3,
   "id": "b9ca4457-650d-4e0e-b815-a7d88563792d",
   "metadata": {},
   "outputs": [
    {
     "ename": "ERROR",
     "evalue": "repl.go:1:22: mismatched types in binary operation + between Expr{Type: float64, Value: 1} <float64> and Expr{Type: float32, Value: 1} <float32>: float64(1) + float32(1)",
     "output_type": "error",
     "traceback": [
      "repl.go:1:22: mismatched types in binary operation + between Expr{Type: float64, Value: 1} <float64> and Expr{Type: float32, Value: 1} <float32>: float64(1) + float32(1)"
     ]
    }
   ],
   "source": [
    "float64(1) + float32(1)"
   ]
  },
  {
   "cell_type": "markdown",
   "id": "093757aa-445a-4383-bdce-5d10fb8958f3",
   "metadata": {},
   "source": [
    "无类型化的数值，可以和其他类型数值混合在一个表达式或赋值操作中："
   ]
  },
  {
   "cell_type": "code",
   "execution_count": 16,
   "id": "dbce0def-85ca-4199-bcaf-f9fa26a0fd41",
   "metadata": {},
   "outputs": [
    {
     "data": {
      "text/plain": [
       "6.1400003"
      ]
     },
     "execution_count": 16,
     "metadata": {},
     "output_type": "execute_result"
    }
   ],
   "source": [
    "float32(3) + 3.14"
   ]
  },
  {
   "cell_type": "code",
   "execution_count": 22,
   "id": "3f5410f2-0efa-4dd2-bc51-6dd4d183bdaa",
   "metadata": {},
   "outputs": [
    {
     "ename": "ERROR",
     "evalue": "untyped constant {float64 157/50} overflows <int>",
     "output_type": "error",
     "traceback": [
      "untyped constant {float64 157/50} overflows <int>"
     ]
    }
   ],
   "source": [
    "int(1) + 3.14 // 整数类型不能和浮点数 3.14 相加, 小数部分为 0 除外"
   ]
  },
  {
   "cell_type": "markdown",
   "id": "cbae18b9-41ce-4925-b456-dacbef86b061",
   "metadata": {},
   "source": [
    "浮点数的运算符有 `+`（和），`-`（差），`*`（积），`/`（商）。"
   ]
  },
  {
   "cell_type": "markdown",
   "id": "1529f008-e008-443b-94aa-0aec2eb7e157",
   "metadata": {},
   "source": [
    "## 复数\n",
    "\n",
    "复数由实部和虚部构成。实部由浮点数或整数（其实也是浮点数）构成，实部为 0 可以省略，虚部由浮点数或整数（其实也是浮点数）紧跟小写字母 i 构成。\n",
    "\n",
    "复数的类型有：\n",
    "\n",
    "- complex64   所有带float32实部和虚部的复数集\n",
    "- complex128  所有带float64实部和虚部的复数集\n",
    "\n",
    "虚部的合法写法："
   ]
  },
  {
   "cell_type": "code",
   "execution_count": 23,
   "id": "924588fc-096a-4954-ae3e-d46085fa9dd6",
   "metadata": {},
   "outputs": [
    {
     "data": {
      "text/plain": [
       "(0+12345i)"
      ]
     },
     "execution_count": 23,
     "metadata": {},
     "output_type": "execute_result"
    }
   ],
   "source": [
    "0i\n",
    "011i  // == 11i\n",
    "0.i\n",
    "2.71828i\n",
    "1.e+0i\n",
    "6.67428e-11i\n",
    "1E6i\n",
    ".25i\n",
    ".12345E+5i"
   ]
  },
  {
   "cell_type": "markdown",
   "id": "c3428bc7-fb5d-4966-b974-88f1e687b833",
   "metadata": {},
   "source": [
    "函数 real() 和 imag() 可以分别获得相应的实数和虚数部分："
   ]
  },
  {
   "cell_type": "code",
   "execution_count": 24,
   "id": "9473e035-42f2-4aed-9632-8739d4c6d1e2",
   "metadata": {},
   "outputs": [
    {
     "data": {
      "text/plain": [
       "0"
      ]
     },
     "execution_count": 24,
     "metadata": {},
     "output_type": "execute_result"
    }
   ],
   "source": [
    "real(0i)"
   ]
  },
  {
   "cell_type": "code",
   "execution_count": 25,
   "id": "4b9a2faf-a9e5-4fbc-b330-fde42bde8189",
   "metadata": {},
   "outputs": [
    {
     "data": {
      "text/plain": [
       "0"
      ]
     },
     "execution_count": 25,
     "metadata": {},
     "output_type": "execute_result"
    }
   ],
   "source": [
    " imag(0i)"
   ]
  },
  {
   "cell_type": "code",
   "execution_count": 28,
   "id": "c98d0967-d337-4433-9eda-863bcc6cbdf5",
   "metadata": {},
   "outputs": [
    {
     "data": {
      "text/plain": [
       "(0+0i)"
      ]
     },
     "execution_count": 28,
     "metadata": {},
     "output_type": "execute_result"
    }
   ],
   "source": [
    "complex64(0i)"
   ]
  },
  {
   "cell_type": "code",
   "execution_count": 30,
   "id": "b0626770-5df3-4c49-ab5e-4c19d103267f",
   "metadata": {},
   "outputs": [
    {
     "data": {
      "text/plain": [
       "float32"
      ]
     },
     "execution_count": 30,
     "metadata": {},
     "output_type": "execute_result"
    }
   ],
   "source": [
    "import \"fmt\"\n",
    "\n",
    "fmt.Sprintf(\"%T\", real(complex64(0i))) // complex64 类型实数实部的类型\n",
    "fmt.Sprintf(\"%T\", imag(complex64(0i))) // complex64 类型实数虚部的类型"
   ]
  },
  {
   "cell_type": "markdown",
   "id": "7ac7a345-91a3-4edc-8874-6d968cf6ffdc",
   "metadata": {},
   "source": [
    "无类型化的数值可以运算和比较："
   ]
  },
  {
   "cell_type": "code",
   "execution_count": 31,
   "id": "b6e1eb3c-1551-492e-86bf-8ff1cc22afe0",
   "metadata": {},
   "outputs": [
    {
     "data": {
      "text/plain": [
       "false"
      ]
     },
     "execution_count": 31,
     "metadata": {},
     "output_type": "execute_result"
    }
   ],
   "source": [
    "1 == 1.11"
   ]
  },
  {
   "cell_type": "code",
   "execution_count": 33,
   "id": "d6d621b7-def8-4f16-a448-93627cdda82c",
   "metadata": {},
   "outputs": [
    {
     "data": {
      "text/plain": [
       "true"
      ]
     },
     "execution_count": 33,
     "metadata": {},
     "output_type": "execute_result"
    }
   ],
   "source": [
    "3.14 >= 3"
   ]
  },
  {
   "cell_type": "code",
   "execution_count": 35,
   "id": "3ca03f23-4517-46cd-bcf2-1aa95a1b47c0",
   "metadata": {},
   "outputs": [
    {
     "data": {
      "text/plain": [
       "(4.14+1i)"
      ]
     },
     "execution_count": 35,
     "metadata": {},
     "output_type": "execute_result"
    }
   ],
   "source": [
    "1 + 1i + 3.14"
   ]
  },
  {
   "cell_type": "markdown",
   "id": "e1804ea0-77fe-4ec3-91c5-480f58e388f6",
   "metadata": {},
   "source": [
    "## 数值类型转换\n",
    "\n",
    "整数类型可以转换为浮点数类型和复数类型，反过来则不可以（除了小数点后为零和虚部为 0i）；浮点数类型可以转换为复数类型，反过来则不可以（除了虚部为 0i）："
   ]
  },
  {
   "cell_type": "code",
   "execution_count": 46,
   "id": "80530e66-36a7-4ffe-8146-2bd19f254cc7",
   "metadata": {},
   "outputs": [
    {
     "data": {
      "text/plain": [
       "3.14"
      ]
     },
     "execution_count": 46,
     "metadata": {},
     "output_type": "execute_result"
    }
   ],
   "source": [
    "float32(1)\n",
    "complex64(1)\n",
    "int(1.0)\n",
    "int(1.0 + 0i)\n",
    "complex64(3.14)\n",
    "float32(3.14 + 0i)"
   ]
  },
  {
   "cell_type": "markdown",
   "id": "0b9a382f-c27a-4b86-9ca7-12b296725a68",
   "metadata": {},
   "source": [
    "不同类型之间运算和比较必须进行类型转换："
   ]
  },
  {
   "cell_type": "code",
   "execution_count": 47,
   "id": "ca838da7-6047-4a63-a60e-db4c95bd2095",
   "metadata": {},
   "outputs": [
    {
     "ename": "ERROR",
     "evalue": "repl.go:1:19: mismatched types in binary operation == between Expr{Type: float32, Value: 1} <float32> and Expr{Type: int, Value: 1} <int>: float32(1) == int(1)",
     "output_type": "error",
     "traceback": [
      "repl.go:1:19: mismatched types in binary operation == between Expr{Type: float32, Value: 1} <float32> and Expr{Type: int, Value: 1} <int>: float32(1) == int(1)"
     ]
    }
   ],
   "source": [
    "float32(1) == int(1)"
   ]
  },
  {
   "cell_type": "code",
   "execution_count": 48,
   "id": "5604df45-4eac-4d70-ba75-f4859192beea",
   "metadata": {},
   "outputs": [
    {
     "ename": "ERROR",
     "evalue": "repl.go:1:20: mismatched types in binary operation + between Expr{Type: complex64, Value: (1+0i)} <complex64> and Expr{Type: int, Value: 1} <int>: complex64(1) + int(1)",
     "output_type": "error",
     "traceback": [
      "repl.go:1:20: mismatched types in binary operation + between Expr{Type: complex64, Value: (1+0i)} <complex64> and Expr{Type: int, Value: 1} <int>: complex64(1) + int(1)"
     ]
    }
   ],
   "source": [
    "complex64(1) + int(1)"
   ]
  }
 ],
 "metadata": {
  "kernelspec": {
   "display_name": "Go",
   "language": "go",
   "name": "go"
  },
  "language_info": {
   "file_extension": ".go",
   "mimetype": "",
   "name": "go",
   "nbconvert_exporter": "",
   "pygments_lexer": "",
   "version": "go1.16.2"
  }
 },
 "nbformat": 4,
 "nbformat_minor": 2
}
