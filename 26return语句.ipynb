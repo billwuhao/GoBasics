{
 "cells": [
  {
   "cell_type": "markdown",
   "id": "bef7e9b3-a41e-4b78-89a0-475d46e25307",
   "metadata": {},
   "source": [
    "# return 语句\n",
    "\n",
    "函数 F 中的 return 语句终止 F 的执行，并可选地提供一个或多个返回值。 任何被 F 推迟的函数会在 F 返回给其调用者前执行。"
   ]
  },
  {
   "cell_type": "code",
   "execution_count": 4,
   "id": "e55ec473-86a5-40b5-a53c-63df00bc0449",
   "metadata": {},
   "outputs": [
    {
     "data": {
      "text/plain": [
       "1"
      ]
     },
     "execution_count": 4,
     "metadata": {},
     "output_type": "execute_result"
    }
   ],
   "source": [
    "func f() (result int) {\n",
    "    defer func() { // 返回给调用者前执行\n",
    "        result++\n",
    "    }()\n",
    "    return\n",
    "}\n",
    "\n",
    "f()"
   ]
  },
  {
   "cell_type": "markdown",
   "id": "cbd57b82-5e3d-4e04-89af-fc1b7f703108",
   "metadata": {},
   "source": [
    "在没有结果类型的函数中，return 语句不得指定任何结果值："
   ]
  },
  {
   "cell_type": "code",
   "execution_count": 2,
   "id": "3747ad68-8fca-41ff-9918-1ba32cd2c564",
   "metadata": {},
   "outputs": [],
   "source": [
    "func noResult() {\n",
    "    return\n",
    "}\n",
    "\n",
    "noResult()"
   ]
  },
  {
   "cell_type": "markdown",
   "id": "d1b9434f-cf58-430b-b166-b36a60a3cad2",
   "metadata": {},
   "source": [
    "有三种方法可以从具有结果类型的函数返回值：\n",
    "\n",
    "1. 返回值在 return 语句中显式列出，并且可以分配给函数结果类型的相应元素："
   ]
  },
  {
   "cell_type": "code",
   "execution_count": 6,
   "id": "2b078be2-11e6-44cb-8dbf-f370dc9ef246",
   "metadata": {},
   "outputs": [
    {
     "data": {
      "text/plain": [
       "-14 -4"
      ]
     },
     "execution_count": 6,
     "metadata": {},
     "output_type": "execute_result"
    }
   ],
   "source": [
    "func complexF1() (re float64, im float64) {\n",
    "    return -7.0 * 2, -4.0\n",
    "}\n",
    "\n",
    "simpleF()\n",
    "complexF1()"
   ]
  },
  {
   "cell_type": "markdown",
   "id": "76175341-ae6e-4427-a8e5-e5b04488dcde",
   "metadata": {},
   "source": [
    "2. return 语句中的表达式列表可以是对多返回值函数的调用。其效果就好像将该调用函数返回的每个值都分配给具有相应值类型结果："
   ]
  },
  {
   "cell_type": "code",
   "execution_count": 7,
   "id": "3a8750c0-eabe-41b1-91c5-e7c68b6a0374",
   "metadata": {},
   "outputs": [
    {
     "data": {
      "text/plain": [
       "-14 -4"
      ]
     },
     "execution_count": 7,
     "metadata": {},
     "output_type": "execute_result"
    }
   ],
   "source": [
    "func complexF2() (re float64, im float64) {\n",
    "    return complexF1()\n",
    "}\n",
    "\n",
    "complexF2()"
   ]
  },
  {
   "cell_type": "markdown",
   "id": "11df27a7-ec37-49cb-8871-9c95e6be48bf",
   "metadata": {},
   "source": [
    "3. 如果函数的结果类型指定了其结果参数的名称，则表达式列表可为空。结果参数充当普通局部变量，函数可以根据需要为它们赋值。 return 语句返回这些变量的值："
   ]
  },
  {
   "cell_type": "code",
   "execution_count": 8,
   "id": "a32ee75a-b88f-41ad-b9b2-ef792e864113",
   "metadata": {},
   "outputs": [
    {
     "data": {
      "text/plain": [
       "7 4"
      ]
     },
     "execution_count": 8,
     "metadata": {},
     "output_type": "execute_result"
    }
   ],
   "source": [
    "func complexF3() (re float64, im float64) {\n",
    "    re = 7.0\n",
    "    im = 4.0\n",
    "    return\n",
    "}\n",
    "\n",
    "complexF3()"
   ]
  },
  {
   "cell_type": "markdown",
   "id": "24f8dfd9-7a7a-4e2c-9258-d7db5064ca3f",
   "metadata": {},
   "source": [
    "无论结果参数如何声明，所有结果值在输入函数时都将初始化为其类型的零值。指定结果的 return 语句在执行任何延迟函数之前设定结果："
   ]
  },
  {
   "cell_type": "code",
   "execution_count": 19,
   "id": "65cdefcb-771d-406e-97d1-3d6a08d4cc0a",
   "metadata": {},
   "outputs": [
    {
     "data": {
      "text/plain": [
       "0"
      ]
     },
     "execution_count": 19,
     "metadata": {},
     "output_type": "execute_result"
    }
   ],
   "source": [
    "func f() (result int) {\n",
    "    return\n",
    "}\n",
    "\n",
    "f()"
   ]
  },
  {
   "cell_type": "code",
   "execution_count": 16,
   "id": "082fb446-6526-48b6-b717-ca3a3434ca7c",
   "metadata": {},
   "outputs": [
    {
     "name": "stdout",
     "output_type": "stream",
     "text": [
      "x=3"
     ]
    },
    {
     "data": {
      "text/plain": [
       "2"
      ]
     },
     "execution_count": 16,
     "metadata": {},
     "output_type": "execute_result"
    }
   ],
   "source": [
    "import \"fmt\"\n",
    "\n",
    "func f(x int) (result int) {\n",
    "    defer func() { // 返回给调用者前执行\n",
    "        x++\n",
    "        fmt.Print(\"x=\", x)\n",
    "    }()\n",
    "    return x // 延迟函数执行之前设定\n",
    "}\n",
    "\n",
    "f(2)"
   ]
  }
 ],
 "metadata": {
  "kernelspec": {
   "display_name": "Go",
   "language": "go",
   "name": "go"
  },
  "language_info": {
   "file_extension": ".go",
   "mimetype": "",
   "name": "go",
   "nbconvert_exporter": "",
   "pygments_lexer": "",
   "version": "go1.16.2"
  }
 },
 "nbformat": 4,
 "nbformat_minor": 2
}
