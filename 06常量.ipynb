{
 "cells": [
  {
   "cell_type": "markdown",
   "id": "75d79d52-952e-4982-8441-143873562a35",
   "metadata": {},
   "source": [
    "# 常量\n",
    "\n",
    "常量包含布尔常量，字符常量， 整数常量，浮点数常量， 复数常量和字符串常量。 字符，整数，浮点数和复数常量统称为数值常量。\n",
    "\n",
    "常量可以是类型化的或无类型化的。字面常量，true，false， iota 和某些只包含无类型化操作数的常量表达式是无类型化的："
   ]
  },
  {
   "cell_type": "code",
   "execution_count": 1,
   "id": "2c5c0d1e-9e10-4982-b1a6-92741621ecd3",
   "metadata": {},
   "outputs": [
    {
     "data": {
      "text/plain": [
       "4.14"
      ]
     },
     "execution_count": 1,
     "metadata": {},
     "output_type": "execute_result"
    }
   ],
   "source": [
    "123 // 字面常量\n",
    "'a' // 字面常量\n",
    "true // 无类型化常量 true\n",
    "1 + 3.14 // 只包含无类型化操作数的常量表达式"
   ]
  },
  {
   "cell_type": "code",
   "execution_count": 1,
   "id": "d52366be-0230-4ef4-abe4-d9090c0ca769",
   "metadata": {},
   "outputs": [
    {
     "data": {
      "text/plain": [
       "true"
      ]
     },
     "execution_count": 1,
     "metadata": {},
     "output_type": "execute_result"
    }
   ],
   "source": [
    "0 == true // 无类型化常量比较"
   ]
  },
  {
   "cell_type": "markdown",
   "id": "ccd4dfed-b483-4774-a325-dec78b0b314c",
   "metadata": {},
   "source": [
    "常量可由常量声明或类型转换显式地赋予其类型，也可由变量声明或赋值以及作为表达式中的操作数隐式地赋予其类型。"
   ]
  },
  {
   "cell_type": "markdown",
   "id": "4160f255-346f-4f02-b1d9-a95be22f96af",
   "metadata": {},
   "source": [
    "## 常量声明\n",
    "\n",
    "常量声明语法：`const 标识符 类型 = 表达式`。类型可以省略；可以同时声明多个常量用圆括号 () 括起来："
   ]
  },
  {
   "cell_type": "code",
   "execution_count": 1,
   "id": "d0cb4635-5bb0-4f96-9078-01ec205a3733",
   "metadata": {},
   "outputs": [],
   "source": [
    "const Pi float64 = 3.14159265358979323846\n",
    "const zero = 0.0       // 无类型化浮点常量\n",
    "const (\n",
    "        size int64 = 1024\n",
    "        eof        = -1    // 无类型化整数常量\n",
    ")\n",
    "const a, b, c = 3, 4, \"foo\"  // a = 3, b = 4, c = \"foo\", 无类型化整数和字符串常量\n",
    "const u, v float32 = 0, 3    // u = 0.0, v = 3.0"
   ]
  },
  {
   "cell_type": "markdown",
   "id": "56a56141-f72f-4d90-a1c0-c38d6076b2db",
   "metadata": {},
   "source": [
    "在 const 后的括号中，进行多个常量声明，如果只有第一句有表达式，省略的重复前面的表达式，而且类型（如果有）也一致："
   ]
  },
  {
   "cell_type": "code",
   "execution_count": 3,
   "id": "cc2055ca-8b4e-43ca-9b46-b6b3beafeb04",
   "metadata": {},
   "outputs": [
    {
     "data": {
      "text/plain": [
       "1"
      ]
     },
     "execution_count": 3,
     "metadata": {},
     "output_type": "execute_result"
    }
   ],
   "source": [
    "const (\n",
    "        a int32 = 1\n",
    "        b\n",
    "        c\n",
    "        d\n",
    ")\n",
    "\n",
    "d // 常量 d "
   ]
  },
  {
   "cell_type": "code",
   "execution_count": 4,
   "id": "f9142455-c947-4dea-8b60-087fd12a6748",
   "metadata": {},
   "outputs": [
    {
     "data": {
      "text/plain": [
       "int32"
      ]
     },
     "execution_count": 4,
     "metadata": {},
     "output_type": "execute_result"
    }
   ],
   "source": [
    "import \"fmt\"\n",
    "\n",
    "fmt.Sprintf(\"%T\", d) "
   ]
  },
  {
   "cell_type": "markdown",
   "id": "66a2f6bb-eede-4cca-a004-7381e6225914",
   "metadata": {},
   "source": [
    "## 常量 iota\n",
    "\n",
    "在常量声明中 iota 表示连续的无类型化整数常量。每当关键字 const 出现，它都会被重置为 0。它可被用来构造相关常量的集："
   ]
  },
  {
   "cell_type": "code",
   "execution_count": 6,
   "id": "6bbe2588-bb50-460b-b6cf-1931dc67b7f1",
   "metadata": {},
   "outputs": [
    {
     "data": {
      "text/plain": [
       "5"
      ]
     },
     "execution_count": 6,
     "metadata": {},
     "output_type": "execute_result"
    }
   ],
   "source": [
    "const (\n",
    "        Sunday = iota // 0\n",
    "        Monday        // 1\n",
    "        Tuesday       // 2\n",
    "        Wednesday     // 3\n",
    "        Thursday      // 4\n",
    "        Friday        // 5\n",
    ")\n",
    "\n",
    "Friday"
   ]
  },
  {
   "cell_type": "code",
   "execution_count": 7,
   "id": "f6afad1d-642c-4a1b-9bcd-add145a4938c",
   "metadata": {},
   "outputs": [],
   "source": [
    "const (  // iota重置为0\n",
    "        c0 = iota  // c0 == 0\n",
    "        c1 = iota  // c1 == 1\n",
    "        c2 = iota  // c2 == 2\n",
    ")\n",
    "\n",
    "const (\n",
    "        a = 1 << iota  // a == 1 （iota已重置）\n",
    "        b = 1 << iota  // b == 2\n",
    "        c = 1 << iota  // c == 4\n",
    ")\n",
    "\n",
    "const (\n",
    "        u         = iota * 42  // u == 0     （无类型化整数常量）\n",
    "        v float64 = iota * 42  // v == 42.0  （float64常量）\n",
    "        w         = iota * 42  // w == 84    （无类型化整数常量）\n",
    ")\n",
    "\n",
    "const x = iota  // x == 0 （iota已重置）\n",
    "const y = iota  // y == 0 （iota已重置）"
   ]
  },
  {
   "cell_type": "markdown",
   "id": "d22dbdf3-8fd5-4808-a690-db453a9c30f7",
   "metadata": {},
   "source": [
    "在表达式列表中，每个 iota 的值都相同，因为它只在每个常量实现后开始增量："
   ]
  },
  {
   "cell_type": "code",
   "execution_count": 8,
   "id": "5c8bba5a-3ba6-4b23-9acb-1a49e0d34980",
   "metadata": {},
   "outputs": [
    {
     "data": {
      "text/plain": [
       "7"
      ]
     },
     "execution_count": 8,
     "metadata": {},
     "output_type": "execute_result"
    }
   ],
   "source": [
    "const (\n",
    "        bit0, mask0 = 1 << iota, 1 << iota - 1  // bit0 == 1, mask0 == 0\n",
    "        bit1, mask1                             // bit1 == 2, mask1 == 1\n",
    "        _, _                                    // 跳过 iota == 2\n",
    "        bit3, mask3                             // bit3 == 8, mask3 == 7\n",
    ")\n",
    "\n",
    "mask3"
   ]
  }
 ],
 "metadata": {
  "kernelspec": {
   "display_name": "Go",
   "language": "go",
   "name": "gophernotes"
  },
  "language_info": {
   "codemirror_mode": "",
   "file_extension": ".go",
   "mimetype": "",
   "name": "go",
   "nbconvert_exporter": "",
   "pygments_lexer": "",
   "version": "go1.17.3"
  }
 },
 "nbformat": 4,
 "nbformat_minor": 5
}
