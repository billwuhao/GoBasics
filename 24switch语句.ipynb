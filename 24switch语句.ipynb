{
 "cells": [
  {
   "cell_type": "markdown",
   "id": "598890d2-5500-44d7-bb52-8fc48aad6358",
   "metadata": {},
   "source": [
    "# switch 语句\n",
    "\n",
    "switch 语句提供多路执行。表达式或类型说明符与 switch 中的 cases 相比较从而决定执行哪一分支。\n",
    "\n",
    "它有两种形式：表达式选择与类型选择。在表达式选择中，case 包含的表达式针对 switch 表达式的值进行比较， 在类型选择中，case 包含的类型针对特别注明的 switch 表达式的类型进行比较。\n",
    "\n",
    "## 表达式选择\n",
    "\n",
    "在表达式选择中，switch 表达式会被求值，case 表达式按从上到下，从左到右的顺序求值；第一个 case 子句的表达式列表中，有值等于 switch 表达式的值，将引发相应情况的语句的执行；其它的情况将被跳过。 \n",
    "\n",
    "switch 表达式的值和 case 表达式的值，必须能够有效比较。\n",
    "\n",
    "若没有情况匹配且有 default 字句，则该语句将被执行。最多只能有一个默认情况且它可以出现在 switch 语句的任何地方。\n",
    "\n",
    "缺失的 switch 表达式等价于表达式 true。\n",
    "\n",
    "表达式前面可有简单语句，它将在表达式求值前执行。"
   ]
  },
  {
   "cell_type": "code",
   "execution_count": 6,
   "id": "8a32d267-31c2-4087-b65b-b0f7aa0c258b",
   "metadata": {},
   "outputs": [
    {
     "name": "stdout",
     "output_type": "stream",
     "text": [
      "0\n"
     ]
    }
   ],
   "source": [
    "import \"fmt\"\n",
    "\n",
    "switch 1 { // 表达式 1\n",
    "case 0, 1: fmt.Println(0) // 表达式列表 \"0, 1\"\n",
    "case 2: fmt.Println(1)\n",
    "case 3: fmt.Println(2)\n",
    "}"
   ]
  },
  {
   "cell_type": "code",
   "execution_count": 5,
   "id": "21876fdf-bd09-4d03-a34c-2f17103108c5",
   "metadata": {},
   "outputs": [
    {
     "name": "stdout",
     "output_type": "stream",
     "text": [
      "default\n"
     ]
    }
   ],
   "source": [
    "import \"fmt\"\n",
    "\n",
    "switch x := 1; { // 缺失的 switch 表达式\n",
    "default : fmt.Println(\"default\")\n",
    "case x > 1: fmt.Println(0)\n",
    "case x < 0: fmt.Println(1)\n",
    "case x == 2: fmt.Println(2)\n",
    "}"
   ]
  },
  {
   "cell_type": "markdown",
   "id": "ada5092e-29f2-44e9-b85a-7e9160e94b5b",
   "metadata": {},
   "source": [
    "## fallthrough 语句\n",
    "\n",
    "在 case 或 default 子句中，最后一个语句可以是 fallthrough 语句，它表明该控制应从该子句的结尾转至下一个子句的语句。否则，控制转至该 switch 语句的结尾："
   ]
  },
  {
   "cell_type": "code",
   "execution_count": 26,
   "id": "594bb468-dcb4-4003-9dfb-9ad868665c15",
   "metadata": {},
   "outputs": [
    {
     "name": "stdout",
     "output_type": "stream",
     "text": [
      "x + x = 2\n",
      "第一个语句\n",
      "第二个语句\n"
     ]
    }
   ],
   "source": [
    "import \"fmt\"\n",
    "\n",
    "switch x := 1; x + x{\n",
    "default :\n",
    "    fmt.Println(\"default\")\n",
    "case 2:\n",
    "    fmt.Println(\"x + x =\", 2)\n",
    "    fallthrough // 转至下一个子句的语句\n",
    "case x - 1:\n",
    "    fmt.Println(\"第一个语句\")\n",
    "    fmt.Println(\"第二个语句\")\n",
    "case x + 1:\n",
    "    fmt.Println(\"x =\", 1) // 不执行\n",
    "}"
   ]
  },
  {
   "cell_type": "code",
   "execution_count": 28,
   "id": "543f77eb-db81-41f9-9729-96b76b9d99ef",
   "metadata": {},
   "outputs": [
    {
     "name": "stdout",
     "output_type": "stream",
     "text": [
      "default\n",
      "第一个语句\n"
     ]
    }
   ],
   "source": [
    "import \"fmt\"\n",
    "\n",
    "switch x := 1; x {\n",
    "case 2:\n",
    "    fmt.Println(\"x + x =\", 2)\n",
    "default :\n",
    "    fmt.Println(\"default\")\n",
    "    fallthrough\n",
    "case x - 1:\n",
    "    fmt.Println(\"第一个语句\")\n",
    "case x + 1:\n",
    "    fmt.Println(\"x =\", 1)\n",
    "}"
   ]
  },
  {
   "cell_type": "markdown",
   "id": "e022b928-1e85-4ae8-baa7-0be5f318fd3e",
   "metadata": {},
   "source": [
    "## 类型选择\n",
    "\n",
    "类型选择比较类型而非值。它被一个特殊的 switch 表达式标记（**类型选择监视**），该表达式为使用保留字 type 而非实际类型的 类型断言 的形式："
   ]
  },
  {
   "cell_type": "markdown",
   "id": "f79e4738-1d7e-4d5e-9f85-3bf971aafe7e",
   "metadata": {},
   "source": [
    "    switch x.(type) {\n",
    "    // cases\n",
    "    }"
   ]
  },
  {
   "cell_type": "markdown",
   "id": "9b6741a9-7db0-44c7-b6fa-849b67d47cd3",
   "metadata": {},
   "source": [
    "此时的 `case 类型列表` 针对表达式 x 的动态类型匹配实际的类型 T。就像类型断言一样，x 的类型必须为接口类型，而每一个在 case 中列出的非接口类型 T 必须实现了 x 的类型（`interface{}` 是所有类型都实现的空接口类型）："
   ]
  },
  {
   "cell_type": "code",
   "execution_count": 4,
   "id": "169b2c77-726c-4774-8f86-bedca0de4f6c",
   "metadata": {},
   "outputs": [
    {
     "name": "stdout",
     "output_type": "stream",
     "text": [
      "13\n",
      "Param #0 is a int\n",
      "-14.3\n",
      "Param #1 is a float64\n",
      "BELGIUM\n",
      "Param #2 is a string\n",
      "(1+2i)\n",
      "Param #3 is unknown\n",
      "<nil>\n",
      "Param #4 is a nil\n",
      "false\n",
      "Param #5 is a bool\n"
     ]
    }
   ],
   "source": [
    "import \"fmt\"\n",
    "\n",
    "func classifier(items ...interface{}) {\n",
    "    for i, x := range items {\n",
    "        fmt.Println(x)\n",
    "        switch x.(type) {\n",
    "        case bool:\n",
    "            fmt.Printf(\"Param #%d is a bool\\n\", i)\n",
    "        case float64:\n",
    "            fmt.Printf(\"Param #%d is a float64\\n\", i)\n",
    "        case int, int64:\n",
    "            fmt.Printf(\"Param #%d is a int\\n\", i)\n",
    "        case nil:\n",
    "            fmt.Printf(\"Param #%d is a nil\\n\", i)\n",
    "        case string:\n",
    "            fmt.Printf(\"Param #%d is a string\\n\", i)\n",
    "        default:\n",
    "            fmt.Printf(\"Param #%d is unknown\\n\", i)\n",
    "        }\n",
    "    }\n",
    "}\n",
    "\n",
    "classifier(13, -14.3, \"BELGIUM\", complex(1, 2), nil, false)"
   ]
  },
  {
   "cell_type": "markdown",
   "id": "d54c10a4-ab50-46d4-b2b9-01bc668531c5",
   "metadata": {},
   "source": [
    "类型选择监视 可以是一个短变量声明。当使用此形式时，变量会在每个子句的的起始处声明："
   ]
  },
  {
   "cell_type": "code",
   "execution_count": 23,
   "id": "d060a912-d1de-4d01-bd05-1852cfadc584",
   "metadata": {},
   "outputs": [
    {
     "name": "stdout",
     "output_type": "stream",
     "text": [
      "x = &{{{{0x14a70e0 0xc00031d300 141}} 0x1034ae0} 0x8bf760}\n",
      "5 is a myfloat\n"
     ]
    }
   ],
   "source": [
    "import \"fmt\"\n",
    "\n",
    "type myfloat float32\n",
    "\n",
    "type Shaper interface {\n",
    "    Area() float32\n",
    "}\n",
    "\n",
    "func (m myfloat) Area() float32 {\n",
    "    return float32(m * m)\n",
    "}\n",
    "\n",
    "m := myfloat(5)\n",
    "x := Shaper(m)\n",
    "switch i := x.(type) {\n",
    "case nil:\n",
    "    fmt.Println(\"x is nil\") \n",
    "case myfloat:\n",
    "    fmt.Println(\"x =\", x)\n",
    "    fmt.Println(i, \"is a myfloat\")\n",
    "}"
   ]
  },
  {
   "cell_type": "markdown",
   "id": "51708a2f-b093-43ea-b286-07536ffdf17d",
   "metadata": {},
   "source": [
    "类型选择监视 前面可有简单语句，它将在 类型选择监视 求值前执行："
   ]
  },
  {
   "cell_type": "code",
   "execution_count": 27,
   "id": "629c7fd2-f13b-4740-b835-c5484b27496a",
   "metadata": {},
   "outputs": [
    {
     "name": "stdout",
     "output_type": "stream",
     "text": [
      "x = &{{{{0x14a70e0 0xc0005b5310 141}} 0x1034ae0} 0x8bf760}\n",
      "2 is a myfloat\n"
     ]
    }
   ],
   "source": [
    "m := myfloat(2)\n",
    "switch x := Shaper(m); i := x.(type) {\n",
    "case nil:\n",
    "    fmt.Println(\"x is nil\") \n",
    "case myfloat:\n",
    "    fmt.Println(\"x =\", x)\n",
    "    fmt.Println(i, \"is a myfloat\")\n",
    "}"
   ]
  },
  {
   "cell_type": "markdown",
   "id": "0e4aecce-2926-4e84-8ab2-1267fd244c05",
   "metadata": {},
   "source": [
    "default 语句在类型选择中可用，而 fallthrough 语句在类型选择中不被允许。"
   ]
  }
 ],
 "metadata": {
  "kernelspec": {
   "display_name": "Go",
   "language": "go",
   "name": "go"
  },
  "language_info": {
   "file_extension": ".go",
   "mimetype": "",
   "name": "go",
   "nbconvert_exporter": "",
   "pygments_lexer": "",
   "version": "go1.16.2"
  }
 },
 "nbformat": 4,
 "nbformat_minor": 2
}
