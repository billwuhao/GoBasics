{
 "cells": [
  {
   "cell_type": "markdown",
   "id": "f3dc4308-0b82-4b53-b6f6-04a462d3e732",
   "metadata": {},
   "source": [
    "# 指针\n",
    "\n",
    "对于类型为 `T` 的操作数 `x`，地址操作符 `&x` 将生成一个类型为 `*T` 的指针指向 `x`："
   ]
  },
  {
   "cell_type": "code",
   "execution_count": 1,
   "id": "11239e89-1417-43c9-b60b-2d5efe6c0a8d",
   "metadata": {},
   "outputs": [
    {
     "data": {
      "text/plain": [
       "0xc0000c6000"
      ]
     },
     "execution_count": 1,
     "metadata": {},
     "output_type": "execute_result"
    }
   ],
   "source": [
    "var a int = 1\n",
    "&a // 指针"
   ]
  },
  {
   "cell_type": "code",
   "execution_count": 2,
   "id": "c26e5c47-caac-406d-8180-24ebfedb7eaa",
   "metadata": {},
   "outputs": [
    {
     "data": {
      "text/plain": [
       "*int"
      ]
     },
     "execution_count": 2,
     "metadata": {},
     "output_type": "execute_result"
    }
   ],
   "source": [
    "import \"fmt\"\n",
    "fmt.Sprintf(\"%T\",&a) // 指针的类型"
   ]
  },
  {
   "cell_type": "markdown",
   "id": "99a757e5-455e-496c-8d01-66084511b77e",
   "metadata": {},
   "source": [
    "指针赋值给变量，再生成指针："
   ]
  },
  {
   "cell_type": "code",
   "execution_count": 3,
   "id": "9bf4e3b0-0ff0-4724-9ddf-14febaf013ea",
   "metadata": {},
   "outputs": [
    {
     "data": {
      "text/plain": [
       "0xc00038e5d8"
      ]
     },
     "execution_count": 3,
     "metadata": {},
     "output_type": "execute_result"
    }
   ],
   "source": [
    "b := &a\n",
    "&b"
   ]
  },
  {
   "cell_type": "code",
   "execution_count": 4,
   "id": "56e1e216-ca73-4fea-97d0-9b909dfeaca6",
   "metadata": {},
   "outputs": [
    {
     "data": {
      "text/plain": [
       "**int"
      ]
     },
     "execution_count": 4,
     "metadata": {},
     "output_type": "execute_result"
    }
   ],
   "source": [
    "import \"fmt\"\n",
    "fmt.Sprintf(\"%T\",&b) // 指针的类型"
   ]
  },
  {
   "cell_type": "markdown",
   "id": "a22ac405-1a7c-4352-9b5f-1a92853dd54b",
   "metadata": {},
   "source": [
    "操作数必须是可寻址的，即，变量、间接指针、切片的索引操作， 或可寻址结构操作数的字段选择者，或可寻址数组的数组索引操作。\n",
    "\n",
    "作为可寻址性需求的例外， `x` 也可为（可能带有括号的）复合数据结构："
   ]
  },
  {
   "cell_type": "code",
   "execution_count": 13,
   "id": "695629ba-4f1b-4458-9c7e-8d60885f35ea",
   "metadata": {},
   "outputs": [
    {
     "data": {
      "text/plain": [
       "&[1 2]"
      ]
     },
     "execution_count": 13,
     "metadata": {},
     "output_type": "execute_result"
    }
   ],
   "source": [
    "b := [2]int{1,2}\n",
    "&b"
   ]
  },
  {
   "cell_type": "code",
   "execution_count": 14,
   "id": "93ec8500-5707-479d-87ae-3e74987d44b2",
   "metadata": {},
   "outputs": [
    {
     "data": {
      "text/plain": [
       "*[2]int"
      ]
     },
     "execution_count": 14,
     "metadata": {},
     "output_type": "execute_result"
    }
   ],
   "source": [
    "import \"fmt\"\n",
    "fmt.Sprintf(\"%T\",&b) "
   ]
  },
  {
   "cell_type": "markdown",
   "id": "8feae15b-5f17-49ce-8445-0e0cbe5b8b7d",
   "metadata": {},
   "source": [
    "对于指针类型为 `*T` 的操作数 `x`，间接指针 `*x` 表示类型为 `T` 的值指向 `x`。若 `x` 为 `nil`， 尝试求值 `*x` 将会引发运行时恐慌："
   ]
  },
  {
   "cell_type": "code",
   "execution_count": 16,
   "id": "b8f7e28f-9df3-408c-979a-4cebec6d0024",
   "metadata": {},
   "outputs": [
    {
     "data": {
      "text/plain": [
       "1"
      ]
     },
     "execution_count": 16,
     "metadata": {},
     "output_type": "execute_result"
    }
   ],
   "source": [
    "a := 1\n",
    "b := &a // 指向 a 的指针\n",
    "*b // 指向 b 的间接指针"
   ]
  },
  {
   "cell_type": "code",
   "execution_count": 17,
   "id": "224a38ac-c638-4beb-9cb8-6a3486a3d277",
   "metadata": {},
   "outputs": [
    {
     "data": {
      "text/plain": [
       "*int"
      ]
     },
     "execution_count": 17,
     "metadata": {},
     "output_type": "execute_result"
    }
   ],
   "source": [
    "import \"fmt\"\n",
    "fmt.Sprintf(\"%T\",&a)"
   ]
  },
  {
   "cell_type": "code",
   "execution_count": 19,
   "id": "51f540a8-d5bf-4171-9301-cbf2a8f3998e",
   "metadata": {},
   "outputs": [
    {
     "data": {
      "text/plain": [
       "int"
      ]
     },
     "execution_count": 19,
     "metadata": {},
     "output_type": "execute_result"
    }
   ],
   "source": [
    "import \"fmt\"\n",
    "fmt.Sprintf(\"%T\",*b)"
   ]
  },
  {
   "cell_type": "markdown",
   "id": "f8e40a8b-fc74-4c23-af7e-9acf58e87bd0",
   "metadata": {},
   "source": [
    "声明一个零值（nil）的指针："
   ]
  },
  {
   "cell_type": "code",
   "execution_count": 20,
   "id": "64f7a845-7b8a-4105-8462-bf86731c3efd",
   "metadata": {},
   "outputs": [
    {
     "data": {
      "text/plain": [
       "<nil>"
      ]
     },
     "execution_count": 20,
     "metadata": {},
     "output_type": "execute_result"
    }
   ],
   "source": [
    "var i *int\n",
    "i"
   ]
  },
  {
   "cell_type": "code",
   "execution_count": 22,
   "id": "270c3a1a-24bf-41a2-8966-9e22a6a89478",
   "metadata": {},
   "outputs": [
    {
     "ename": "ERROR",
     "evalue": "reflect: call of reflect.Value.Int on zero Value",
     "output_type": "error",
     "traceback": [
      "reflect: call of reflect.Value.Int on zero Value"
     ]
    }
   ],
   "source": [
    "*i"
   ]
  },
  {
   "cell_type": "markdown",
   "id": "d2c5c6ca-ea67-486c-bd4b-967a5b6c22af",
   "metadata": {},
   "source": [
    "指针传递是很廉价的，只占用 4 个或 8 个字节。当程序在工作中需要占用大量的内存，或很多变量，或者两者都有，使用指针会减少内存占用和提高效率。"
   ]
  }
 ],
 "metadata": {
  "kernelspec": {
   "display_name": "Go",
   "language": "go",
   "name": "gophernotes"
  },
  "language_info": {
   "codemirror_mode": "",
   "file_extension": ".go",
   "mimetype": "",
   "name": "go",
   "nbconvert_exporter": "",
   "pygments_lexer": "",
   "version": "go1.17.3"
  }
 },
 "nbformat": 4,
 "nbformat_minor": 5
}
